{
 "cells": [
  {
   "cell_type": "code",
   "execution_count": 1,
   "metadata": {
    "id": "VyUovCKnflch"
   },
   "outputs": [],
   "source": [
    "# importing the necessary libraries\n",
    "import pandas as pd\n",
    "import numpy as np\n",
    "import matplotlib.pyplot as plt\n",
    "import seaborn as sb\n",
    "import statsmodels.api as sm\n",
    "%matplotlib inline"
   ]
  },
  {
   "cell_type": "code",
   "execution_count": 2,
   "metadata": {
    "colab": {
     "base_uri": "https://localhost:8080/",
     "height": 436
    },
    "id": "yetLdq7RVhv_",
    "outputId": "7f03fe2d-3c40-497e-935b-4e63ea2e9e1f"
   },
   "outputs": [
    {
     "data": {
      "text/html": [
       "<div>\n",
       "<style scoped>\n",
       "    .dataframe tbody tr th:only-of-type {\n",
       "        vertical-align: middle;\n",
       "    }\n",
       "\n",
       "    .dataframe tbody tr th {\n",
       "        vertical-align: top;\n",
       "    }\n",
       "\n",
       "    .dataframe thead th {\n",
       "        text-align: right;\n",
       "    }\n",
       "</style>\n",
       "<table border=\"1\" class=\"dataframe\">\n",
       "  <thead>\n",
       "    <tr style=\"text-align: right;\">\n",
       "      <th></th>\n",
       "      <th>Customer ID</th>\n",
       "      <th>Gender</th>\n",
       "      <th>Age</th>\n",
       "      <th>Married</th>\n",
       "      <th>Number of Dependents</th>\n",
       "      <th>City</th>\n",
       "      <th>Zip Code</th>\n",
       "      <th>Latitude</th>\n",
       "      <th>Longitude</th>\n",
       "      <th>Number of Referrals</th>\n",
       "      <th>...</th>\n",
       "      <th>Payment Method</th>\n",
       "      <th>Monthly Charge</th>\n",
       "      <th>Total Charges</th>\n",
       "      <th>Total Refunds</th>\n",
       "      <th>Total Extra Data Charges</th>\n",
       "      <th>Total Long Distance Charges</th>\n",
       "      <th>Total Revenue</th>\n",
       "      <th>Customer Status</th>\n",
       "      <th>Churn Category</th>\n",
       "      <th>Churn Reason</th>\n",
       "    </tr>\n",
       "  </thead>\n",
       "  <tbody>\n",
       "    <tr>\n",
       "      <th>0</th>\n",
       "      <td>0002-ORFBO</td>\n",
       "      <td>Female</td>\n",
       "      <td>37</td>\n",
       "      <td>Yes</td>\n",
       "      <td>0</td>\n",
       "      <td>Frazier Park</td>\n",
       "      <td>93225</td>\n",
       "      <td>34.827662</td>\n",
       "      <td>-118.999073</td>\n",
       "      <td>2</td>\n",
       "      <td>...</td>\n",
       "      <td>Credit Card</td>\n",
       "      <td>65.6</td>\n",
       "      <td>593.30</td>\n",
       "      <td>0.00</td>\n",
       "      <td>0</td>\n",
       "      <td>381.51</td>\n",
       "      <td>974.81</td>\n",
       "      <td>Stayed</td>\n",
       "      <td>NaN</td>\n",
       "      <td>NaN</td>\n",
       "    </tr>\n",
       "    <tr>\n",
       "      <th>1</th>\n",
       "      <td>0003-MKNFE</td>\n",
       "      <td>Male</td>\n",
       "      <td>46</td>\n",
       "      <td>No</td>\n",
       "      <td>0</td>\n",
       "      <td>Glendale</td>\n",
       "      <td>91206</td>\n",
       "      <td>34.162515</td>\n",
       "      <td>-118.203869</td>\n",
       "      <td>0</td>\n",
       "      <td>...</td>\n",
       "      <td>Credit Card</td>\n",
       "      <td>-4.0</td>\n",
       "      <td>542.40</td>\n",
       "      <td>38.33</td>\n",
       "      <td>10</td>\n",
       "      <td>96.21</td>\n",
       "      <td>610.28</td>\n",
       "      <td>Stayed</td>\n",
       "      <td>NaN</td>\n",
       "      <td>NaN</td>\n",
       "    </tr>\n",
       "    <tr>\n",
       "      <th>2</th>\n",
       "      <td>0004-TLHLJ</td>\n",
       "      <td>Male</td>\n",
       "      <td>50</td>\n",
       "      <td>No</td>\n",
       "      <td>0</td>\n",
       "      <td>Costa Mesa</td>\n",
       "      <td>92627</td>\n",
       "      <td>33.645672</td>\n",
       "      <td>-117.922613</td>\n",
       "      <td>0</td>\n",
       "      <td>...</td>\n",
       "      <td>Bank Withdrawal</td>\n",
       "      <td>73.9</td>\n",
       "      <td>280.85</td>\n",
       "      <td>0.00</td>\n",
       "      <td>0</td>\n",
       "      <td>134.60</td>\n",
       "      <td>415.45</td>\n",
       "      <td>Churned</td>\n",
       "      <td>Competitor</td>\n",
       "      <td>Competitor had better devices</td>\n",
       "    </tr>\n",
       "    <tr>\n",
       "      <th>3</th>\n",
       "      <td>0011-IGKFF</td>\n",
       "      <td>Male</td>\n",
       "      <td>78</td>\n",
       "      <td>Yes</td>\n",
       "      <td>0</td>\n",
       "      <td>Martinez</td>\n",
       "      <td>94553</td>\n",
       "      <td>38.014457</td>\n",
       "      <td>-122.115432</td>\n",
       "      <td>1</td>\n",
       "      <td>...</td>\n",
       "      <td>Bank Withdrawal</td>\n",
       "      <td>98.0</td>\n",
       "      <td>1237.85</td>\n",
       "      <td>0.00</td>\n",
       "      <td>0</td>\n",
       "      <td>361.66</td>\n",
       "      <td>1599.51</td>\n",
       "      <td>Churned</td>\n",
       "      <td>Dissatisfaction</td>\n",
       "      <td>Product dissatisfaction</td>\n",
       "    </tr>\n",
       "    <tr>\n",
       "      <th>4</th>\n",
       "      <td>0013-EXCHZ</td>\n",
       "      <td>Female</td>\n",
       "      <td>75</td>\n",
       "      <td>Yes</td>\n",
       "      <td>0</td>\n",
       "      <td>Camarillo</td>\n",
       "      <td>93010</td>\n",
       "      <td>34.227846</td>\n",
       "      <td>-119.079903</td>\n",
       "      <td>3</td>\n",
       "      <td>...</td>\n",
       "      <td>Credit Card</td>\n",
       "      <td>83.9</td>\n",
       "      <td>267.40</td>\n",
       "      <td>0.00</td>\n",
       "      <td>0</td>\n",
       "      <td>22.14</td>\n",
       "      <td>289.54</td>\n",
       "      <td>Churned</td>\n",
       "      <td>Dissatisfaction</td>\n",
       "      <td>Network reliability</td>\n",
       "    </tr>\n",
       "  </tbody>\n",
       "</table>\n",
       "<p>5 rows × 38 columns</p>\n",
       "</div>"
      ],
      "text/plain": [
       "  Customer ID  Gender  Age Married  Number of Dependents          City  \\\n",
       "0  0002-ORFBO  Female   37     Yes                     0  Frazier Park   \n",
       "1  0003-MKNFE    Male   46      No                     0      Glendale   \n",
       "2  0004-TLHLJ    Male   50      No                     0    Costa Mesa   \n",
       "3  0011-IGKFF    Male   78     Yes                     0      Martinez   \n",
       "4  0013-EXCHZ  Female   75     Yes                     0     Camarillo   \n",
       "\n",
       "   Zip Code   Latitude   Longitude  Number of Referrals  ...   Payment Method  \\\n",
       "0     93225  34.827662 -118.999073                    2  ...      Credit Card   \n",
       "1     91206  34.162515 -118.203869                    0  ...      Credit Card   \n",
       "2     92627  33.645672 -117.922613                    0  ...  Bank Withdrawal   \n",
       "3     94553  38.014457 -122.115432                    1  ...  Bank Withdrawal   \n",
       "4     93010  34.227846 -119.079903                    3  ...      Credit Card   \n",
       "\n",
       "  Monthly Charge Total Charges  Total Refunds Total Extra Data Charges  \\\n",
       "0           65.6        593.30           0.00                        0   \n",
       "1           -4.0        542.40          38.33                       10   \n",
       "2           73.9        280.85           0.00                        0   \n",
       "3           98.0       1237.85           0.00                        0   \n",
       "4           83.9        267.40           0.00                        0   \n",
       "\n",
       "  Total Long Distance Charges Total Revenue  Customer Status   Churn Category  \\\n",
       "0                      381.51        974.81           Stayed              NaN   \n",
       "1                       96.21        610.28           Stayed              NaN   \n",
       "2                      134.60        415.45          Churned       Competitor   \n",
       "3                      361.66       1599.51          Churned  Dissatisfaction   \n",
       "4                       22.14        289.54          Churned  Dissatisfaction   \n",
       "\n",
       "                    Churn Reason  \n",
       "0                            NaN  \n",
       "1                            NaN  \n",
       "2  Competitor had better devices  \n",
       "3        Product dissatisfaction  \n",
       "4            Network reliability  \n",
       "\n",
       "[5 rows x 38 columns]"
      ]
     },
     "execution_count": 2,
     "metadata": {},
     "output_type": "execute_result"
    }
   ],
   "source": [
    "#df = pd.read_csv('/content/drive/MyDrive/telecom_customer_churn.csv')\n",
    "url = \"https://raw.githubusercontent.com/tanqing2001/datafile/main/telecom_customer_churn.csv\"\n",
    "df = pd.read_csv(url)\n",
    "df.head()"
   ]
  },
  {
   "cell_type": "code",
   "execution_count": 3,
   "metadata": {
    "colab": {
     "base_uri": "https://localhost:8080/"
    },
    "id": "UP3hw6BEXHPm",
    "outputId": "7b0142a0-dacd-49cb-cd22-c9ae3aaebee1"
   },
   "outputs": [
    {
     "name": "stdout",
     "output_type": "stream",
     "text": [
      "<class 'pandas.core.frame.DataFrame'>\n",
      "RangeIndex: 7043 entries, 0 to 7042\n",
      "Data columns (total 38 columns):\n",
      " #   Column                             Non-Null Count  Dtype  \n",
      "---  ------                             --------------  -----  \n",
      " 0   Customer ID                        7043 non-null   object \n",
      " 1   Gender                             7043 non-null   object \n",
      " 2   Age                                7043 non-null   int64  \n",
      " 3   Married                            7043 non-null   object \n",
      " 4   Number of Dependents               7043 non-null   int64  \n",
      " 5   City                               7043 non-null   object \n",
      " 6   Zip Code                           7043 non-null   int64  \n",
      " 7   Latitude                           7043 non-null   float64\n",
      " 8   Longitude                          7043 non-null   float64\n",
      " 9   Number of Referrals                7043 non-null   int64  \n",
      " 10  Tenure in Months                   7043 non-null   int64  \n",
      " 11  Offer                              3166 non-null   object \n",
      " 12  Phone Service                      7043 non-null   object \n",
      " 13  Avg Monthly Long Distance Charges  6361 non-null   float64\n",
      " 14  Multiple Lines                     6361 non-null   object \n",
      " 15  Internet Service                   7043 non-null   object \n",
      " 16  Internet Type                      5517 non-null   object \n",
      " 17  Avg Monthly GB Download            5517 non-null   float64\n",
      " 18  Online Security                    5517 non-null   object \n",
      " 19  Online Backup                      5517 non-null   object \n",
      " 20  Device Protection Plan             5517 non-null   object \n",
      " 21  Premium Tech Support               5517 non-null   object \n",
      " 22  Streaming TV                       5517 non-null   object \n",
      " 23  Streaming Movies                   5517 non-null   object \n",
      " 24  Streaming Music                    5517 non-null   object \n",
      " 25  Unlimited Data                     5517 non-null   object \n",
      " 26  Contract                           7043 non-null   object \n",
      " 27  Paperless Billing                  7043 non-null   object \n",
      " 28  Payment Method                     7043 non-null   object \n",
      " 29  Monthly Charge                     7043 non-null   float64\n",
      " 30  Total Charges                      7043 non-null   float64\n",
      " 31  Total Refunds                      7043 non-null   float64\n",
      " 32  Total Extra Data Charges           7043 non-null   int64  \n",
      " 33  Total Long Distance Charges        7043 non-null   float64\n",
      " 34  Total Revenue                      7043 non-null   float64\n",
      " 35  Customer Status                    7043 non-null   object \n",
      " 36  Churn Category                     1869 non-null   object \n",
      " 37  Churn Reason                       1869 non-null   object \n",
      "dtypes: float64(9), int64(6), object(23)\n",
      "memory usage: 2.0+ MB\n"
     ]
    }
   ],
   "source": [
    "# data fram size\n",
    "\n",
    "df.info()"
   ]
  },
  {
   "cell_type": "code",
   "execution_count": 4,
   "metadata": {
    "colab": {
     "base_uri": "https://localhost:8080/"
    },
    "id": "76Ge3eLwXTx2",
    "outputId": "8197efc1-af1b-45e1-ca61-f9cb2ce895cb"
   },
   "outputs": [
    {
     "data": {
      "text/plain": [
       "Index(['Customer_ID', 'Gender', 'Age', 'Married', 'Number_of_Dependents',\n",
       "       'City', 'Zip_Code', 'Latitude', 'Longitude', 'Number_of_Referrals',\n",
       "       'Tenure_in_Months', 'Offer', 'Phone_Service',\n",
       "       'Avg_Monthly_Long_Distance_Charges', 'Multiple_Lines',\n",
       "       'Internet_Service', 'Internet_Type', 'Avg_Monthly_GB_Download',\n",
       "       'Online_Security', 'Online_Backup', 'Device_Protection_Plan',\n",
       "       'Premium_Tech_Support', 'Streaming_TV', 'Streaming_Movies',\n",
       "       'Streaming_Music', 'Unlimited_Data', 'Contract', 'Paperless_Billing',\n",
       "       'Payment_Method', 'Monthly_Charge', 'Total_Charges', 'Total_Refunds',\n",
       "       'Total_Extra_Data_Charges', 'Total_Long_Distance_Charges',\n",
       "       'Total_Revenue', 'Customer_Status', 'Churn_Category', 'Churn_Reason'],\n",
       "      dtype='object')"
      ]
     },
     "execution_count": 4,
     "metadata": {},
     "output_type": "execute_result"
    }
   ],
   "source": [
    "#replacing the space of the columns names by _\n",
    "df.columns = df.columns.str.replace(' ', '_')\n",
    "# test if replacing is done\n",
    "df.columns"
   ]
  },
  {
   "cell_type": "code",
   "execution_count": 5,
   "metadata": {
    "colab": {
     "base_uri": "https://localhost:8080/"
    },
    "id": "pz_hUvuq_X_L",
    "outputId": "f007b680-91a0-4fb2-92e6-03cdb572c118"
   },
   "outputs": [
    {
     "data": {
      "text/plain": [
       "Index(['Customer_ID', 'Gender', 'Age', 'Married', 'Number_of_Dependents',\n",
       "       'City', 'Zip_Code', 'Latitude', 'Longitude', 'Number_of_Referrals',\n",
       "       'Tenure_in_Months', 'Offer', 'Phone_Service',\n",
       "       'Avg_Monthly_Long_Distance_Charges', 'Multiple_Lines',\n",
       "       'Internet_Service', 'Internet_Type', 'Avg_Monthly_GB_Download',\n",
       "       'Online_Security', 'Online_Backup', 'Device_Protection_Plan',\n",
       "       'Premium_Tech_Support', 'Streaming_TV', 'Streaming_Movies',\n",
       "       'Streaming_Music', 'Unlimited_Data', 'Contract', 'Paperless_Billing',\n",
       "       'Payment_Method', 'Monthly_Charge', 'Total_Charges', 'Total_Refunds',\n",
       "       'Total_Extra_Data_Charges', 'Total_Long_Distance_Charges',\n",
       "       'Total_Revenue', 'Customer_Status', 'Churn_Category', 'Churn_Reason',\n",
       "       'Churned', 'Stayed'],\n",
       "      dtype='object')"
      ]
     },
     "execution_count": 5,
     "metadata": {},
     "output_type": "execute_result"
    }
   ],
   "source": [
    "# Delete all records where 'customer_status' is 'Joined'\n",
    "df = df[df['Customer_Status'] != 'Joined']\n",
    "\n",
    "\n",
    "# getting dumies variabls for the Customer_Status column\n",
    "df[[\"Churned\",\"Stayed\"]]= pd.get_dummies(df.Customer_Status)\n",
    "\n",
    "df.columns"
   ]
  },
  {
   "cell_type": "code",
   "execution_count": 6,
   "metadata": {
    "colab": {
     "base_uri": "https://localhost:8080/"
    },
    "id": "iT3M_eelbv7O",
    "outputId": "83a04363-0a61-4f9a-ebaf-05c5e04acde0"
   },
   "outputs": [
    {
     "data": {
      "text/plain": [
       "Index(['Customer_ID', 'Gender', 'Age', 'Married', 'Number_of_Dependents',\n",
       "       'City', 'Zip_Code', 'Latitude', 'Longitude', 'Number_of_Referrals',\n",
       "       'Tenure_in_Months', 'Offer', 'Phone_Service',\n",
       "       'Avg_Monthly_Long_Distance_Charges', 'Multiple_Lines',\n",
       "       'Internet_Service', 'Internet_Type', 'Avg_Monthly_GB_Download',\n",
       "       'Online_Security', 'Online_Backup', 'Device_Protection_Plan',\n",
       "       'Premium_Tech_Support', 'Streaming_TV', 'Streaming_Movies',\n",
       "       'Streaming_Music', 'Unlimited_Data', 'Contract', 'Paperless_Billing',\n",
       "       'Payment_Method', 'Monthly_Charge', 'Total_Charges', 'Total_Refunds',\n",
       "       'Total_Extra_Data_Charges', 'Total_Long_Distance_Charges',\n",
       "       'Total_Revenue', 'Customer_Status', 'Churn_Category', 'Churn_Reason',\n",
       "       'Churned', 'Stayed', 'Contract_Monthly', 'Contract_OneYear',\n",
       "       'Contract_TwoYear'],\n",
       "      dtype='object')"
      ]
     },
     "execution_count": 6,
     "metadata": {},
     "output_type": "execute_result"
    }
   ],
   "source": [
    "df[[\"Month-to-Month\",\"One year\",\"Two Year\"]]= pd.get_dummies(df.Contract)\n",
    "\n",
    "df.rename(columns={'Month-to-Month': 'Contract_Monthly'}, inplace=True)\n",
    "df.rename(columns={'One year': 'Contract_OneYear'}, inplace=True)\n",
    "df.rename(columns={'Two Year': 'Contract_TwoYear'}, inplace=True)\n",
    "\n",
    "# testing if columns were added\n",
    "df.columns"
   ]
  },
  {
   "cell_type": "code",
   "execution_count": 7,
   "metadata": {
    "colab": {
     "base_uri": "https://localhost:8080/",
     "height": 1000
    },
    "id": "u3IXwznQzVMf",
    "outputId": "e97d16d7-827f-423e-8c36-b26ee3f88726"
   },
   "outputs": [
    {
     "data": {
      "image/png": "[encoded data removed]",
      "text/plain": [
       "<Figure size 600x400 with 1 Axes>"
      ]
     },
     "metadata": {},
     "output_type": "display_data"
    },
    {
     "data": {
      "image/png": "[encoded data removed]",
      "text/plain": [
       "<Figure size 600x400 with 1 Axes>"
      ]
     },
     "metadata": {},
     "output_type": "display_data"
    },
    {
     "data": {
      "image/png": "[encoded data removed]",
      "text/plain": [
       "<Figure size 600x400 with 1 Axes>"
      ]
     },
     "metadata": {},
     "output_type": "display_data"
    }
   ],
   "source": [
    "churn_by_gender = df.groupby('Gender')['Customer_Status'].apply(lambda x: (x == 'Churned').mean()*100)\n",
    "churn_by_age = df.groupby('Age')['Customer_Status'].apply(lambda x: (x == 'Churned').mean() * 100)\n",
    "churn_by_marriage = df.groupby('Married')['Customer_Status'].apply(lambda x: (x == 'Churned').mean()*100)\n",
    "\n",
    "plt.rcParams[\"figure.figsize\"] = (6,4)\n",
    "# Visualize the churn_by_gender\n",
    "plt.bar(churn_by_gender.index, churn_by_gender, color=[\"pink\", \"blue\"])\n",
    "plt.xlabel('Gender')\n",
    "plt.ylabel('Churn Rate')\n",
    "plt.title('CHURN RATE BY GENDER')\n",
    "plt.show()\n",
    "\n",
    "# Visualize the churn_by_age\n",
    "plt.plot(churn_by_age.index, churn_by_age, color=\"red\")\n",
    "plt.xlabel('Age')\n",
    "plt.ylabel('Churn Rate')\n",
    "plt.title('CHURN RATE BY AGE')\n",
    "plt.show()\n",
    "\n",
    "#Visualize the churn rate according to marriage status\n",
    "plt.bar(churn_by_marriage.index, churn_by_marriage, color=[\"red\", \"green\"])\n",
    "plt.xlabel('Marriage Status')\n",
    "plt.ylabel('Churn Rate')\n",
    "plt.title('CHURN RATE BY MARRIAGE')\n",
    "plt.show()"
   ]
  },
  {
   "cell_type": "code",
   "execution_count": 8,
   "metadata": {
    "colab": {
     "base_uri": "https://localhost:8080/"
    },
    "id": "upP9WF5qXhZe",
    "outputId": "b33dc8e0-77ed-430c-e9cc-e54b17d7410f"
   },
   "outputs": [
    {
     "data": {
      "text/plain": [
       "Customer_Status\n",
       "Stayed     4720\n",
       "Churned    1869\n",
       "Name: count, dtype: int64"
      ]
     },
     "execution_count": 8,
     "metadata": {},
     "output_type": "execute_result"
    }
   ],
   "source": [
    "#counting values of the customer status\n",
    "\n",
    "counts_Customer_Status = df.Customer_Status.value_counts()\n",
    "counts_Customer_Status"
   ]
  },
  {
   "cell_type": "code",
   "execution_count": null,
   "metadata": {
    "id": "P21_kLSuzNJ0"
   },
   "outputs": [],
   "source": []
  },
  {
   "cell_type": "code",
   "execution_count": 9,
   "metadata": {
    "id": "0zqlitp2XoBg"
   },
   "outputs": [],
   "source": [
    "plt.rcParams[\"figure.figsize\"] = (13,8)\n",
    "mycolors = [\"g\", \"r\", \"hotpink\"]\n",
    "# making a function for pie charts to use it later to avoid copy the codes\n",
    "def pie(pie_data,mycolors,title):\n",
    "    plt.title(title)\n",
    "    plt.pie(pie_data,labels = pie_data.index, startangle = 90, counterclock = False , autopct='%.1f%%',colors= mycolors)"
   ]
  },
  {
   "cell_type": "code",
   "execution_count": 10,
   "metadata": {
    "colab": {
     "base_uri": "https://localhost:8080/",
     "height": 675
    },
    "id": "UUXUtP6fXpQ8",
    "outputId": "57c7c8f2-e807-476b-b322-1a36e0f4a5bf"
   },
   "outputs": [
    {
     "data": {
      "image/png": "[encoded data removed]",
      "text/plain": [
       "<Figure size 1300x800 with 1 Axes>"
      ]
     },
     "metadata": {},
     "output_type": "display_data"
    }
   ],
   "source": [
    "pie(counts_Customer_Status,mycolors,\"percentage of Customer_Status \")"
   ]
  },
  {
   "cell_type": "code",
   "execution_count": null,
   "metadata": {
    "id": "WCErCJgAXts3"
   },
   "outputs": [],
   "source": []
  },
  {
   "cell_type": "markdown",
   "metadata": {
    "id": "7CCRtjWTyXN2"
   },
   "source": [
    "The impact of the total amount of months that the customer has been with the company on the churning of the clients."
   ]
  },
  {
   "cell_type": "code",
   "execution_count": 11,
   "metadata": {
    "colab": {
     "base_uri": "https://localhost:8080/",
     "height": 487
    },
    "id": "IOn9ErPCyYT3",
    "outputId": "1099181d-45b4-472e-a798-c109f72e1f4f"
   },
   "outputs": [
    {
     "data": {
      "image/png": "[encoded data removed]",
      "text/plain": [
       "<Figure size 1200x500 with 1 Axes>"
      ]
     },
     "metadata": {},
     "output_type": "display_data"
    }
   ],
   "source": [
    "plt.rcParams[\"figure.figsize\"] = (12,5)\n",
    "bins = np.arange(0, df.query(\"Churned > 0\" ).Tenure_in_Months.max()+2, 1)\n",
    "plt.hist(df.query(\"Churned > 0\" ).Tenure_in_Months, bins = bins,color = sb.color_palette()[9])\n",
    "plt.xlim(0,74)\n",
    "plt.title(\"distribution of churned clients over the Tenure in Months\")\n",
    "plt.xlabel(\"Tenure in Months\")\n",
    "plt.ylabel(\"count of churned clients\");"
   ]
  },
  {
   "cell_type": "code",
   "execution_count": 12,
   "metadata": {
    "colab": {
     "base_uri": "https://localhost:8080/",
     "height": 487
    },
    "id": "hzIdWY1ZwcXd",
    "outputId": "5a2cb05f-3e7c-48ee-8b05-581ced5c6248"
   },
   "outputs": [
    {
     "data": {
      "image/png": "[encoded data removed]",
      "text/plain": [
       "<Figure size 1100x500 with 1 Axes>"
      ]
     },
     "metadata": {},
     "output_type": "display_data"
    }
   ],
   "source": [
    "plt.rcParams[\"figure.figsize\"] = (11,5)\n",
    "sb.boxplot(data=df, x='Contract', y='Total_Revenue')\n",
    "plt.title(\"Revenue Per contract type\");"
   ]
  },
  {
   "cell_type": "code",
   "execution_count": 13,
   "metadata": {
    "colab": {
     "base_uri": "https://localhost:8080/",
     "height": 564
    },
    "id": "q0wBYJZe1rnQ",
    "outputId": "dddf53d3-659a-4e02-bf9b-20befd530426"
   },
   "outputs": [
    {
     "data": {
      "image/png": "[encoded data removed]",
      "text/plain": [
       "<Figure size 1300x600 with 2 Axes>"
      ]
     },
     "metadata": {},
     "output_type": "display_data"
    }
   ],
   "source": [
    "plt.rcParams[\"figure.figsize\"] = (13,6)\n",
    "plt.subplot(1,2,1)\n",
    "sb.violinplot(data=df, x='Customer_Status', y='Monthly_Charge')\n",
    "plt.title(\"monthly charge\")\n",
    "plt.subplot(1,2,2)\n",
    "sb.violinplot(data=df, x='Customer_Status', y='Total_Charges')\n",
    "plt.title(\"end of the quarter charge\");"
   ]
  },
  {
   "cell_type": "code",
   "execution_count": 14,
   "metadata": {
    "colab": {
     "base_uri": "https://localhost:8080/"
    },
    "id": "b4jwjVNw97Ho",
    "outputId": "953d7384-824c-4781-da00-dc374583ed74"
   },
   "outputs": [
    {
     "name": "stdout",
     "output_type": "stream",
     "text": [
      "<class 'pandas.core.frame.DataFrame'>\n",
      "Index: 6589 entries, 0 to 7042\n",
      "Data columns (total 43 columns):\n",
      " #   Column                             Non-Null Count  Dtype  \n",
      "---  ------                             --------------  -----  \n",
      " 0   Customer_ID                        6589 non-null   object \n",
      " 1   Gender                             6589 non-null   object \n",
      " 2   Age                                6589 non-null   int64  \n",
      " 3   Married                            6589 non-null   object \n",
      " 4   Number_of_Dependents               6589 non-null   int64  \n",
      " 5   City                               6589 non-null   object \n",
      " 6   Zip_Code                           6589 non-null   int64  \n",
      " 7   Latitude                           6589 non-null   float64\n",
      " 8   Longitude                          6589 non-null   float64\n",
      " 9   Number_of_Referrals                6589 non-null   int64  \n",
      " 10  Tenure_in_Months                   6589 non-null   int64  \n",
      " 11  Offer                              2991 non-null   object \n",
      " 12  Phone_Service                      6589 non-null   object \n",
      " 13  Avg_Monthly_Long_Distance_Charges  5945 non-null   float64\n",
      " 14  Multiple_Lines                     5945 non-null   object \n",
      " 15  Internet_Service                   6589 non-null   object \n",
      " 16  Internet_Type                      5245 non-null   object \n",
      " 17  Avg_Monthly_GB_Download            5245 non-null   float64\n",
      " 18  Online_Security                    5245 non-null   object \n",
      " 19  Online_Backup                      5245 non-null   object \n",
      " 20  Device_Protection_Plan             5245 non-null   object \n",
      " 21  Premium_Tech_Support               5245 non-null   object \n",
      " 22  Streaming_TV                       5245 non-null   object \n",
      " 23  Streaming_Movies                   5245 non-null   object \n",
      " 24  Streaming_Music                    5245 non-null   object \n",
      " 25  Unlimited_Data                     5245 non-null   object \n",
      " 26  Contract                           6589 non-null   object \n",
      " 27  Paperless_Billing                  6589 non-null   object \n",
      " 28  Payment_Method                     6589 non-null   object \n",
      " 29  Monthly_Charge                     6589 non-null   float64\n",
      " 30  Total_Charges                      6589 non-null   float64\n",
      " 31  Total_Refunds                      6589 non-null   float64\n",
      " 32  Total_Extra_Data_Charges           6589 non-null   int64  \n",
      " 33  Total_Long_Distance_Charges        6589 non-null   float64\n",
      " 34  Total_Revenue                      6589 non-null   float64\n",
      " 35  Customer_Status                    6589 non-null   object \n",
      " 36  Churn_Category                     1869 non-null   object \n",
      " 37  Churn_Reason                       1869 non-null   object \n",
      " 38  Churned                            6589 non-null   bool   \n",
      " 39  Stayed                             6589 non-null   bool   \n",
      " 40  Contract_Monthly                   6589 non-null   bool   \n",
      " 41  Contract_OneYear                   6589 non-null   bool   \n",
      " 42  Contract_TwoYear                   6589 non-null   bool   \n",
      "dtypes: bool(5), float64(9), int64(6), object(23)\n",
      "memory usage: 2.0+ MB\n"
     ]
    }
   ],
   "source": [
    "df.info()"
   ]
  },
  {
   "cell_type": "code",
   "execution_count": 15,
   "metadata": {
    "colab": {
     "base_uri": "https://localhost:8080/"
    },
    "id": "nHGANuX966s6",
    "outputId": "2ab6267a-c6cf-408a-a412-367784024121"
   },
   "outputs": [
    {
     "name": "stdout",
     "output_type": "stream",
     "text": [
      "<class 'pandas.core.frame.DataFrame'>\n",
      "Index: 6589 entries, 0 to 7042\n",
      "Data columns (total 21 columns):\n",
      " #   Column                             Non-Null Count  Dtype  \n",
      "---  ------                             --------------  -----  \n",
      " 0   Gender                             6589 non-null   object \n",
      " 1   Age                                6589 non-null   int64  \n",
      " 2   Married                            6589 non-null   object \n",
      " 3   Number_of_Dependents               6589 non-null   int64  \n",
      " 4   Tenure_in_Months                   6589 non-null   int64  \n",
      " 5   Phone_Service                      6589 non-null   object \n",
      " 6   Avg_Monthly_Long_Distance_Charges  5945 non-null   float64\n",
      " 7   Multiple_Lines                     5945 non-null   object \n",
      " 8   Internet_Service                   6589 non-null   object \n",
      " 9   Avg_Monthly_GB_Download            5245 non-null   float64\n",
      " 10  Streaming_TV                       5245 non-null   object \n",
      " 11  Streaming_Movies                   5245 non-null   object \n",
      " 12  Streaming_Music                    5245 non-null   object \n",
      " 13  Unlimited_Data                     5245 non-null   object \n",
      " 14  Paperless_Billing                  6589 non-null   object \n",
      " 15  Monthly_Charge                     6589 non-null   float64\n",
      " 16  Total_Charges                      6589 non-null   float64\n",
      " 17  Churned                            6589 non-null   bool   \n",
      " 18  Stayed                             6589 non-null   bool   \n",
      " 19  Contract_Monthly                   6589 non-null   bool   \n",
      " 20  Contract_OneYear                   6589 non-null   bool   \n",
      "dtypes: bool(4), float64(4), int64(3), object(10)\n",
      "memory usage: 952.3+ KB\n"
     ]
    }
   ],
   "source": [
    "model_db = df.iloc[:, [1, 2, 3, 4, 10, 12, 13, 14, 15, 17, 22,23,24, 25, 27, 29, 30, 38,39,40,41]]\n",
    "model_db.info()"
   ]
  },
  {
   "cell_type": "markdown",
   "metadata": {
    "id": "tQ4-igZQe9-K"
   },
   "source": [
    "**Logistic Regression Analysis**"
   ]
  },
  {
   "cell_type": "code",
   "execution_count": 16,
   "metadata": {
    "colab": {
     "base_uri": "https://localhost:8080/"
    },
    "id": "r_TJvA2wpoFG",
    "outputId": "a65128f1-986c-48de-d312-412e034cc689"
   },
   "outputs": [
    {
     "name": "stdout",
     "output_type": "stream",
     "text": [
      "<class 'pandas.core.frame.DataFrame'>\n",
      "Index: 6589 entries, 0 to 7042\n",
      "Data columns (total 22 columns):\n",
      " #   Column                             Non-Null Count  Dtype  \n",
      "---  ------                             --------------  -----  \n",
      " 0   Gender                             6589 non-null   object \n",
      " 1   Age                                6589 non-null   int64  \n",
      " 2   Married                            6589 non-null   object \n",
      " 3   Number_of_Dependents               6589 non-null   int64  \n",
      " 4   Tenure_in_Months                   6589 non-null   int64  \n",
      " 5   Phone_Service                      6589 non-null   object \n",
      " 6   Avg_Monthly_Long_Distance_Charges  5945 non-null   float64\n",
      " 7   Multiple_Lines                     5945 non-null   object \n",
      " 8   Internet_Service                   6589 non-null   object \n",
      " 9   Avg_Monthly_GB_Download            5245 non-null   float64\n",
      " 10  Streaming_TV                       5245 non-null   object \n",
      " 11  Streaming_Movies                   5245 non-null   object \n",
      " 12  Streaming_Music                    5245 non-null   object \n",
      " 13  Unlimited_Data                     5245 non-null   object \n",
      " 14  Paperless_Billing                  6589 non-null   object \n",
      " 15  Payment_Method                     6589 non-null   object \n",
      " 16  Monthly_Charge                     6589 non-null   float64\n",
      " 17  Total_Charges                      6589 non-null   float64\n",
      " 18  Churned                            6589 non-null   bool   \n",
      " 19  Contract_Monthly                   6589 non-null   bool   \n",
      " 20  Contract_OneYear                   6589 non-null   bool   \n",
      " 21  Contract_TwoYear                   6589 non-null   bool   \n",
      "dtypes: bool(4), float64(4), int64(3), object(11)\n",
      "memory usage: 1003.8+ KB\n"
     ]
    }
   ],
   "source": [
    "model_db1 = df.iloc[:, [1, 2, 3, 4, 10, 12, 13, 14, 15, 17, 22,23,24, 25, 27, 28, 29, 30, 38, 40, 41, 42]]\n",
    "model_db1.info()"
   ]
  },
  {
   "cell_type": "markdown",
   "metadata": {
    "id": "LgBTIwbndivc"
   },
   "source": [
    "**Managing Null**"
   ]
  },
  {
   "cell_type": "code",
   "execution_count": 17,
   "metadata": {
    "colab": {
     "base_uri": "https://localhost:8080/"
    },
    "id": "TPU1VISTdfXq",
    "outputId": "37b4c78c-7e77-4577-ccb6-cdec03f8f5bc"
   },
   "outputs": [
    {
     "data": {
      "text/plain": [
       "Gender                                  0\n",
       "Age                                     0\n",
       "Married                                 0\n",
       "Number_of_Dependents                    0\n",
       "Tenure_in_Months                        0\n",
       "Phone_Service                           0\n",
       "Avg_Monthly_Long_Distance_Charges     644\n",
       "Multiple_Lines                        644\n",
       "Internet_Service                        0\n",
       "Avg_Monthly_GB_Download              1344\n",
       "Streaming_TV                         1344\n",
       "Streaming_Movies                     1344\n",
       "Streaming_Music                      1344\n",
       "Unlimited_Data                       1344\n",
       "Paperless_Billing                       0\n",
       "Payment_Method                          0\n",
       "Monthly_Charge                          0\n",
       "Total_Charges                           0\n",
       "Churned                                 0\n",
       "Contract_Monthly                        0\n",
       "Contract_OneYear                        0\n",
       "Contract_TwoYear                        0\n",
       "dtype: int64"
      ]
     },
     "execution_count": 17,
     "metadata": {},
     "output_type": "execute_result"
    }
   ],
   "source": [
    "#Checking missing values\n",
    "model_db1.isnull().sum()"
   ]
  },
  {
   "cell_type": "markdown",
   "metadata": {
    "id": "6nA0x8MWd3A-"
   },
   "source": [
    "The fields Avg_Monthly_Long_Distance_Charges, Multiple_Lines, Avg_Monthly_GB_Download, Streaming_TV, Streaming_Movies, Streaming_Music and  Unlimited_Data has a good number of nulls. Deleting these records would be a loss of data considering the number of records. Hence we will have to manage these data.\n",
    " - For multiple lines the data would not have been provided because they did not have multiple lines. Hence replace it with 'No'\n",
    " - For Avg_Monthly_GB_Download, the missing data could be because they did not have any. So replacing it with 0.\n",
    " - For all other columns being Yes/No field, the missing value could be because they did not have that option available. Hence filling it with 'No'"
   ]
  },
  {
   "cell_type": "code",
   "execution_count": 18,
   "metadata": {
    "id": "D5Ftry9xdzCC"
   },
   "outputs": [],
   "source": [
    "missingvalue_replacements = {'Multiple_Lines': 'No', 'Avg_Monthly_GB_Download': 0.0,\n",
    "                             'Avg_Monthly_Long_Distance_Charges': 0.0,'Streaming_TV': 'No','Streaming_Movies': 'No',\n",
    "                             'Streaming_Music': 'No','Unlimited_Data': 'No'}\n",
    "model_df = model_db1.fillna(missingvalue_replacements)\n",
    "\n",
    "#We assume that the negative values in the Monthly charge variable are erroneous.\n",
    "model_df = model_df[model_df['Monthly_Charge'] >= 0]"
   ]
  },
  {
   "cell_type": "code",
   "execution_count": 19,
   "metadata": {
    "colab": {
     "base_uri": "https://localhost:8080/"
    },
    "id": "aWx8-ryaeNGy",
    "outputId": "dbfd79c7-25b4-4038-93a0-ee45e01eb64a"
   },
   "outputs": [
    {
     "data": {
      "text/plain": [
       "(6475, 22)"
      ]
     },
     "execution_count": 19,
     "metadata": {},
     "output_type": "execute_result"
    }
   ],
   "source": [
    "model_df.shape"
   ]
  },
  {
   "cell_type": "code",
   "execution_count": 20,
   "metadata": {
    "id": "WbskVNFGeRZh"
   },
   "outputs": [],
   "source": [
    "import seaborn as sns"
   ]
  },
  {
   "cell_type": "code",
   "execution_count": 21,
   "metadata": {
    "id": "HKyURd5adtfO"
   },
   "outputs": [],
   "source": [
    "cols = ['Contract_Monthly', 'Tenure_in_Months', 'Contract_TwoYear','Number_of_Dependents','Contract_OneYear',\n",
    "        'Monthly_Charge', 'Age','Avg_Monthly_GB_Download', 'Avg_Monthly_Long_Distance_Charges','Total_Charges',]\n"
   ]
  },
  {
   "cell_type": "markdown",
   "metadata": {
    "id": "yU6YiBP3e8g5"
   },
   "source": [
    "**Data Pre-processing**"
   ]
  },
  {
   "cell_type": "code",
   "execution_count": 22,
   "metadata": {
    "colab": {
     "base_uri": "https://localhost:8080/",
     "height": 488
    },
    "id": "SPXTN8cses88",
    "outputId": "5e00a4d9-b70b-4e4e-8b31-ee93204d6280"
   },
   "outputs": [
    {
     "data": {
      "text/html": [
       "<div>\n",
       "<style scoped>\n",
       "    .dataframe tbody tr th:only-of-type {\n",
       "        vertical-align: middle;\n",
       "    }\n",
       "\n",
       "    .dataframe tbody tr th {\n",
       "        vertical-align: top;\n",
       "    }\n",
       "\n",
       "    .dataframe thead th {\n",
       "        text-align: right;\n",
       "    }\n",
       "</style>\n",
       "<table border=\"1\" class=\"dataframe\">\n",
       "  <thead>\n",
       "    <tr style=\"text-align: right;\">\n",
       "      <th></th>\n",
       "      <th>Gender</th>\n",
       "      <th>Age</th>\n",
       "      <th>Married</th>\n",
       "      <th>Number_of_Dependents</th>\n",
       "      <th>Tenure_in_Months</th>\n",
       "      <th>Phone_Service</th>\n",
       "      <th>Avg_Monthly_Long_Distance_Charges</th>\n",
       "      <th>Multiple_Lines</th>\n",
       "      <th>Internet_Service</th>\n",
       "      <th>Avg_Monthly_GB_Download</th>\n",
       "      <th>...</th>\n",
       "      <th>Streaming_Music</th>\n",
       "      <th>Unlimited_Data</th>\n",
       "      <th>Paperless_Billing</th>\n",
       "      <th>Payment_Method</th>\n",
       "      <th>Monthly_Charge</th>\n",
       "      <th>Total_Charges</th>\n",
       "      <th>Churned</th>\n",
       "      <th>Contract_Monthly</th>\n",
       "      <th>Contract_OneYear</th>\n",
       "      <th>Contract_TwoYear</th>\n",
       "    </tr>\n",
       "  </thead>\n",
       "  <tbody>\n",
       "    <tr>\n",
       "      <th>0</th>\n",
       "      <td>Female</td>\n",
       "      <td>37</td>\n",
       "      <td>Yes</td>\n",
       "      <td>0</td>\n",
       "      <td>9</td>\n",
       "      <td>Yes</td>\n",
       "      <td>42.39</td>\n",
       "      <td>No</td>\n",
       "      <td>Yes</td>\n",
       "      <td>16.0</td>\n",
       "      <td>...</td>\n",
       "      <td>No</td>\n",
       "      <td>Yes</td>\n",
       "      <td>Yes</td>\n",
       "      <td>Credit Card</td>\n",
       "      <td>65.60</td>\n",
       "      <td>593.30</td>\n",
       "      <td>False</td>\n",
       "      <td>False</td>\n",
       "      <td>True</td>\n",
       "      <td>False</td>\n",
       "    </tr>\n",
       "    <tr>\n",
       "      <th>2</th>\n",
       "      <td>Male</td>\n",
       "      <td>50</td>\n",
       "      <td>No</td>\n",
       "      <td>0</td>\n",
       "      <td>4</td>\n",
       "      <td>Yes</td>\n",
       "      <td>33.65</td>\n",
       "      <td>No</td>\n",
       "      <td>Yes</td>\n",
       "      <td>30.0</td>\n",
       "      <td>...</td>\n",
       "      <td>No</td>\n",
       "      <td>Yes</td>\n",
       "      <td>Yes</td>\n",
       "      <td>Bank Withdrawal</td>\n",
       "      <td>73.90</td>\n",
       "      <td>280.85</td>\n",
       "      <td>True</td>\n",
       "      <td>True</td>\n",
       "      <td>False</td>\n",
       "      <td>False</td>\n",
       "    </tr>\n",
       "    <tr>\n",
       "      <th>3</th>\n",
       "      <td>Male</td>\n",
       "      <td>78</td>\n",
       "      <td>Yes</td>\n",
       "      <td>0</td>\n",
       "      <td>13</td>\n",
       "      <td>Yes</td>\n",
       "      <td>27.82</td>\n",
       "      <td>No</td>\n",
       "      <td>Yes</td>\n",
       "      <td>4.0</td>\n",
       "      <td>...</td>\n",
       "      <td>No</td>\n",
       "      <td>Yes</td>\n",
       "      <td>Yes</td>\n",
       "      <td>Bank Withdrawal</td>\n",
       "      <td>98.00</td>\n",
       "      <td>1237.85</td>\n",
       "      <td>True</td>\n",
       "      <td>True</td>\n",
       "      <td>False</td>\n",
       "      <td>False</td>\n",
       "    </tr>\n",
       "    <tr>\n",
       "      <th>4</th>\n",
       "      <td>Female</td>\n",
       "      <td>75</td>\n",
       "      <td>Yes</td>\n",
       "      <td>0</td>\n",
       "      <td>3</td>\n",
       "      <td>Yes</td>\n",
       "      <td>7.38</td>\n",
       "      <td>No</td>\n",
       "      <td>Yes</td>\n",
       "      <td>11.0</td>\n",
       "      <td>...</td>\n",
       "      <td>No</td>\n",
       "      <td>Yes</td>\n",
       "      <td>Yes</td>\n",
       "      <td>Credit Card</td>\n",
       "      <td>83.90</td>\n",
       "      <td>267.40</td>\n",
       "      <td>True</td>\n",
       "      <td>True</td>\n",
       "      <td>False</td>\n",
       "      <td>False</td>\n",
       "    </tr>\n",
       "    <tr>\n",
       "      <th>5</th>\n",
       "      <td>Female</td>\n",
       "      <td>23</td>\n",
       "      <td>No</td>\n",
       "      <td>3</td>\n",
       "      <td>9</td>\n",
       "      <td>Yes</td>\n",
       "      <td>16.77</td>\n",
       "      <td>No</td>\n",
       "      <td>Yes</td>\n",
       "      <td>73.0</td>\n",
       "      <td>...</td>\n",
       "      <td>Yes</td>\n",
       "      <td>Yes</td>\n",
       "      <td>Yes</td>\n",
       "      <td>Credit Card</td>\n",
       "      <td>69.40</td>\n",
       "      <td>571.45</td>\n",
       "      <td>False</td>\n",
       "      <td>True</td>\n",
       "      <td>False</td>\n",
       "      <td>False</td>\n",
       "    </tr>\n",
       "    <tr>\n",
       "      <th>...</th>\n",
       "      <td>...</td>\n",
       "      <td>...</td>\n",
       "      <td>...</td>\n",
       "      <td>...</td>\n",
       "      <td>...</td>\n",
       "      <td>...</td>\n",
       "      <td>...</td>\n",
       "      <td>...</td>\n",
       "      <td>...</td>\n",
       "      <td>...</td>\n",
       "      <td>...</td>\n",
       "      <td>...</td>\n",
       "      <td>...</td>\n",
       "      <td>...</td>\n",
       "      <td>...</td>\n",
       "      <td>...</td>\n",
       "      <td>...</td>\n",
       "      <td>...</td>\n",
       "      <td>...</td>\n",
       "      <td>...</td>\n",
       "      <td>...</td>\n",
       "    </tr>\n",
       "    <tr>\n",
       "      <th>7037</th>\n",
       "      <td>Female</td>\n",
       "      <td>36</td>\n",
       "      <td>No</td>\n",
       "      <td>0</td>\n",
       "      <td>4</td>\n",
       "      <td>Yes</td>\n",
       "      <td>2.01</td>\n",
       "      <td>No</td>\n",
       "      <td>No</td>\n",
       "      <td>0.0</td>\n",
       "      <td>...</td>\n",
       "      <td>No</td>\n",
       "      <td>No</td>\n",
       "      <td>No</td>\n",
       "      <td>Bank Withdrawal</td>\n",
       "      <td>20.95</td>\n",
       "      <td>85.50</td>\n",
       "      <td>True</td>\n",
       "      <td>True</td>\n",
       "      <td>False</td>\n",
       "      <td>False</td>\n",
       "    </tr>\n",
       "    <tr>\n",
       "      <th>7038</th>\n",
       "      <td>Female</td>\n",
       "      <td>20</td>\n",
       "      <td>No</td>\n",
       "      <td>0</td>\n",
       "      <td>13</td>\n",
       "      <td>Yes</td>\n",
       "      <td>46.68</td>\n",
       "      <td>No</td>\n",
       "      <td>Yes</td>\n",
       "      <td>59.0</td>\n",
       "      <td>...</td>\n",
       "      <td>Yes</td>\n",
       "      <td>Yes</td>\n",
       "      <td>No</td>\n",
       "      <td>Credit Card</td>\n",
       "      <td>55.15</td>\n",
       "      <td>742.90</td>\n",
       "      <td>False</td>\n",
       "      <td>False</td>\n",
       "      <td>True</td>\n",
       "      <td>False</td>\n",
       "    </tr>\n",
       "    <tr>\n",
       "      <th>7039</th>\n",
       "      <td>Male</td>\n",
       "      <td>40</td>\n",
       "      <td>Yes</td>\n",
       "      <td>0</td>\n",
       "      <td>22</td>\n",
       "      <td>Yes</td>\n",
       "      <td>16.20</td>\n",
       "      <td>Yes</td>\n",
       "      <td>Yes</td>\n",
       "      <td>17.0</td>\n",
       "      <td>...</td>\n",
       "      <td>Yes</td>\n",
       "      <td>Yes</td>\n",
       "      <td>Yes</td>\n",
       "      <td>Bank Withdrawal</td>\n",
       "      <td>85.10</td>\n",
       "      <td>1873.70</td>\n",
       "      <td>True</td>\n",
       "      <td>True</td>\n",
       "      <td>False</td>\n",
       "      <td>False</td>\n",
       "    </tr>\n",
       "    <tr>\n",
       "      <th>7041</th>\n",
       "      <td>Male</td>\n",
       "      <td>21</td>\n",
       "      <td>Yes</td>\n",
       "      <td>0</td>\n",
       "      <td>67</td>\n",
       "      <td>Yes</td>\n",
       "      <td>2.12</td>\n",
       "      <td>No</td>\n",
       "      <td>Yes</td>\n",
       "      <td>58.0</td>\n",
       "      <td>...</td>\n",
       "      <td>Yes</td>\n",
       "      <td>Yes</td>\n",
       "      <td>No</td>\n",
       "      <td>Credit Card</td>\n",
       "      <td>67.85</td>\n",
       "      <td>4627.65</td>\n",
       "      <td>False</td>\n",
       "      <td>False</td>\n",
       "      <td>False</td>\n",
       "      <td>True</td>\n",
       "    </tr>\n",
       "    <tr>\n",
       "      <th>7042</th>\n",
       "      <td>Male</td>\n",
       "      <td>36</td>\n",
       "      <td>Yes</td>\n",
       "      <td>0</td>\n",
       "      <td>63</td>\n",
       "      <td>No</td>\n",
       "      <td>0.00</td>\n",
       "      <td>No</td>\n",
       "      <td>Yes</td>\n",
       "      <td>5.0</td>\n",
       "      <td>...</td>\n",
       "      <td>Yes</td>\n",
       "      <td>Yes</td>\n",
       "      <td>No</td>\n",
       "      <td>Bank Withdrawal</td>\n",
       "      <td>59.00</td>\n",
       "      <td>3707.60</td>\n",
       "      <td>False</td>\n",
       "      <td>False</td>\n",
       "      <td>False</td>\n",
       "      <td>True</td>\n",
       "    </tr>\n",
       "  </tbody>\n",
       "</table>\n",
       "<p>6475 rows × 22 columns</p>\n",
       "</div>"
      ],
      "text/plain": [
       "      Gender  Age Married  Number_of_Dependents  Tenure_in_Months  \\\n",
       "0     Female   37     Yes                     0                 9   \n",
       "2       Male   50      No                     0                 4   \n",
       "3       Male   78     Yes                     0                13   \n",
       "4     Female   75     Yes                     0                 3   \n",
       "5     Female   23      No                     3                 9   \n",
       "...      ...  ...     ...                   ...               ...   \n",
       "7037  Female   36      No                     0                 4   \n",
       "7038  Female   20      No                     0                13   \n",
       "7039    Male   40     Yes                     0                22   \n",
       "7041    Male   21     Yes                     0                67   \n",
       "7042    Male   36     Yes                     0                63   \n",
       "\n",
       "     Phone_Service  Avg_Monthly_Long_Distance_Charges Multiple_Lines  \\\n",
       "0              Yes                              42.39             No   \n",
       "2              Yes                              33.65             No   \n",
       "3              Yes                              27.82             No   \n",
       "4              Yes                               7.38             No   \n",
       "5              Yes                              16.77             No   \n",
       "...            ...                                ...            ...   \n",
       "7037           Yes                               2.01             No   \n",
       "7038           Yes                              46.68             No   \n",
       "7039           Yes                              16.20            Yes   \n",
       "7041           Yes                               2.12             No   \n",
       "7042            No                               0.00             No   \n",
       "\n",
       "     Internet_Service  Avg_Monthly_GB_Download  ... Streaming_Music  \\\n",
       "0                 Yes                     16.0  ...              No   \n",
       "2                 Yes                     30.0  ...              No   \n",
       "3                 Yes                      4.0  ...              No   \n",
       "4                 Yes                     11.0  ...              No   \n",
       "5                 Yes                     73.0  ...             Yes   \n",
       "...               ...                      ...  ...             ...   \n",
       "7037               No                      0.0  ...              No   \n",
       "7038              Yes                     59.0  ...             Yes   \n",
       "7039              Yes                     17.0  ...             Yes   \n",
       "7041              Yes                     58.0  ...             Yes   \n",
       "7042              Yes                      5.0  ...             Yes   \n",
       "\n",
       "     Unlimited_Data Paperless_Billing   Payment_Method Monthly_Charge  \\\n",
       "0               Yes               Yes      Credit Card          65.60   \n",
       "2               Yes               Yes  Bank Withdrawal          73.90   \n",
       "3               Yes               Yes  Bank Withdrawal          98.00   \n",
       "4               Yes               Yes      Credit Card          83.90   \n",
       "5               Yes               Yes      Credit Card          69.40   \n",
       "...             ...               ...              ...            ...   \n",
       "7037             No                No  Bank Withdrawal          20.95   \n",
       "7038            Yes                No      Credit Card          55.15   \n",
       "7039            Yes               Yes  Bank Withdrawal          85.10   \n",
       "7041            Yes                No      Credit Card          67.85   \n",
       "7042            Yes                No  Bank Withdrawal          59.00   \n",
       "\n",
       "     Total_Charges  Churned  Contract_Monthly  Contract_OneYear  \\\n",
       "0           593.30    False             False              True   \n",
       "2           280.85     True              True             False   \n",
       "3          1237.85     True              True             False   \n",
       "4           267.40     True              True             False   \n",
       "5           571.45    False              True             False   \n",
       "...            ...      ...               ...               ...   \n",
       "7037         85.50     True              True             False   \n",
       "7038        742.90    False             False              True   \n",
       "7039       1873.70     True              True             False   \n",
       "7041       4627.65    False             False             False   \n",
       "7042       3707.60    False             False             False   \n",
       "\n",
       "      Contract_TwoYear  \n",
       "0                False  \n",
       "2                False  \n",
       "3                False  \n",
       "4                False  \n",
       "5                False  \n",
       "...                ...  \n",
       "7037             False  \n",
       "7038             False  \n",
       "7039             False  \n",
       "7041              True  \n",
       "7042              True  \n",
       "\n",
       "[6475 rows x 22 columns]"
      ]
     },
     "execution_count": 22,
     "metadata": {},
     "output_type": "execute_result"
    }
   ],
   "source": [
    "# Taking a copy of file for SMOTE\n",
    "model_smote = model_df.copy()\n",
    "model_smote"
   ]
  },
  {
   "cell_type": "markdown",
   "metadata": {
    "id": "8TwQ5-0OfRgY"
   },
   "source": [
    "Replacing the Gender column in the dataset with Label Encoding; 0 for Female; 1 for Male"
   ]
  },
  {
   "cell_type": "code",
   "execution_count": 23,
   "metadata": {
    "id": "rYm6q37EfOTq"
   },
   "outputs": [],
   "source": [
    "#Replacing gender column with numnerical value, 0 for female and 1 for male\n",
    "model_df.replace({\"Gender\":{'Female':0,'Male':1}},inplace=True)\n",
    "\n",
    "#Replacing the columns with 'yes' and 'no' output by Label Encoding; 0 for No; 1 for Yes\n",
    "\n",
    "yes_and_no = ['Married', 'Phone_Service', 'Multiple_Lines', 'Internet_Service','Streaming_TV', 'Streaming_Movies',\n",
    "              'Streaming_Music']\n",
    "\n",
    "for i in yes_and_no:\n",
    "    model_df.replace({'No':0,'Yes':1},inplace=True)\n",
    "\n",
    "#Getting dummy variables for other categorical column\n",
    "model_df = pd.get_dummies(data = model_df, columns=['Payment_Method'], drop_first = True)"
   ]
  },
  {
   "cell_type": "markdown",
   "metadata": {
    "id": "CnG-J2Jzehgz"
   },
   "source": [
    "**Correlation Matrix**"
   ]
  },
  {
   "cell_type": "code",
   "execution_count": 24,
   "metadata": {
    "colab": {
     "base_uri": "https://localhost:8080/",
     "height": 1000
    },
    "id": "mQjsMc77mWJ-",
    "outputId": "fe6484d8-e9d6-404f-9e1a-f711644deec3"
   },
   "outputs": [
    {
     "data": {
      "image/png": "[encoded data removed]",
      "text/plain": [
       "<Figure size 1200x1000 with 2 Axes>"
      ]
     },
     "metadata": {},
     "output_type": "display_data"
    }
   ],
   "source": [
    "#Correlation matrix for all columns\n",
    "corr_matrix = model_df.corr()\n",
    "corr_matrix\n",
    "\n",
    "plt.figure(figsize=(12, 10))\n",
    "sns.heatmap(corr_matrix, annot=False, cmap='coolwarm', center=0)\n",
    "plt.title('Correlation Heatmap')\n",
    "\n",
    "plt.xticks(rotation=45, ha='right')\n",
    "plt.yticks(rotation=0)\n",
    "plt.show()"
   ]
  },
  {
   "cell_type": "markdown",
   "metadata": {
    "id": "3r4r0nsSqmS_"
   },
   "source": [
    "As it is observed from the heatmap:\n",
    "- The 5 most important numerical features related to 'Churned' field are 'Contract_Monthly', 'Tenure_in_Months', 'Contract_TwoYear', 'Number_of_Dependents', and 'Internet_Service'."
   ]
  },
  {
   "cell_type": "markdown",
   "metadata": {
    "id": "jj1-qPfvfvbf"
   },
   "source": [
    "**Feature selection through Recursive Feature Elimination Method**"
   ]
  },
  {
   "cell_type": "code",
   "execution_count": 25,
   "metadata": {
    "colab": {
     "base_uri": "https://localhost:8080/"
    },
    "id": "2URYpWxHfkdb",
    "outputId": "45410b43-ef9d-46d5-89fa-4c6ed3768b02"
   },
   "outputs": [
    {
     "name": "stderr",
     "output_type": "stream",
     "text": [
      "/Users/roopeshraveendran/anaconda3/lib/python3.11/site-packages/sklearn/linear_model/_logistic.py:469: ConvergenceWarning: lbfgs failed to converge (status=1):\n",
      "STOP: TOTAL NO. of ITERATIONS REACHED LIMIT.\n",
      "\n",
      "Increase the number of iterations (max_iter) or scale the data as shown in:\n",
      "    https://scikit-learn.org/stable/modules/preprocessing.html\n",
      "Please also refer to the documentation for alternative solver options:\n",
      "    https://scikit-learn.org/stable/modules/linear_model.html#logistic-regression\n",
      "  n_iter_i = _check_optimize_result(\n",
      "/Users/roopeshraveendran/anaconda3/lib/python3.11/site-packages/sklearn/linear_model/_logistic.py:469: ConvergenceWarning: lbfgs failed to converge (status=1):\n",
      "STOP: TOTAL NO. of ITERATIONS REACHED LIMIT.\n",
      "\n",
      "Increase the number of iterations (max_iter) or scale the data as shown in:\n",
      "    https://scikit-learn.org/stable/modules/preprocessing.html\n",
      "Please also refer to the documentation for alternative solver options:\n",
      "    https://scikit-learn.org/stable/modules/linear_model.html#logistic-regression\n",
      "  n_iter_i = _check_optimize_result(\n",
      "/Users/roopeshraveendran/anaconda3/lib/python3.11/site-packages/sklearn/linear_model/_logistic.py:469: ConvergenceWarning: lbfgs failed to converge (status=1):\n",
      "STOP: TOTAL NO. of ITERATIONS REACHED LIMIT.\n",
      "\n",
      "Increase the number of iterations (max_iter) or scale the data as shown in:\n",
      "    https://scikit-learn.org/stable/modules/preprocessing.html\n",
      "Please also refer to the documentation for alternative solver options:\n",
      "    https://scikit-learn.org/stable/modules/linear_model.html#logistic-regression\n",
      "  n_iter_i = _check_optimize_result(\n",
      "/Users/roopeshraveendran/anaconda3/lib/python3.11/site-packages/sklearn/linear_model/_logistic.py:469: ConvergenceWarning: lbfgs failed to converge (status=1):\n",
      "STOP: TOTAL NO. of ITERATIONS REACHED LIMIT.\n",
      "\n",
      "Increase the number of iterations (max_iter) or scale the data as shown in:\n",
      "    https://scikit-learn.org/stable/modules/preprocessing.html\n",
      "Please also refer to the documentation for alternative solver options:\n",
      "    https://scikit-learn.org/stable/modules/linear_model.html#logistic-regression\n",
      "  n_iter_i = _check_optimize_result(\n",
      "/Users/roopeshraveendran/anaconda3/lib/python3.11/site-packages/sklearn/linear_model/_logistic.py:469: ConvergenceWarning: lbfgs failed to converge (status=1):\n",
      "STOP: TOTAL NO. of ITERATIONS REACHED LIMIT.\n",
      "\n",
      "Increase the number of iterations (max_iter) or scale the data as shown in:\n",
      "    https://scikit-learn.org/stable/modules/preprocessing.html\n",
      "Please also refer to the documentation for alternative solver options:\n",
      "    https://scikit-learn.org/stable/modules/linear_model.html#logistic-regression\n",
      "  n_iter_i = _check_optimize_result(\n",
      "/Users/roopeshraveendran/anaconda3/lib/python3.11/site-packages/sklearn/linear_model/_logistic.py:469: ConvergenceWarning: lbfgs failed to converge (status=1):\n",
      "STOP: TOTAL NO. of ITERATIONS REACHED LIMIT.\n",
      "\n",
      "Increase the number of iterations (max_iter) or scale the data as shown in:\n",
      "    https://scikit-learn.org/stable/modules/preprocessing.html\n",
      "Please also refer to the documentation for alternative solver options:\n",
      "    https://scikit-learn.org/stable/modules/linear_model.html#logistic-regression\n",
      "  n_iter_i = _check_optimize_result(\n",
      "/Users/roopeshraveendran/anaconda3/lib/python3.11/site-packages/sklearn/linear_model/_logistic.py:469: ConvergenceWarning: lbfgs failed to converge (status=1):\n",
      "STOP: TOTAL NO. of ITERATIONS REACHED LIMIT.\n",
      "\n",
      "Increase the number of iterations (max_iter) or scale the data as shown in:\n",
      "    https://scikit-learn.org/stable/modules/preprocessing.html\n",
      "Please also refer to the documentation for alternative solver options:\n",
      "    https://scikit-learn.org/stable/modules/linear_model.html#logistic-regression\n",
      "  n_iter_i = _check_optimize_result(\n",
      "/Users/roopeshraveendran/anaconda3/lib/python3.11/site-packages/sklearn/linear_model/_logistic.py:469: ConvergenceWarning: lbfgs failed to converge (status=1):\n",
      "STOP: TOTAL NO. of ITERATIONS REACHED LIMIT.\n",
      "\n",
      "Increase the number of iterations (max_iter) or scale the data as shown in:\n",
      "    https://scikit-learn.org/stable/modules/preprocessing.html\n",
      "Please also refer to the documentation for alternative solver options:\n",
      "    https://scikit-learn.org/stable/modules/linear_model.html#logistic-regression\n",
      "  n_iter_i = _check_optimize_result(\n"
     ]
    },
    {
     "name": "stdout",
     "output_type": "stream",
     "text": [
      "Num Features: 15\n",
      "Selected Features: [False False  True  True  True  True False  True  True False False  True\n",
      "  True  True  True False False  True  True  True  True  True]\n",
      "Feature Ranking: [3 4 1 1 1 1 6 1 1 7 5 1 1 1 1 2 8 1 1 1 1 1]\n"
     ]
    }
   ],
   "source": [
    "#Defining data for RFE\n",
    "\n",
    "X_selection = model_df.drop('Churned',axis=1)\n",
    "y_selection = model_df['Churned']\n",
    "\n",
    "#Import your necessary dependencies\n",
    "from sklearn.feature_selection import RFE\n",
    "from sklearn.linear_model import LogisticRegression\n",
    "\n",
    "#Feature extraction\n",
    "model = LogisticRegression()\n",
    "rfe = RFE(estimator =  model, n_features_to_select = 15, step=1)\n",
    "fit = rfe.fit(X_selection, y_selection)\n",
    "print(\"Num Features: %s\" % (fit.n_features_))\n",
    "print(\"Selected Features: %s\" % (fit.support_))\n",
    "print(\"Feature Ranking: %s\" % (fit.ranking_))"
   ]
  },
  {
   "cell_type": "markdown",
   "metadata": {
    "id": "jIlKZiZof8nB"
   },
   "source": [
    "As seen from RFE, the best 15 features selected by RFE method is: Married, Number_of_Dependents, Tenure_in_Months, Phone_Service, Multiple_Lines, Internet_Service, Streaming_Movies, Streaming_Music, Unlimited_Data, Paperless_Billing, Contract_Monthly, Contract_OneYear, Contract_TwoYear, Payment_Method_Credit Card, Payment_Method_Mailed Check."
   ]
  },
  {
   "cell_type": "code",
   "execution_count": 26,
   "metadata": {
    "colab": {
     "base_uri": "https://localhost:8080/"
    },
    "id": "MsNu1igczG46",
    "outputId": "cdc83512-f4c3-446c-fcf2-640e4fad7108"
   },
   "outputs": [
    {
     "name": "stdout",
     "output_type": "stream",
     "text": [
      "The size of the training set predictors is  (5180, 15)\n",
      "The size of the training set response is  (5180,)\n",
      "The size of the test set predictors is  (1295, 15)\n",
      "The size of the test set response is  (1295,)\n"
     ]
    }
   ],
   "source": [
    "# Data Set splitting\n",
    "from sklearn.model_selection import train_test_split\n",
    "column_to_drop = ['Gender', 'Age', 'Avg_Monthly_Long_Distance_Charges', 'Avg_Monthly_GB_Download', 'Streaming_TV',\n",
    "                 'Monthly_Charge', 'Churned','Contract_Monthly']\n",
    "X = model_df.drop(column_to_drop, axis=1)\n",
    "y = model_df['Churned']\n",
    "X_train, X_test, y_train, y_test = train_test_split(X, y, test_size = 0.2, stratify = y, random_state = 149)\n",
    "\n",
    "#Print\n",
    "print('The size of the training set predictors is ', X_train.shape)\n",
    "print('The size of the training set response is ', y_train.shape)\n",
    "print('The size of the test set predictors is ', X_test.shape)\n",
    "print('The size of the test set response is ', y_test.shape)"
   ]
  },
  {
   "cell_type": "markdown",
   "metadata": {
    "id": "lc3j247Ff8XX"
   },
   "source": [
    "**Standardization of numeric variables**"
   ]
  },
  {
   "cell_type": "code",
   "execution_count": 27,
   "metadata": {
    "id": "2YgofSR-fkjr"
   },
   "outputs": [],
   "source": [
    "# Standardizing numeric columns\n",
    "from sklearn.preprocessing import StandardScaler\n",
    "std_scaler = StandardScaler()\n",
    "num_cols = ['Tenure_in_Months','Number_of_Dependents','Total_Charges']\n",
    "X_train[num_cols] = std_scaler.fit_transform(X_train[num_cols])\n",
    "X_test[num_cols] = std_scaler.transform(X_test[num_cols])"
   ]
  },
  {
   "cell_type": "markdown",
   "metadata": {
    "id": "_Mbjob_ugUCt"
   },
   "source": [
    "**Logistic Regression**"
   ]
  },
  {
   "cell_type": "code",
   "execution_count": 28,
   "metadata": {
    "id": "BCOFKC6Tf42n"
   },
   "outputs": [],
   "source": [
    "from sklearn.linear_model import LogisticRegression\n",
    "from sklearn.metrics import classification_report,f1_score, recall_score, precision_score, accuracy_score"
   ]
  },
  {
   "cell_type": "code",
   "execution_count": 29,
   "metadata": {
    "id": "QOp4vt6Df46A"
   },
   "outputs": [],
   "source": [
    "#Logistic Regression\n",
    "logreg = LogisticRegression()\n",
    "logreg.fit(X_train,y_train)\n",
    "y_pred = logreg.predict(X_test)"
   ]
  },
  {
   "cell_type": "code",
   "execution_count": 30,
   "metadata": {
    "colab": {
     "base_uri": "https://localhost:8080/"
    },
    "id": "rBnnUtzZf49j",
    "outputId": "681c2c90-437e-41ff-d942-80ff74c0bbbc"
   },
   "outputs": [
    {
     "name": "stdout",
     "output_type": "stream",
     "text": [
      "              precision    recall  f1-score   support\n",
      "\n",
      "       False       0.89      0.89      0.89       927\n",
      "        True       0.72      0.72      0.72       368\n",
      "\n",
      "    accuracy                           0.84      1295\n",
      "   macro avg       0.80      0.80      0.80      1295\n",
      "weighted avg       0.84      0.84      0.84      1295\n",
      "\n"
     ]
    }
   ],
   "source": [
    "#Classification Report\n",
    "print(classification_report(y_test,y_pred))"
   ]
  },
  {
   "cell_type": "code",
   "execution_count": 31,
   "metadata": {
    "colab": {
     "base_uri": "https://localhost:8080/"
    },
    "id": "oOY9mf5mgekS",
    "outputId": "22bbc1b0-7877-4cc9-e689-4994ed7d1c45"
   },
   "outputs": [
    {
     "name": "stdout",
     "output_type": "stream",
     "text": [
      "F1 Score: 0.72\n"
     ]
    }
   ],
   "source": [
    "#f1 Score of Churned prediction, Churned = 1\n",
    "f1 = f1_score(y_test,y_pred,average = None).round(2)[1]\n",
    "\n",
    "print(\"F1 Score:\", f1)"
   ]
  },
  {
   "cell_type": "markdown",
   "metadata": {
    "id": "kfRXKQqXglZy"
   },
   "source": [
    "Logistic regression applied on the cleaned dataset not augmented by feature engineering has provided an f1-score for the Churned (which is the one we are most interested in) category equal to 0.72"
   ]
  },
  {
   "cell_type": "code",
   "execution_count": 32,
   "metadata": {
    "colab": {
     "base_uri": "https://localhost:8080/"
    },
    "id": "NMyjkqNLgens",
    "outputId": "c0617c0f-212e-46ad-fd2f-60b6a35d9b16"
   },
   "outputs": [
    {
     "name": "stdout",
     "output_type": "stream",
     "text": [
      "Precision: 0.72\n"
     ]
    }
   ],
   "source": [
    "#Precision for Churned Class\n",
    "precision = precision_score(y_test,y_pred,average = None).round(2)[1]\n",
    "print(\"Precision:\", precision)"
   ]
  },
  {
   "cell_type": "code",
   "execution_count": 33,
   "metadata": {
    "colab": {
     "base_uri": "https://localhost:8080/"
    },
    "id": "Q4Kb0_HRgeqk",
    "outputId": "4dd3d4af-b3b9-4284-9938-29b0c6e07bb1"
   },
   "outputs": [
    {
     "name": "stdout",
     "output_type": "stream",
     "text": [
      "Recall: 0.72\n"
     ]
    }
   ],
   "source": [
    "#Recall for Churned class\n",
    "recall = recall_score(y_test,y_pred,average = None).round(2)[1]\n",
    "print(\"Recall:\", recall)"
   ]
  },
  {
   "cell_type": "code",
   "execution_count": 34,
   "metadata": {
    "colab": {
     "base_uri": "https://localhost:8080/",
     "height": 143
    },
    "id": "7Ck8k-eegetq",
    "outputId": "d1fd0751-d84e-465b-b2ab-f3995924c47c"
   },
   "outputs": [
    {
     "data": {
      "text/html": [
       "<div>\n",
       "<style scoped>\n",
       "    .dataframe tbody tr th:only-of-type {\n",
       "        vertical-align: middle;\n",
       "    }\n",
       "\n",
       "    .dataframe tbody tr th {\n",
       "        vertical-align: top;\n",
       "    }\n",
       "\n",
       "    .dataframe thead th {\n",
       "        text-align: right;\n",
       "    }\n",
       "</style>\n",
       "<table border=\"1\" class=\"dataframe\">\n",
       "  <thead>\n",
       "    <tr style=\"text-align: right;\">\n",
       "      <th>Predicted</th>\n",
       "      <th>False</th>\n",
       "      <th>True</th>\n",
       "    </tr>\n",
       "    <tr>\n",
       "      <th>Real</th>\n",
       "      <th></th>\n",
       "      <th></th>\n",
       "    </tr>\n",
       "  </thead>\n",
       "  <tbody>\n",
       "    <tr>\n",
       "      <th>False</th>\n",
       "      <td>0.885653</td>\n",
       "      <td>0.114347</td>\n",
       "    </tr>\n",
       "    <tr>\n",
       "      <th>True</th>\n",
       "      <td>0.277174</td>\n",
       "      <td>0.722826</td>\n",
       "    </tr>\n",
       "  </tbody>\n",
       "</table>\n",
       "</div>"
      ],
      "text/plain": [
       "Predicted     False     True \n",
       "Real                         \n",
       "False      0.885653  0.114347\n",
       "True       0.277174  0.722826"
      ]
     },
     "execution_count": 34,
     "metadata": {},
     "output_type": "execute_result"
    }
   ],
   "source": [
    "#Confusion Matrix\n",
    "conf_matrix = pd.crosstab(y_test,y_pred,rownames=['Real'],colnames=['Predicted'],normalize='index')\n",
    "conf_matrix"
   ]
  },
  {
   "cell_type": "code",
   "execution_count": 35,
   "metadata": {
    "colab": {
     "base_uri": "https://localhost:8080/",
     "height": 406
    },
    "id": "MmNtamlhgexB",
    "outputId": "5ea43c2e-d0b4-4bdc-fea6-0cb7fc0a3adf"
   },
   "outputs": [
    {
     "data": {
      "text/plain": [
       "<Axes: xlabel='Predicted', ylabel='Real'>"
      ]
     },
     "execution_count": 35,
     "metadata": {},
     "output_type": "execute_result"
    },
    {
     "data": {
      "image/png": "[encoded data removed]",
      "text/plain": [
       "<Figure size 600x400 with 1 Axes>"
      ]
     },
     "metadata": {},
     "output_type": "display_data"
    }
   ],
   "source": [
    "#Plotting Confusion matrix\n",
    "plt.figure(figsize=(6, 4))\n",
    "sns.heatmap(conf_matrix, fmt='.2f', annot=True,cmap=\"YlGnBu\", cbar=False)"
   ]
  },
  {
   "cell_type": "markdown",
   "metadata": {
    "id": "UCbRgTrzg4Bl"
   },
   "source": [
    "As observed from the confusion matrix, 72% of the actual churned class is predicted correctly and 28% of actually churned data is predicted as not churned."
   ]
  },
  {
   "cell_type": "markdown",
   "metadata": {
    "id": "-gwKnvdf_59M"
   },
   "source": [
    "**Gain Chart**"
   ]
  },
  {
   "cell_type": "code",
   "execution_count": 36,
   "metadata": {
    "colab": {
     "base_uri": "https://localhost:8080/",
     "height": 487
    },
    "id": "0CSgN58F_0_q",
    "outputId": "f62e1318-8055-4309-fb2e-0235a0fd39fe"
   },
   "outputs": [
    {
     "data": {
      "image/png": "[encoded data removed]",
      "text/plain": [
       "<Figure size 1300x600 with 1 Axes>"
      ]
     },
     "metadata": {},
     "output_type": "display_data"
    }
   ],
   "source": [
    "\n",
    "# The usual train-test split mumbo-jumbo\n",
    "from sklearn.naive_bayes import GaussianNB\n",
    "import scikitplot as skplt\n",
    "\n",
    "nb = GaussianNB()\n",
    "nb.fit(X_train, y_train)\n",
    "predicted_probas = nb.predict_proba(X_test)\n",
    "\n",
    "# The magic happens here\n",
    "import matplotlib.pyplot as plt\n",
    "import scikitplot as skplt\n",
    "skplt.metrics.plot_cumulative_gain(y_test, predicted_probas)\n",
    "plt.show()"
   ]
  },
  {
   "cell_type": "markdown",
   "metadata": {
    "id": "LdXjSXjgBSfu"
   },
   "source": [
    "The Greater the area, the Better the model. We could see that our model is good in prediction because the chart has shown that the model allowed a greater Gain for Class 1 than the baseline. Business-wise, the churn is found better with using the model; means fewer resources to spend."
   ]
  },
  {
   "cell_type": "markdown",
   "metadata": {
    "id": "A8iZfKW8WaPc"
   },
   "source": [
    "**Feature Importance**"
   ]
  },
  {
   "cell_type": "code",
   "execution_count": 37,
   "metadata": {
    "colab": {
     "base_uri": "https://localhost:8080/",
     "height": 872
    },
    "id": "qgI9uml9Wl4U",
    "outputId": "6289b327-a669-4ded-bef7-630675997e69"
   },
   "outputs": [
    {
     "data": {
      "image/png": "[encoded data removed]",
      "text/plain": [
       "<Figure size 1000x1000 with 1 Axes>"
      ]
     },
     "metadata": {},
     "output_type": "display_data"
    }
   ],
   "source": [
    "#Column names of X_train\n",
    "feature_names = X_train.columns\n",
    "# Extract feature coefficients\n",
    "coefficients = logreg.coef_[0]\n",
    "\n",
    "# Calculate absolute feature importance\n",
    "abs_importance = np.abs(coefficients)\n",
    "\n",
    "# Create a DataFrame with feature names and their absolute importance\n",
    "feature_importance_df = pd.DataFrame({'Feature': feature_names, 'Importance': abs_importance})\n",
    "\n",
    "# Sort the DataFrame by importance\n",
    "feature_importance_df = feature_importance_df.sort_values(by='Importance', ascending=False)\n",
    "\n",
    "# Create a bar plot for feature importance\n",
    "bar_color = '#C19A6B'\n",
    "\n",
    "plt.figure(figsize=(10, 10))\n",
    "plt.barh(feature_importance_df['Feature'], feature_importance_df['Importance'], color=bar_color)\n",
    "plt.xlabel('Absolute Importance')\n",
    "plt.ylabel('Feature')\n",
    "plt.title('Feature Importance in Logistic Regression')\n",
    "plt.show()"
   ]
  },
  {
   "cell_type": "markdown",
   "metadata": {
    "id": "E5dFfQzotB9m"
   },
   "source": [
    "**Summary of Logistic Regression Model**"
   ]
  },
  {
   "cell_type": "code",
   "execution_count": 38,
   "metadata": {
    "colab": {
     "base_uri": "https://localhost:8080/"
    },
    "id": "DN5RHpQutMTd",
    "outputId": "df3a4a7d-da46-40be-a686-4c9c6bb8f056"
   },
   "outputs": [
    {
     "name": "stdout",
     "output_type": "stream",
     "text": [
      "Optimization terminated successfully.\n",
      "         Current function value: 0.372350\n",
      "         Iterations 8\n",
      "                         Results: Logit\n",
      "================================================================\n",
      "Model:              Logit            Method:           MLE      \n",
      "Dependent Variable: y                Pseudo R-squared: 0.376    \n",
      "Date:               2024-10-15 14:15 AIC:              4853.9307\n",
      "No. Observations:   6475             BIC:              4962.3420\n",
      "Df Model:           15               Log-Likelihood:   -2411.0  \n",
      "Df Residuals:       6459             LL-Null:          -3863.7  \n",
      "Converged:          1.0000           LLR p-value:      0.0000   \n",
      "No. Iterations:     8.0000           Scale:            1.0000   \n",
      "------------------------------------------------------------------\n",
      "         Coef.    Std.Err.      z       P>|z|     [0.025    0.975]\n",
      "------------------------------------------------------------------\n",
      "const    0.7381     0.2230     3.3102   0.0009    0.3011    1.1752\n",
      "x1       0.2335     0.0804     2.9055   0.0037    0.0760    0.3910\n",
      "x2      -0.7346     0.0596   -12.3273   0.0000   -0.8514   -0.6178\n",
      "x3      -0.1036     0.0069   -15.0965   0.0000   -0.1170   -0.0901\n",
      "x4      -0.4735     0.1465    -3.2334   0.0012   -0.7606   -0.1865\n",
      "x5       0.2261     0.0860     2.6282   0.0086    0.0575    0.3947\n",
      "x6       0.6420     0.1695     3.7876   0.0002    0.3098    0.9741\n",
      "x7       0.3250     0.1314     2.4729   0.0134    0.0674    0.5827\n",
      "x8      -0.1956     0.1229    -1.5920   0.1114   -0.4365    0.0452\n",
      "x9      -0.1264     0.1074    -1.1764   0.2394   -0.3369    0.0842\n",
      "x10      0.3879     0.0811     4.7801   0.0000    0.2289    0.5470\n",
      "x11      0.0008     0.0001    10.4679   0.0000    0.0006    0.0009\n",
      "x12     -1.4012     0.1062   -13.1947   0.0000   -1.6093   -1.1930\n",
      "x13     -2.6090     0.1682   -15.5141   0.0000   -2.9386   -2.2794\n",
      "x14     -0.5495     0.0824    -6.6707   0.0000   -0.7109   -0.3880\n",
      "x15      0.3624     0.1564     2.3165   0.0205    0.0558    0.6689\n",
      "================================================================\n",
      "\n"
     ]
    }
   ],
   "source": [
    "import statsmodels.api as sm\n",
    "\n",
    "X1 = sm.add_constant(X)\n",
    "\n",
    "X1 = sm.add_constant(np.asarray(X).astype(float))  # Ensure X1 is a NumPy array of float type\n",
    "y = np.asarray(y).astype(float)  \n",
    "\n",
    "log_clf =sm.Logit(y,X1)\n",
    "\n",
    "classifier = log_clf.fit()\n",
    "\n",
    "ypred = classifier.predict(X1)\n",
    "\n",
    "print(classifier.summary2())"
   ]
  },
  {
   "cell_type": "markdown",
   "metadata": {
    "id": "VgDQ6Uu6tuO2"
   },
   "source": [
    "As observed from the summary of Logistic Regression,\n",
    "1. The features such as Age, Married, Number_of_Dependents, Tenure_in_Months, Multiple Lines, Internet Service, Paperless Billing, Total_Charges, Contract_OneYear, Contract_TwoYear, Payment_Method_Credit Card etc. are significant as per z test and its p-value.\n",
    "2. The model also conveys that the odd of customer churn are dependent on the features mentioned above which are significant as per p-value considering 5% significance level.\n",
    "3. Most of the features mentioned here aligns with our correlation or RFE results which selected the most important features.\n",
    "4. A one-unit increase in the predictor variable is associated with an increase in the odds of the outcome variable. For example, a unit increase in No.of Dependents will additively decrease the log odds of churn rate by 0.7346, or multiplicatively change the odds by exponential(-0.7346) = 0.4796973 times or odds of churn decreases by 52%."
   ]
  },
  {
   "cell_type": "markdown",
   "metadata": {
    "id": "4Ddulltjg9k4"
   },
   "source": [
    "**Cross Validation**"
   ]
  },
  {
   "cell_type": "code",
   "execution_count": 39,
   "metadata": {
    "id": "ddNGai3ngvOI"
   },
   "outputs": [],
   "source": [
    "from numpy import mean\n",
    "from numpy import std\n",
    "from sklearn.model_selection import KFold\n",
    "from sklearn.model_selection import cross_val_score"
   ]
  },
  {
   "cell_type": "code",
   "execution_count": 40,
   "metadata": {
    "colab": {
     "base_uri": "https://localhost:8080/"
    },
    "id": "lMG7I4FCgvTO",
    "outputId": "b5e1ed71-f53a-447c-e7d9-bd6a7de1f399"
   },
   "outputs": [
    {
     "name": "stderr",
     "output_type": "stream",
     "text": [
      "/Users/roopeshraveendran/anaconda3/lib/python3.11/site-packages/sklearn/linear_model/_logistic.py:469: ConvergenceWarning: lbfgs failed to converge (status=1):\n",
      "STOP: TOTAL NO. of ITERATIONS REACHED LIMIT.\n",
      "\n",
      "Increase the number of iterations (max_iter) or scale the data as shown in:\n",
      "    https://scikit-learn.org/stable/modules/preprocessing.html\n",
      "Please also refer to the documentation for alternative solver options:\n",
      "    https://scikit-learn.org/stable/modules/linear_model.html#logistic-regression\n",
      "  n_iter_i = _check_optimize_result(\n",
      "/Users/roopeshraveendran/anaconda3/lib/python3.11/site-packages/sklearn/linear_model/_logistic.py:469: ConvergenceWarning: lbfgs failed to converge (status=1):\n",
      "STOP: TOTAL NO. of ITERATIONS REACHED LIMIT.\n",
      "\n",
      "Increase the number of iterations (max_iter) or scale the data as shown in:\n",
      "    https://scikit-learn.org/stable/modules/preprocessing.html\n",
      "Please also refer to the documentation for alternative solver options:\n",
      "    https://scikit-learn.org/stable/modules/linear_model.html#logistic-regression\n",
      "  n_iter_i = _check_optimize_result(\n",
      "/Users/roopeshraveendran/anaconda3/lib/python3.11/site-packages/sklearn/linear_model/_logistic.py:469: ConvergenceWarning: lbfgs failed to converge (status=1):\n",
      "STOP: TOTAL NO. of ITERATIONS REACHED LIMIT.\n",
      "\n",
      "Increase the number of iterations (max_iter) or scale the data as shown in:\n",
      "    https://scikit-learn.org/stable/modules/preprocessing.html\n",
      "Please also refer to the documentation for alternative solver options:\n",
      "    https://scikit-learn.org/stable/modules/linear_model.html#logistic-regression\n",
      "  n_iter_i = _check_optimize_result(\n",
      "/Users/roopeshraveendran/anaconda3/lib/python3.11/site-packages/sklearn/linear_model/_logistic.py:469: ConvergenceWarning: lbfgs failed to converge (status=1):\n",
      "STOP: TOTAL NO. of ITERATIONS REACHED LIMIT.\n",
      "\n",
      "Increase the number of iterations (max_iter) or scale the data as shown in:\n",
      "    https://scikit-learn.org/stable/modules/preprocessing.html\n",
      "Please also refer to the documentation for alternative solver options:\n",
      "    https://scikit-learn.org/stable/modules/linear_model.html#logistic-regression\n",
      "  n_iter_i = _check_optimize_result(\n",
      "/Users/roopeshraveendran/anaconda3/lib/python3.11/site-packages/sklearn/linear_model/_logistic.py:469: ConvergenceWarning: lbfgs failed to converge (status=1):\n",
      "STOP: TOTAL NO. of ITERATIONS REACHED LIMIT.\n",
      "\n",
      "Increase the number of iterations (max_iter) or scale the data as shown in:\n",
      "    https://scikit-learn.org/stable/modules/preprocessing.html\n",
      "Please also refer to the documentation for alternative solver options:\n",
      "    https://scikit-learn.org/stable/modules/linear_model.html#logistic-regression\n",
      "  n_iter_i = _check_optimize_result(\n"
     ]
    }
   ],
   "source": [
    "#Finding stratified cross validation\n",
    "cv_score_lr = cross_val_score(logreg, X, y, cv = 5)"
   ]
  },
  {
   "cell_type": "code",
   "execution_count": 41,
   "metadata": {
    "colab": {
     "base_uri": "https://localhost:8080/"
    },
    "id": "ShY4K0dZl3w6",
    "outputId": "d8731374-cc2a-4483-ade7-ef707a7f6f14"
   },
   "outputs": [
    {
     "name": "stdout",
     "output_type": "stream",
     "text": [
      "[0.81389961 0.82625483 0.83011583 0.82084942 0.84324324]\n"
     ]
    }
   ],
   "source": [
    "print(cv_score_lr)"
   ]
  },
  {
   "cell_type": "markdown",
   "metadata": {
    "id": "qy6E-kI4ltPt"
   },
   "source": [
    "As seen from the result, [0.81776062 0.82548263 0.83011583 0.82084942 0.84324324] these are the accuracies obtained in each train-test split. We provided cv = 5, and hence we have 5 split and accuracies. We will have to find the mean of these accuracies to obtain the accuracy after cross- validation."
   ]
  },
  {
   "cell_type": "code",
   "execution_count": 42,
   "metadata": {
    "colab": {
     "base_uri": "https://localhost:8080/"
    },
    "id": "TwKto_RZloNp",
    "outputId": "ee8473d3-760d-4c15-dc9e-91d9ebde53a0"
   },
   "outputs": [
    {
     "name": "stdout",
     "output_type": "stream",
     "text": [
      "The accuracy after cross-validation:  82.69\n"
     ]
    }
   ],
   "source": [
    "mean_accuracy_lr = sum(cv_score_lr)/len(cv_score_lr)\n",
    "mean_accuracy_lr = round((mean_accuracy_lr *100),2)\n",
    "print('The accuracy after cross-validation: ',mean_accuracy_lr)"
   ]
  },
  {
   "cell_type": "markdown",
   "metadata": {
    "id": "N3ZBMu9ghMN3"
   },
   "source": [
    "The accuracy after cross-validation:  82.76"
   ]
  },
  {
   "cell_type": "markdown",
   "metadata": {
    "id": "ZZrrnm2-mY5v"
   },
   "source": [
    "**Hyperparameter Tuning - GridSearchCV**"
   ]
  },
  {
   "cell_type": "markdown",
   "metadata": {
    "id": "VRGjNN3LmxR3"
   },
   "source": [
    "Grid searchCV is used to find the best parameters for our model"
   ]
  },
  {
   "cell_type": "code",
   "execution_count": 43,
   "metadata": {
    "id": "qLwqD2WomSK9"
   },
   "outputs": [],
   "source": [
    "from sklearn.model_selection import GridSearchCV\n",
    "\n",
    "#Defining parameters\n",
    "parameters = {'penalty' : ['l1', 'l2', 'elasticnet', 'none'],\n",
    "            'C' : [1,5,10,20],\n",
    "            'solver' : ['lbfgs','newton-cg','liblinear','sag','saga'],\n",
    "              'class_weight': [{0: 1, 1: 5}]\n",
    "\n",
    "    }"
   ]
  },
  {
   "cell_type": "code",
   "execution_count": 44,
   "metadata": {
    "id": "jdrT9_04mR9r"
   },
   "outputs": [],
   "source": [
    "# Grid Search\n",
    "classifier = GridSearchCV(logreg, parameters, cv = 5)"
   ]
  },
  {
   "cell_type": "code",
   "execution_count": 45,
   "metadata": {
    "colab": {
     "base_uri": "https://localhost:8080/",
     "height": 1000
    },
    "id": "OxsDc-2imRr2",
    "outputId": "3e2381e5-2f03-4ef5-90ee-cf7a390e33b6"
   },
   "outputs": [
    {
     "name": "stderr",
     "output_type": "stream",
     "text": [
      "/Users/roopeshraveendran/anaconda3/lib/python3.11/site-packages/sklearn/linear_model/_sag.py:349: ConvergenceWarning: The max_iter was reached which means the coef_ did not converge\n",
      "  warnings.warn(\n",
      "/Users/roopeshraveendran/anaconda3/lib/python3.11/site-packages/sklearn/linear_model/_sag.py:349: ConvergenceWarning: The max_iter was reached which means the coef_ did not converge\n",
      "  warnings.warn(\n",
      "/Users/roopeshraveendran/anaconda3/lib/python3.11/site-packages/sklearn/linear_model/_sag.py:349: ConvergenceWarning: The max_iter was reached which means the coef_ did not converge\n",
      "  warnings.warn(\n",
      "/Users/roopeshraveendran/anaconda3/lib/python3.11/site-packages/sklearn/linear_model/_sag.py:349: ConvergenceWarning: The max_iter was reached which means the coef_ did not converge\n",
      "  warnings.warn(\n",
      "/Users/roopeshraveendran/anaconda3/lib/python3.11/site-packages/sklearn/linear_model/_sag.py:349: ConvergenceWarning: The max_iter was reached which means the coef_ did not converge\n",
      "  warnings.warn(\n",
      "/Users/roopeshraveendran/anaconda3/lib/python3.11/site-packages/sklearn/linear_model/_logistic.py:469: ConvergenceWarning: lbfgs failed to converge (status=1):\n",
      "STOP: TOTAL NO. of ITERATIONS REACHED LIMIT.\n",
      "\n",
      "Increase the number of iterations (max_iter) or scale the data as shown in:\n",
      "    https://scikit-learn.org/stable/modules/preprocessing.html\n",
      "Please also refer to the documentation for alternative solver options:\n",
      "    https://scikit-learn.org/stable/modules/linear_model.html#logistic-regression\n",
      "  n_iter_i = _check_optimize_result(\n",
      "/Users/roopeshraveendran/anaconda3/lib/python3.11/site-packages/sklearn/linear_model/_logistic.py:469: ConvergenceWarning: lbfgs failed to converge (status=1):\n",
      "STOP: TOTAL NO. of ITERATIONS REACHED LIMIT.\n",
      "\n",
      "Increase the number of iterations (max_iter) or scale the data as shown in:\n",
      "    https://scikit-learn.org/stable/modules/preprocessing.html\n",
      "Please also refer to the documentation for alternative solver options:\n",
      "    https://scikit-learn.org/stable/modules/linear_model.html#logistic-regression\n",
      "  n_iter_i = _check_optimize_result(\n",
      "/Users/roopeshraveendran/anaconda3/lib/python3.11/site-packages/sklearn/linear_model/_logistic.py:469: ConvergenceWarning: lbfgs failed to converge (status=1):\n",
      "STOP: TOTAL NO. of ITERATIONS REACHED LIMIT.\n",
      "\n",
      "Increase the number of iterations (max_iter) or scale the data as shown in:\n",
      "    https://scikit-learn.org/stable/modules/preprocessing.html\n",
      "Please also refer to the documentation for alternative solver options:\n",
      "    https://scikit-learn.org/stable/modules/linear_model.html#logistic-regression\n",
      "  n_iter_i = _check_optimize_result(\n",
      "/Users/roopeshraveendran/anaconda3/lib/python3.11/site-packages/sklearn/linear_model/_logistic.py:469: ConvergenceWarning: lbfgs failed to converge (status=1):\n",
      "STOP: TOTAL NO. of ITERATIONS REACHED LIMIT.\n",
      "\n",
      "Increase the number of iterations (max_iter) or scale the data as shown in:\n",
      "    https://scikit-learn.org/stable/modules/preprocessing.html\n",
      "Please also refer to the documentation for alternative solver options:\n",
      "    https://scikit-learn.org/stable/modules/linear_model.html#logistic-regression\n",
      "  n_iter_i = _check_optimize_result(\n",
      "/Users/roopeshraveendran/anaconda3/lib/python3.11/site-packages/sklearn/linear_model/_logistic.py:469: ConvergenceWarning: lbfgs failed to converge (status=1):\n",
      "STOP: TOTAL NO. of ITERATIONS REACHED LIMIT.\n",
      "\n",
      "Increase the number of iterations (max_iter) or scale the data as shown in:\n",
      "    https://scikit-learn.org/stable/modules/preprocessing.html\n",
      "Please also refer to the documentation for alternative solver options:\n",
      "    https://scikit-learn.org/stable/modules/linear_model.html#logistic-regression\n",
      "  n_iter_i = _check_optimize_result(\n",
      "/Users/roopeshraveendran/anaconda3/lib/python3.11/site-packages/sklearn/linear_model/_sag.py:349: ConvergenceWarning: The max_iter was reached which means the coef_ did not converge\n",
      "  warnings.warn(\n",
      "/Users/roopeshraveendran/anaconda3/lib/python3.11/site-packages/sklearn/linear_model/_sag.py:349: ConvergenceWarning: The max_iter was reached which means the coef_ did not converge\n",
      "  warnings.warn(\n",
      "/Users/roopeshraveendran/anaconda3/lib/python3.11/site-packages/sklearn/linear_model/_sag.py:349: ConvergenceWarning: The max_iter was reached which means the coef_ did not converge\n",
      "  warnings.warn(\n",
      "/Users/roopeshraveendran/anaconda3/lib/python3.11/site-packages/sklearn/linear_model/_sag.py:349: ConvergenceWarning: The max_iter was reached which means the coef_ did not converge\n",
      "  warnings.warn(\n",
      "/Users/roopeshraveendran/anaconda3/lib/python3.11/site-packages/sklearn/linear_model/_sag.py:349: ConvergenceWarning: The max_iter was reached which means the coef_ did not converge\n",
      "  warnings.warn(\n",
      "/Users/roopeshraveendran/anaconda3/lib/python3.11/site-packages/sklearn/linear_model/_sag.py:349: ConvergenceWarning: The max_iter was reached which means the coef_ did not converge\n",
      "  warnings.warn(\n",
      "/Users/roopeshraveendran/anaconda3/lib/python3.11/site-packages/sklearn/linear_model/_sag.py:349: ConvergenceWarning: The max_iter was reached which means the coef_ did not converge\n",
      "  warnings.warn(\n",
      "/Users/roopeshraveendran/anaconda3/lib/python3.11/site-packages/sklearn/linear_model/_sag.py:349: ConvergenceWarning: The max_iter was reached which means the coef_ did not converge\n",
      "  warnings.warn(\n",
      "/Users/roopeshraveendran/anaconda3/lib/python3.11/site-packages/sklearn/linear_model/_sag.py:349: ConvergenceWarning: The max_iter was reached which means the coef_ did not converge\n",
      "  warnings.warn(\n",
      "/Users/roopeshraveendran/anaconda3/lib/python3.11/site-packages/sklearn/linear_model/_sag.py:349: ConvergenceWarning: The max_iter was reached which means the coef_ did not converge\n",
      "  warnings.warn(\n",
      "/Users/roopeshraveendran/anaconda3/lib/python3.11/site-packages/sklearn/linear_model/_sag.py:349: ConvergenceWarning: The max_iter was reached which means the coef_ did not converge\n",
      "  warnings.warn(\n",
      "/Users/roopeshraveendran/anaconda3/lib/python3.11/site-packages/sklearn/linear_model/_sag.py:349: ConvergenceWarning: The max_iter was reached which means the coef_ did not converge\n",
      "  warnings.warn(\n",
      "/Users/roopeshraveendran/anaconda3/lib/python3.11/site-packages/sklearn/linear_model/_sag.py:349: ConvergenceWarning: The max_iter was reached which means the coef_ did not converge\n",
      "  warnings.warn(\n",
      "/Users/roopeshraveendran/anaconda3/lib/python3.11/site-packages/sklearn/linear_model/_sag.py:349: ConvergenceWarning: The max_iter was reached which means the coef_ did not converge\n",
      "  warnings.warn(\n",
      "/Users/roopeshraveendran/anaconda3/lib/python3.11/site-packages/sklearn/linear_model/_sag.py:349: ConvergenceWarning: The max_iter was reached which means the coef_ did not converge\n",
      "  warnings.warn(\n",
      "/Users/roopeshraveendran/anaconda3/lib/python3.11/site-packages/sklearn/linear_model/_logistic.py:469: ConvergenceWarning: lbfgs failed to converge (status=1):\n",
      "STOP: TOTAL NO. of ITERATIONS REACHED LIMIT.\n",
      "\n",
      "Increase the number of iterations (max_iter) or scale the data as shown in:\n",
      "    https://scikit-learn.org/stable/modules/preprocessing.html\n",
      "Please also refer to the documentation for alternative solver options:\n",
      "    https://scikit-learn.org/stable/modules/linear_model.html#logistic-regression\n",
      "  n_iter_i = _check_optimize_result(\n",
      "/Users/roopeshraveendran/anaconda3/lib/python3.11/site-packages/sklearn/linear_model/_logistic.py:469: ConvergenceWarning: lbfgs failed to converge (status=1):\n",
      "STOP: TOTAL NO. of ITERATIONS REACHED LIMIT.\n",
      "\n",
      "Increase the number of iterations (max_iter) or scale the data as shown in:\n",
      "    https://scikit-learn.org/stable/modules/preprocessing.html\n",
      "Please also refer to the documentation for alternative solver options:\n",
      "    https://scikit-learn.org/stable/modules/linear_model.html#logistic-regression\n",
      "  n_iter_i = _check_optimize_result(\n",
      "/Users/roopeshraveendran/anaconda3/lib/python3.11/site-packages/sklearn/linear_model/_logistic.py:469: ConvergenceWarning: lbfgs failed to converge (status=1):\n",
      "STOP: TOTAL NO. of ITERATIONS REACHED LIMIT.\n",
      "\n",
      "Increase the number of iterations (max_iter) or scale the data as shown in:\n",
      "    https://scikit-learn.org/stable/modules/preprocessing.html\n",
      "Please also refer to the documentation for alternative solver options:\n",
      "    https://scikit-learn.org/stable/modules/linear_model.html#logistic-regression\n",
      "  n_iter_i = _check_optimize_result(\n",
      "/Users/roopeshraveendran/anaconda3/lib/python3.11/site-packages/sklearn/linear_model/_logistic.py:469: ConvergenceWarning: lbfgs failed to converge (status=1):\n",
      "STOP: TOTAL NO. of ITERATIONS REACHED LIMIT.\n",
      "\n",
      "Increase the number of iterations (max_iter) or scale the data as shown in:\n",
      "    https://scikit-learn.org/stable/modules/preprocessing.html\n",
      "Please also refer to the documentation for alternative solver options:\n",
      "    https://scikit-learn.org/stable/modules/linear_model.html#logistic-regression\n",
      "  n_iter_i = _check_optimize_result(\n"
     ]
    },
    {
     "name": "stderr",
     "output_type": "stream",
     "text": [
      "/Users/roopeshraveendran/anaconda3/lib/python3.11/site-packages/sklearn/linear_model/_logistic.py:469: ConvergenceWarning: lbfgs failed to converge (status=1):\n",
      "STOP: TOTAL NO. of ITERATIONS REACHED LIMIT.\n",
      "\n",
      "Increase the number of iterations (max_iter) or scale the data as shown in:\n",
      "    https://scikit-learn.org/stable/modules/preprocessing.html\n",
      "Please also refer to the documentation for alternative solver options:\n",
      "    https://scikit-learn.org/stable/modules/linear_model.html#logistic-regression\n",
      "  n_iter_i = _check_optimize_result(\n",
      "/Users/roopeshraveendran/anaconda3/lib/python3.11/site-packages/sklearn/linear_model/_sag.py:349: ConvergenceWarning: The max_iter was reached which means the coef_ did not converge\n",
      "  warnings.warn(\n",
      "/Users/roopeshraveendran/anaconda3/lib/python3.11/site-packages/sklearn/linear_model/_sag.py:349: ConvergenceWarning: The max_iter was reached which means the coef_ did not converge\n",
      "  warnings.warn(\n",
      "/Users/roopeshraveendran/anaconda3/lib/python3.11/site-packages/sklearn/linear_model/_sag.py:349: ConvergenceWarning: The max_iter was reached which means the coef_ did not converge\n",
      "  warnings.warn(\n",
      "/Users/roopeshraveendran/anaconda3/lib/python3.11/site-packages/sklearn/linear_model/_sag.py:349: ConvergenceWarning: The max_iter was reached which means the coef_ did not converge\n",
      "  warnings.warn(\n",
      "/Users/roopeshraveendran/anaconda3/lib/python3.11/site-packages/sklearn/linear_model/_sag.py:349: ConvergenceWarning: The max_iter was reached which means the coef_ did not converge\n",
      "  warnings.warn(\n",
      "/Users/roopeshraveendran/anaconda3/lib/python3.11/site-packages/sklearn/linear_model/_sag.py:349: ConvergenceWarning: The max_iter was reached which means the coef_ did not converge\n",
      "  warnings.warn(\n",
      "/Users/roopeshraveendran/anaconda3/lib/python3.11/site-packages/sklearn/linear_model/_sag.py:349: ConvergenceWarning: The max_iter was reached which means the coef_ did not converge\n",
      "  warnings.warn(\n",
      "/Users/roopeshraveendran/anaconda3/lib/python3.11/site-packages/sklearn/linear_model/_sag.py:349: ConvergenceWarning: The max_iter was reached which means the coef_ did not converge\n",
      "  warnings.warn(\n",
      "/Users/roopeshraveendran/anaconda3/lib/python3.11/site-packages/sklearn/linear_model/_sag.py:349: ConvergenceWarning: The max_iter was reached which means the coef_ did not converge\n",
      "  warnings.warn(\n",
      "/Users/roopeshraveendran/anaconda3/lib/python3.11/site-packages/sklearn/linear_model/_sag.py:349: ConvergenceWarning: The max_iter was reached which means the coef_ did not converge\n",
      "  warnings.warn(\n",
      "/Users/roopeshraveendran/anaconda3/lib/python3.11/site-packages/sklearn/linear_model/_sag.py:349: ConvergenceWarning: The max_iter was reached which means the coef_ did not converge\n",
      "  warnings.warn(\n",
      "/Users/roopeshraveendran/anaconda3/lib/python3.11/site-packages/sklearn/linear_model/_sag.py:349: ConvergenceWarning: The max_iter was reached which means the coef_ did not converge\n",
      "  warnings.warn(\n",
      "/Users/roopeshraveendran/anaconda3/lib/python3.11/site-packages/sklearn/linear_model/_sag.py:349: ConvergenceWarning: The max_iter was reached which means the coef_ did not converge\n",
      "  warnings.warn(\n",
      "/Users/roopeshraveendran/anaconda3/lib/python3.11/site-packages/sklearn/linear_model/_sag.py:349: ConvergenceWarning: The max_iter was reached which means the coef_ did not converge\n",
      "  warnings.warn(\n",
      "/Users/roopeshraveendran/anaconda3/lib/python3.11/site-packages/sklearn/linear_model/_sag.py:349: ConvergenceWarning: The max_iter was reached which means the coef_ did not converge\n",
      "  warnings.warn(\n",
      "/Users/roopeshraveendran/anaconda3/lib/python3.11/site-packages/sklearn/linear_model/_logistic.py:469: ConvergenceWarning: lbfgs failed to converge (status=1):\n",
      "STOP: TOTAL NO. of ITERATIONS REACHED LIMIT.\n",
      "\n",
      "Increase the number of iterations (max_iter) or scale the data as shown in:\n",
      "    https://scikit-learn.org/stable/modules/preprocessing.html\n",
      "Please also refer to the documentation for alternative solver options:\n",
      "    https://scikit-learn.org/stable/modules/linear_model.html#logistic-regression\n",
      "  n_iter_i = _check_optimize_result(\n",
      "/Users/roopeshraveendran/anaconda3/lib/python3.11/site-packages/sklearn/linear_model/_logistic.py:469: ConvergenceWarning: lbfgs failed to converge (status=1):\n",
      "STOP: TOTAL NO. of ITERATIONS REACHED LIMIT.\n",
      "\n",
      "Increase the number of iterations (max_iter) or scale the data as shown in:\n",
      "    https://scikit-learn.org/stable/modules/preprocessing.html\n",
      "Please also refer to the documentation for alternative solver options:\n",
      "    https://scikit-learn.org/stable/modules/linear_model.html#logistic-regression\n",
      "  n_iter_i = _check_optimize_result(\n",
      "/Users/roopeshraveendran/anaconda3/lib/python3.11/site-packages/sklearn/linear_model/_logistic.py:469: ConvergenceWarning: lbfgs failed to converge (status=1):\n",
      "STOP: TOTAL NO. of ITERATIONS REACHED LIMIT.\n",
      "\n",
      "Increase the number of iterations (max_iter) or scale the data as shown in:\n",
      "    https://scikit-learn.org/stable/modules/preprocessing.html\n",
      "Please also refer to the documentation for alternative solver options:\n",
      "    https://scikit-learn.org/stable/modules/linear_model.html#logistic-regression\n",
      "  n_iter_i = _check_optimize_result(\n",
      "/Users/roopeshraveendran/anaconda3/lib/python3.11/site-packages/sklearn/linear_model/_logistic.py:469: ConvergenceWarning: lbfgs failed to converge (status=1):\n",
      "STOP: TOTAL NO. of ITERATIONS REACHED LIMIT.\n",
      "\n",
      "Increase the number of iterations (max_iter) or scale the data as shown in:\n",
      "    https://scikit-learn.org/stable/modules/preprocessing.html\n",
      "Please also refer to the documentation for alternative solver options:\n",
      "    https://scikit-learn.org/stable/modules/linear_model.html#logistic-regression\n",
      "  n_iter_i = _check_optimize_result(\n",
      "/Users/roopeshraveendran/anaconda3/lib/python3.11/site-packages/sklearn/linear_model/_logistic.py:469: ConvergenceWarning: lbfgs failed to converge (status=1):\n",
      "STOP: TOTAL NO. of ITERATIONS REACHED LIMIT.\n",
      "\n",
      "Increase the number of iterations (max_iter) or scale the data as shown in:\n",
      "    https://scikit-learn.org/stable/modules/preprocessing.html\n",
      "Please also refer to the documentation for alternative solver options:\n",
      "    https://scikit-learn.org/stable/modules/linear_model.html#logistic-regression\n",
      "  n_iter_i = _check_optimize_result(\n",
      "/Users/roopeshraveendran/anaconda3/lib/python3.11/site-packages/sklearn/linear_model/_sag.py:349: ConvergenceWarning: The max_iter was reached which means the coef_ did not converge\n",
      "  warnings.warn(\n",
      "/Users/roopeshraveendran/anaconda3/lib/python3.11/site-packages/sklearn/linear_model/_sag.py:349: ConvergenceWarning: The max_iter was reached which means the coef_ did not converge\n",
      "  warnings.warn(\n",
      "/Users/roopeshraveendran/anaconda3/lib/python3.11/site-packages/sklearn/linear_model/_sag.py:349: ConvergenceWarning: The max_iter was reached which means the coef_ did not converge\n",
      "  warnings.warn(\n",
      "/Users/roopeshraveendran/anaconda3/lib/python3.11/site-packages/sklearn/linear_model/_sag.py:349: ConvergenceWarning: The max_iter was reached which means the coef_ did not converge\n",
      "  warnings.warn(\n",
      "/Users/roopeshraveendran/anaconda3/lib/python3.11/site-packages/sklearn/linear_model/_sag.py:349: ConvergenceWarning: The max_iter was reached which means the coef_ did not converge\n",
      "  warnings.warn(\n",
      "/Users/roopeshraveendran/anaconda3/lib/python3.11/site-packages/sklearn/linear_model/_sag.py:349: ConvergenceWarning: The max_iter was reached which means the coef_ did not converge\n",
      "  warnings.warn(\n",
      "/Users/roopeshraveendran/anaconda3/lib/python3.11/site-packages/sklearn/linear_model/_sag.py:349: ConvergenceWarning: The max_iter was reached which means the coef_ did not converge\n",
      "  warnings.warn(\n",
      "/Users/roopeshraveendran/anaconda3/lib/python3.11/site-packages/sklearn/linear_model/_sag.py:349: ConvergenceWarning: The max_iter was reached which means the coef_ did not converge\n",
      "  warnings.warn(\n",
      "/Users/roopeshraveendran/anaconda3/lib/python3.11/site-packages/sklearn/linear_model/_sag.py:349: ConvergenceWarning: The max_iter was reached which means the coef_ did not converge\n",
      "  warnings.warn(\n",
      "/Users/roopeshraveendran/anaconda3/lib/python3.11/site-packages/sklearn/linear_model/_sag.py:349: ConvergenceWarning: The max_iter was reached which means the coef_ did not converge\n",
      "  warnings.warn(\n",
      "/Users/roopeshraveendran/anaconda3/lib/python3.11/site-packages/sklearn/linear_model/_sag.py:349: ConvergenceWarning: The max_iter was reached which means the coef_ did not converge\n",
      "  warnings.warn(\n",
      "/Users/roopeshraveendran/anaconda3/lib/python3.11/site-packages/sklearn/linear_model/_sag.py:349: ConvergenceWarning: The max_iter was reached which means the coef_ did not converge\n",
      "  warnings.warn(\n",
      "/Users/roopeshraveendran/anaconda3/lib/python3.11/site-packages/sklearn/linear_model/_sag.py:349: ConvergenceWarning: The max_iter was reached which means the coef_ did not converge\n",
      "  warnings.warn(\n"
     ]
    },
    {
     "name": "stderr",
     "output_type": "stream",
     "text": [
      "/Users/roopeshraveendran/anaconda3/lib/python3.11/site-packages/sklearn/linear_model/_sag.py:349: ConvergenceWarning: The max_iter was reached which means the coef_ did not converge\n",
      "  warnings.warn(\n",
      "/Users/roopeshraveendran/anaconda3/lib/python3.11/site-packages/sklearn/linear_model/_sag.py:349: ConvergenceWarning: The max_iter was reached which means the coef_ did not converge\n",
      "  warnings.warn(\n",
      "/Users/roopeshraveendran/anaconda3/lib/python3.11/site-packages/sklearn/linear_model/_logistic.py:469: ConvergenceWarning: lbfgs failed to converge (status=1):\n",
      "STOP: TOTAL NO. of ITERATIONS REACHED LIMIT.\n",
      "\n",
      "Increase the number of iterations (max_iter) or scale the data as shown in:\n",
      "    https://scikit-learn.org/stable/modules/preprocessing.html\n",
      "Please also refer to the documentation for alternative solver options:\n",
      "    https://scikit-learn.org/stable/modules/linear_model.html#logistic-regression\n",
      "  n_iter_i = _check_optimize_result(\n",
      "/Users/roopeshraveendran/anaconda3/lib/python3.11/site-packages/sklearn/linear_model/_logistic.py:469: ConvergenceWarning: lbfgs failed to converge (status=1):\n",
      "STOP: TOTAL NO. of ITERATIONS REACHED LIMIT.\n",
      "\n",
      "Increase the number of iterations (max_iter) or scale the data as shown in:\n",
      "    https://scikit-learn.org/stable/modules/preprocessing.html\n",
      "Please also refer to the documentation for alternative solver options:\n",
      "    https://scikit-learn.org/stable/modules/linear_model.html#logistic-regression\n",
      "  n_iter_i = _check_optimize_result(\n",
      "/Users/roopeshraveendran/anaconda3/lib/python3.11/site-packages/sklearn/linear_model/_logistic.py:469: ConvergenceWarning: lbfgs failed to converge (status=1):\n",
      "STOP: TOTAL NO. of ITERATIONS REACHED LIMIT.\n",
      "\n",
      "Increase the number of iterations (max_iter) or scale the data as shown in:\n",
      "    https://scikit-learn.org/stable/modules/preprocessing.html\n",
      "Please also refer to the documentation for alternative solver options:\n",
      "    https://scikit-learn.org/stable/modules/linear_model.html#logistic-regression\n",
      "  n_iter_i = _check_optimize_result(\n",
      "/Users/roopeshraveendran/anaconda3/lib/python3.11/site-packages/sklearn/linear_model/_logistic.py:469: ConvergenceWarning: lbfgs failed to converge (status=1):\n",
      "STOP: TOTAL NO. of ITERATIONS REACHED LIMIT.\n",
      "\n",
      "Increase the number of iterations (max_iter) or scale the data as shown in:\n",
      "    https://scikit-learn.org/stable/modules/preprocessing.html\n",
      "Please also refer to the documentation for alternative solver options:\n",
      "    https://scikit-learn.org/stable/modules/linear_model.html#logistic-regression\n",
      "  n_iter_i = _check_optimize_result(\n",
      "/Users/roopeshraveendran/anaconda3/lib/python3.11/site-packages/sklearn/linear_model/_logistic.py:469: ConvergenceWarning: lbfgs failed to converge (status=1):\n",
      "STOP: TOTAL NO. of ITERATIONS REACHED LIMIT.\n",
      "\n",
      "Increase the number of iterations (max_iter) or scale the data as shown in:\n",
      "    https://scikit-learn.org/stable/modules/preprocessing.html\n",
      "Please also refer to the documentation for alternative solver options:\n",
      "    https://scikit-learn.org/stable/modules/linear_model.html#logistic-regression\n",
      "  n_iter_i = _check_optimize_result(\n",
      "/Users/roopeshraveendran/anaconda3/lib/python3.11/site-packages/sklearn/linear_model/_sag.py:349: ConvergenceWarning: The max_iter was reached which means the coef_ did not converge\n",
      "  warnings.warn(\n",
      "/Users/roopeshraveendran/anaconda3/lib/python3.11/site-packages/sklearn/linear_model/_sag.py:349: ConvergenceWarning: The max_iter was reached which means the coef_ did not converge\n",
      "  warnings.warn(\n",
      "/Users/roopeshraveendran/anaconda3/lib/python3.11/site-packages/sklearn/linear_model/_sag.py:349: ConvergenceWarning: The max_iter was reached which means the coef_ did not converge\n",
      "  warnings.warn(\n",
      "/Users/roopeshraveendran/anaconda3/lib/python3.11/site-packages/sklearn/linear_model/_sag.py:349: ConvergenceWarning: The max_iter was reached which means the coef_ did not converge\n",
      "  warnings.warn(\n",
      "/Users/roopeshraveendran/anaconda3/lib/python3.11/site-packages/sklearn/linear_model/_sag.py:349: ConvergenceWarning: The max_iter was reached which means the coef_ did not converge\n",
      "  warnings.warn(\n",
      "/Users/roopeshraveendran/anaconda3/lib/python3.11/site-packages/sklearn/linear_model/_sag.py:349: ConvergenceWarning: The max_iter was reached which means the coef_ did not converge\n",
      "  warnings.warn(\n",
      "/Users/roopeshraveendran/anaconda3/lib/python3.11/site-packages/sklearn/linear_model/_sag.py:349: ConvergenceWarning: The max_iter was reached which means the coef_ did not converge\n",
      "  warnings.warn(\n",
      "/Users/roopeshraveendran/anaconda3/lib/python3.11/site-packages/sklearn/linear_model/_sag.py:349: ConvergenceWarning: The max_iter was reached which means the coef_ did not converge\n",
      "  warnings.warn(\n",
      "/Users/roopeshraveendran/anaconda3/lib/python3.11/site-packages/sklearn/linear_model/_sag.py:349: ConvergenceWarning: The max_iter was reached which means the coef_ did not converge\n",
      "  warnings.warn(\n",
      "/Users/roopeshraveendran/anaconda3/lib/python3.11/site-packages/sklearn/linear_model/_sag.py:349: ConvergenceWarning: The max_iter was reached which means the coef_ did not converge\n",
      "  warnings.warn(\n",
      "/Users/roopeshraveendran/anaconda3/lib/python3.11/site-packages/sklearn/model_selection/_validation.py:540: FitFailedWarning: \n",
      "260 fits failed out of a total of 400.\n",
      "The score on these train-test partitions for these parameters will be set to nan.\n",
      "If these failures are not expected, you can try to debug them by setting error_score='raise'.\n",
      "\n",
      "Below are more details about the failures:\n",
      "--------------------------------------------------------------------------------\n",
      "20 fits failed with the following error:\n",
      "Traceback (most recent call last):\n",
      "  File \"/Users/roopeshraveendran/anaconda3/lib/python3.11/site-packages/sklearn/model_selection/_validation.py\", line 888, in _fit_and_score\n",
      "    estimator.fit(X_train, y_train, **fit_params)\n",
      "  File \"/Users/roopeshraveendran/anaconda3/lib/python3.11/site-packages/sklearn/base.py\", line 1473, in wrapper\n",
      "    return fit_method(estimator, *args, **kwargs)\n",
      "           ^^^^^^^^^^^^^^^^^^^^^^^^^^^^^^^^^^^^^^\n",
      "  File \"/Users/roopeshraveendran/anaconda3/lib/python3.11/site-packages/sklearn/linear_model/_logistic.py\", line 1194, in fit\n",
      "    solver = _check_solver(self.solver, self.penalty, self.dual)\n",
      "             ^^^^^^^^^^^^^^^^^^^^^^^^^^^^^^^^^^^^^^^^^^^^^^^^^^^\n",
      "  File \"/Users/roopeshraveendran/anaconda3/lib/python3.11/site-packages/sklearn/linear_model/_logistic.py\", line 67, in _check_solver\n",
      "    raise ValueError(\n",
      "ValueError: Solver lbfgs supports only 'l2' or None penalties, got l1 penalty.\n",
      "\n",
      "--------------------------------------------------------------------------------\n",
      "20 fits failed with the following error:\n",
      "Traceback (most recent call last):\n",
      "  File \"/Users/roopeshraveendran/anaconda3/lib/python3.11/site-packages/sklearn/model_selection/_validation.py\", line 888, in _fit_and_score\n",
      "    estimator.fit(X_train, y_train, **fit_params)\n",
      "  File \"/Users/roopeshraveendran/anaconda3/lib/python3.11/site-packages/sklearn/base.py\", line 1473, in wrapper\n",
      "    return fit_method(estimator, *args, **kwargs)\n",
      "           ^^^^^^^^^^^^^^^^^^^^^^^^^^^^^^^^^^^^^^\n",
      "  File \"/Users/roopeshraveendran/anaconda3/lib/python3.11/site-packages/sklearn/linear_model/_logistic.py\", line 1194, in fit\n",
      "    solver = _check_solver(self.solver, self.penalty, self.dual)\n",
      "             ^^^^^^^^^^^^^^^^^^^^^^^^^^^^^^^^^^^^^^^^^^^^^^^^^^^\n",
      "  File \"/Users/roopeshraveendran/anaconda3/lib/python3.11/site-packages/sklearn/linear_model/_logistic.py\", line 67, in _check_solver\n",
      "    raise ValueError(\n",
      "ValueError: Solver newton-cg supports only 'l2' or None penalties, got l1 penalty.\n",
      "\n",
      "--------------------------------------------------------------------------------\n",
      "20 fits failed with the following error:\n",
      "Traceback (most recent call last):\n",
      "  File \"/Users/roopeshraveendran/anaconda3/lib/python3.11/site-packages/sklearn/model_selection/_validation.py\", line 888, in _fit_and_score\n",
      "    estimator.fit(X_train, y_train, **fit_params)\n",
      "  File \"/Users/roopeshraveendran/anaconda3/lib/python3.11/site-packages/sklearn/base.py\", line 1473, in wrapper\n",
      "    return fit_method(estimator, *args, **kwargs)\n",
      "           ^^^^^^^^^^^^^^^^^^^^^^^^^^^^^^^^^^^^^^\n",
      "  File \"/Users/roopeshraveendran/anaconda3/lib/python3.11/site-packages/sklearn/linear_model/_logistic.py\", line 1194, in fit\n",
      "    solver = _check_solver(self.solver, self.penalty, self.dual)\n",
      "             ^^^^^^^^^^^^^^^^^^^^^^^^^^^^^^^^^^^^^^^^^^^^^^^^^^^\n",
      "  File \"/Users/roopeshraveendran/anaconda3/lib/python3.11/site-packages/sklearn/linear_model/_logistic.py\", line 67, in _check_solver\n",
      "    raise ValueError(\n",
      "ValueError: Solver sag supports only 'l2' or None penalties, got l1 penalty.\n",
      "\n",
      "--------------------------------------------------------------------------------\n",
      "20 fits failed with the following error:\n",
      "Traceback (most recent call last):\n",
      "  File \"/Users/roopeshraveendran/anaconda3/lib/python3.11/site-packages/sklearn/model_selection/_validation.py\", line 888, in _fit_and_score\n",
      "    estimator.fit(X_train, y_train, **fit_params)\n",
      "  File \"/Users/roopeshraveendran/anaconda3/lib/python3.11/site-packages/sklearn/base.py\", line 1473, in wrapper\n",
      "    return fit_method(estimator, *args, **kwargs)\n",
      "           ^^^^^^^^^^^^^^^^^^^^^^^^^^^^^^^^^^^^^^\n",
      "  File \"/Users/roopeshraveendran/anaconda3/lib/python3.11/site-packages/sklearn/linear_model/_logistic.py\", line 1194, in fit\n",
      "    solver = _check_solver(self.solver, self.penalty, self.dual)\n",
      "             ^^^^^^^^^^^^^^^^^^^^^^^^^^^^^^^^^^^^^^^^^^^^^^^^^^^\n",
      "  File \"/Users/roopeshraveendran/anaconda3/lib/python3.11/site-packages/sklearn/linear_model/_logistic.py\", line 67, in _check_solver\n",
      "    raise ValueError(\n",
      "ValueError: Solver lbfgs supports only 'l2' or None penalties, got elasticnet penalty.\n",
      "\n",
      "--------------------------------------------------------------------------------\n",
      "20 fits failed with the following error:\n",
      "Traceback (most recent call last):\n",
      "  File \"/Users/roopeshraveendran/anaconda3/lib/python3.11/site-packages/sklearn/model_selection/_validation.py\", line 888, in _fit_and_score\n",
      "    estimator.fit(X_train, y_train, **fit_params)\n",
      "  File \"/Users/roopeshraveendran/anaconda3/lib/python3.11/site-packages/sklearn/base.py\", line 1473, in wrapper\n",
      "    return fit_method(estimator, *args, **kwargs)\n",
      "           ^^^^^^^^^^^^^^^^^^^^^^^^^^^^^^^^^^^^^^\n",
      "  File \"/Users/roopeshraveendran/anaconda3/lib/python3.11/site-packages/sklearn/linear_model/_logistic.py\", line 1194, in fit\n",
      "    solver = _check_solver(self.solver, self.penalty, self.dual)\n",
      "             ^^^^^^^^^^^^^^^^^^^^^^^^^^^^^^^^^^^^^^^^^^^^^^^^^^^\n",
      "  File \"/Users/roopeshraveendran/anaconda3/lib/python3.11/site-packages/sklearn/linear_model/_logistic.py\", line 67, in _check_solver\n",
      "    raise ValueError(\n",
      "ValueError: Solver newton-cg supports only 'l2' or None penalties, got elasticnet penalty.\n",
      "\n",
      "--------------------------------------------------------------------------------\n",
      "20 fits failed with the following error:\n",
      "Traceback (most recent call last):\n",
      "  File \"/Users/roopeshraveendran/anaconda3/lib/python3.11/site-packages/sklearn/model_selection/_validation.py\", line 888, in _fit_and_score\n",
      "    estimator.fit(X_train, y_train, **fit_params)\n",
      "  File \"/Users/roopeshraveendran/anaconda3/lib/python3.11/site-packages/sklearn/base.py\", line 1473, in wrapper\n",
      "    return fit_method(estimator, *args, **kwargs)\n",
      "           ^^^^^^^^^^^^^^^^^^^^^^^^^^^^^^^^^^^^^^\n",
      "  File \"/Users/roopeshraveendran/anaconda3/lib/python3.11/site-packages/sklearn/linear_model/_logistic.py\", line 1194, in fit\n",
      "    solver = _check_solver(self.solver, self.penalty, self.dual)\n",
      "             ^^^^^^^^^^^^^^^^^^^^^^^^^^^^^^^^^^^^^^^^^^^^^^^^^^^\n",
      "  File \"/Users/roopeshraveendran/anaconda3/lib/python3.11/site-packages/sklearn/linear_model/_logistic.py\", line 75, in _check_solver\n",
      "    raise ValueError(\n",
      "ValueError: Only 'saga' solver supports elasticnet penalty, got solver=liblinear.\n",
      "\n",
      "--------------------------------------------------------------------------------\n",
      "20 fits failed with the following error:\n",
      "Traceback (most recent call last):\n",
      "  File \"/Users/roopeshraveendran/anaconda3/lib/python3.11/site-packages/sklearn/model_selection/_validation.py\", line 888, in _fit_and_score\n",
      "    estimator.fit(X_train, y_train, **fit_params)\n",
      "  File \"/Users/roopeshraveendran/anaconda3/lib/python3.11/site-packages/sklearn/base.py\", line 1473, in wrapper\n",
      "    return fit_method(estimator, *args, **kwargs)\n",
      "           ^^^^^^^^^^^^^^^^^^^^^^^^^^^^^^^^^^^^^^\n",
      "  File \"/Users/roopeshraveendran/anaconda3/lib/python3.11/site-packages/sklearn/linear_model/_logistic.py\", line 1194, in fit\n",
      "    solver = _check_solver(self.solver, self.penalty, self.dual)\n",
      "             ^^^^^^^^^^^^^^^^^^^^^^^^^^^^^^^^^^^^^^^^^^^^^^^^^^^\n",
      "  File \"/Users/roopeshraveendran/anaconda3/lib/python3.11/site-packages/sklearn/linear_model/_logistic.py\", line 67, in _check_solver\n",
      "    raise ValueError(\n",
      "ValueError: Solver sag supports only 'l2' or None penalties, got elasticnet penalty.\n",
      "\n",
      "--------------------------------------------------------------------------------\n",
      "20 fits failed with the following error:\n",
      "Traceback (most recent call last):\n",
      "  File \"/Users/roopeshraveendran/anaconda3/lib/python3.11/site-packages/sklearn/model_selection/_validation.py\", line 888, in _fit_and_score\n",
      "    estimator.fit(X_train, y_train, **fit_params)\n",
      "  File \"/Users/roopeshraveendran/anaconda3/lib/python3.11/site-packages/sklearn/base.py\", line 1473, in wrapper\n",
      "    return fit_method(estimator, *args, **kwargs)\n",
      "           ^^^^^^^^^^^^^^^^^^^^^^^^^^^^^^^^^^^^^^\n",
      "  File \"/Users/roopeshraveendran/anaconda3/lib/python3.11/site-packages/sklearn/linear_model/_logistic.py\", line 1204, in fit\n",
      "    raise ValueError(\"l1_ratio must be specified when penalty is elasticnet.\")\n",
      "ValueError: l1_ratio must be specified when penalty is elasticnet.\n",
      "\n",
      "--------------------------------------------------------------------------------\n",
      "100 fits failed with the following error:\n",
      "Traceback (most recent call last):\n",
      "  File \"/Users/roopeshraveendran/anaconda3/lib/python3.11/site-packages/sklearn/model_selection/_validation.py\", line 888, in _fit_and_score\n",
      "    estimator.fit(X_train, y_train, **fit_params)\n",
      "  File \"/Users/roopeshraveendran/anaconda3/lib/python3.11/site-packages/sklearn/base.py\", line 1466, in wrapper\n",
      "    estimator._validate_params()\n",
      "  File \"/Users/roopeshraveendran/anaconda3/lib/python3.11/site-packages/sklearn/base.py\", line 666, in _validate_params\n",
      "    validate_parameter_constraints(\n",
      "  File \"/Users/roopeshraveendran/anaconda3/lib/python3.11/site-packages/sklearn/utils/_param_validation.py\", line 95, in validate_parameter_constraints\n",
      "    raise InvalidParameterError(\n",
      "sklearn.utils._param_validation.InvalidParameterError: The 'penalty' parameter of LogisticRegression must be a str among {'l2', 'elasticnet', 'l1'} or None. Got 'none' instead.\n",
      "\n",
      "  warnings.warn(some_fits_failed_message, FitFailedWarning)\n",
      "/Users/roopeshraveendran/anaconda3/lib/python3.11/site-packages/sklearn/model_selection/_search.py:1103: UserWarning: One or more of the test scores are non-finite: [       nan        nan 0.73467181        nan 0.6619305  0.73683398\n",
      " 0.73482625 0.73513514 0.68108108 0.66146718        nan        nan\n",
      "        nan        nan        nan        nan        nan        nan\n",
      "        nan        nan        nan        nan 0.73467181        nan\n",
      " 0.66131274 0.72679537 0.73451737 0.73482625 0.6807722  0.6619305\n",
      "        nan        nan        nan        nan        nan        nan\n",
      "        nan        nan        nan        nan        nan        nan\n",
      " 0.73482625        nan 0.66162162 0.72988417 0.73498069 0.73482625\n",
      " 0.68169884 0.66239382        nan        nan        nan        nan\n",
      "        nan        nan        nan        nan        nan        nan\n",
      "        nan        nan 0.73513514        nan 0.66177606 0.72911197\n",
      " 0.73498069 0.73482625 0.68123552 0.6619305         nan        nan\n",
      "        nan        nan        nan        nan        nan        nan\n",
      "        nan        nan]\n",
      "  warnings.warn(\n",
      "/Users/roopeshraveendran/anaconda3/lib/python3.11/site-packages/sklearn/linear_model/_logistic.py:469: ConvergenceWarning: lbfgs failed to converge (status=1):\n",
      "STOP: TOTAL NO. of ITERATIONS REACHED LIMIT.\n",
      "\n",
      "Increase the number of iterations (max_iter) or scale the data as shown in:\n",
      "    https://scikit-learn.org/stable/modules/preprocessing.html\n",
      "Please also refer to the documentation for alternative solver options:\n",
      "    https://scikit-learn.org/stable/modules/linear_model.html#logistic-regression\n",
      "  n_iter_i = _check_optimize_result(\n"
     ]
    },
    {
     "data": {
      "text/html": [
       "<style>#sk-container-id-1 {\n",
       "  /* Definition of color scheme common for light and dark mode */\n",
       "  --sklearn-color-text: black;\n",
       "  --sklearn-color-line: gray;\n",
       "  /* Definition of color scheme for unfitted estimators */\n",
       "  --sklearn-color-unfitted-level-0: #fff5e6;\n",
       "  --sklearn-color-unfitted-level-1: #f6e4d2;\n",
       "  --sklearn-color-unfitted-level-2: #ffe0b3;\n",
       "  --sklearn-color-unfitted-level-3: chocolate;\n",
       "  /* Definition of color scheme for fitted estimators */\n",
       "  --sklearn-color-fitted-level-0: #f0f8ff;\n",
       "  --sklearn-color-fitted-level-1: #d4ebff;\n",
       "  --sklearn-color-fitted-level-2: #b3dbfd;\n",
       "  --sklearn-color-fitted-level-3: cornflowerblue;\n",
       "\n",
       "  /* Specific color for light theme */\n",
       "  --sklearn-color-text-on-default-background: var(--sg-text-color, var(--theme-code-foreground, var(--jp-content-font-color1, black)));\n",
       "  --sklearn-color-background: var(--sg-background-color, var(--theme-background, var(--jp-layout-color0, white)));\n",
       "  --sklearn-color-border-box: var(--sg-text-color, var(--theme-code-foreground, var(--jp-content-font-color1, black)));\n",
       "  --sklearn-color-icon: #696969;\n",
       "\n",
       "  @media (prefers-color-scheme: dark) {\n",
       "    /* Redefinition of color scheme for dark theme */\n",
       "    --sklearn-color-text-on-default-background: var(--sg-text-color, var(--theme-code-foreground, var(--jp-content-font-color1, white)));\n",
       "    --sklearn-color-background: var(--sg-background-color, var(--theme-background, var(--jp-layout-color0, #111)));\n",
       "    --sklearn-color-border-box: var(--sg-text-color, var(--theme-code-foreground, var(--jp-content-font-color1, white)));\n",
       "    --sklearn-color-icon: #878787;\n",
       "  }\n",
       "}\n",
       "\n",
       "#sk-container-id-1 {\n",
       "  color: var(--sklearn-color-text);\n",
       "}\n",
       "\n",
       "#sk-container-id-1 pre {\n",
       "  padding: 0;\n",
       "}\n",
       "\n",
       "#sk-container-id-1 input.sk-hidden--visually {\n",
       "  border: 0;\n",
       "  clip: rect(1px 1px 1px 1px);\n",
       "  clip: rect(1px, 1px, 1px, 1px);\n",
       "  height: 1px;\n",
       "  margin: -1px;\n",
       "  overflow: hidden;\n",
       "  padding: 0;\n",
       "  position: absolute;\n",
       "  width: 1px;\n",
       "}\n",
       "\n",
       "#sk-container-id-1 div.sk-dashed-wrapped {\n",
       "  border: 1px dashed var(--sklearn-color-line);\n",
       "  margin: 0 0.4em 0.5em 0.4em;\n",
       "  box-sizing: border-box;\n",
       "  padding-bottom: 0.4em;\n",
       "  background-color: var(--sklearn-color-background);\n",
       "}\n",
       "\n",
       "#sk-container-id-1 div.sk-container {\n",
       "  /* jupyter's `normalize.less` sets `[hidden] { display: none; }`\n",
       "     but bootstrap.min.css set `[hidden] { display: none !important; }`\n",
       "     so we also need the `!important` here to be able to override the\n",
       "     default hidden behavior on the sphinx rendered scikit-learn.org.\n",
       "     See: https://github.com/scikit-learn/scikit-learn/issues/21755 */\n",
       "  display: inline-block !important;\n",
       "  position: relative;\n",
       "}\n",
       "\n",
       "#sk-container-id-1 div.sk-text-repr-fallback {\n",
       "  display: none;\n",
       "}\n",
       "\n",
       "div.sk-parallel-item,\n",
       "div.sk-serial,\n",
       "div.sk-item {\n",
       "  /* draw centered vertical line to link estimators */\n",
       "  background-image: linear-gradient(var(--sklearn-color-text-on-default-background), var(--sklearn-color-text-on-default-background));\n",
       "  background-size: 2px 100%;\n",
       "  background-repeat: no-repeat;\n",
       "  background-position: center center;\n",
       "}\n",
       "\n",
       "/* Parallel-specific style estimator block */\n",
       "\n",
       "#sk-container-id-1 div.sk-parallel-item::after {\n",
       "  content: \"\";\n",
       "  width: 100%;\n",
       "  border-bottom: 2px solid var(--sklearn-color-text-on-default-background);\n",
       "  flex-grow: 1;\n",
       "}\n",
       "\n",
       "#sk-container-id-1 div.sk-parallel {\n",
       "  display: flex;\n",
       "  align-items: stretch;\n",
       "  justify-content: center;\n",
       "  background-color: var(--sklearn-color-background);\n",
       "  position: relative;\n",
       "}\n",
       "\n",
       "#sk-container-id-1 div.sk-parallel-item {\n",
       "  display: flex;\n",
       "  flex-direction: column;\n",
       "}\n",
       "\n",
       "#sk-container-id-1 div.sk-parallel-item:first-child::after {\n",
       "  align-self: flex-end;\n",
       "  width: 50%;\n",
       "}\n",
       "\n",
       "#sk-container-id-1 div.sk-parallel-item:last-child::after {\n",
       "  align-self: flex-start;\n",
       "  width: 50%;\n",
       "}\n",
       "\n",
       "#sk-container-id-1 div.sk-parallel-item:only-child::after {\n",
       "  width: 0;\n",
       "}\n",
       "\n",
       "/* Serial-specific style estimator block */\n",
       "\n",
       "#sk-container-id-1 div.sk-serial {\n",
       "  display: flex;\n",
       "  flex-direction: column;\n",
       "  align-items: center;\n",
       "  background-color: var(--sklearn-color-background);\n",
       "  padding-right: 1em;\n",
       "  padding-left: 1em;\n",
       "}\n",
       "\n",
       "\n",
       "/* Toggleable style: style used for estimator/Pipeline/ColumnTransformer box that is\n",
       "clickable and can be expanded/collapsed.\n",
       "- Pipeline and ColumnTransformer use this feature and define the default style\n",
       "- Estimators will overwrite some part of the style using the `sk-estimator` class\n",
       "*/\n",
       "\n",
       "/* Pipeline and ColumnTransformer style (default) */\n",
       "\n",
       "#sk-container-id-1 div.sk-toggleable {\n",
       "  /* Default theme specific background. It is overwritten whether we have a\n",
       "  specific estimator or a Pipeline/ColumnTransformer */\n",
       "  background-color: var(--sklearn-color-background);\n",
       "}\n",
       "\n",
       "/* Toggleable label */\n",
       "#sk-container-id-1 label.sk-toggleable__label {\n",
       "  cursor: pointer;\n",
       "  display: block;\n",
       "  width: 100%;\n",
       "  margin-bottom: 0;\n",
       "  padding: 0.5em;\n",
       "  box-sizing: border-box;\n",
       "  text-align: center;\n",
       "}\n",
       "\n",
       "#sk-container-id-1 label.sk-toggleable__label-arrow:before {\n",
       "  /* Arrow on the left of the label */\n",
       "  content: \"▸\";\n",
       "  float: left;\n",
       "  margin-right: 0.25em;\n",
       "  color: var(--sklearn-color-icon);\n",
       "}\n",
       "\n",
       "#sk-container-id-1 label.sk-toggleable__label-arrow:hover:before {\n",
       "  color: var(--sklearn-color-text);\n",
       "}\n",
       "\n",
       "/* Toggleable content - dropdown */\n",
       "\n",
       "#sk-container-id-1 div.sk-toggleable__content {\n",
       "  max-height: 0;\n",
       "  max-width: 0;\n",
       "  overflow: hidden;\n",
       "  text-align: left;\n",
       "  /* unfitted */\n",
       "  background-color: var(--sklearn-color-unfitted-level-0);\n",
       "}\n",
       "\n",
       "#sk-container-id-1 div.sk-toggleable__content.fitted {\n",
       "  /* fitted */\n",
       "  background-color: var(--sklearn-color-fitted-level-0);\n",
       "}\n",
       "\n",
       "#sk-container-id-1 div.sk-toggleable__content pre {\n",
       "  margin: 0.2em;\n",
       "  border-radius: 0.25em;\n",
       "  color: var(--sklearn-color-text);\n",
       "  /* unfitted */\n",
       "  background-color: var(--sklearn-color-unfitted-level-0);\n",
       "}\n",
       "\n",
       "#sk-container-id-1 div.sk-toggleable__content.fitted pre {\n",
       "  /* unfitted */\n",
       "  background-color: var(--sklearn-color-fitted-level-0);\n",
       "}\n",
       "\n",
       "#sk-container-id-1 input.sk-toggleable__control:checked~div.sk-toggleable__content {\n",
       "  /* Expand drop-down */\n",
       "  max-height: 200px;\n",
       "  max-width: 100%;\n",
       "  overflow: auto;\n",
       "}\n",
       "\n",
       "#sk-container-id-1 input.sk-toggleable__control:checked~label.sk-toggleable__label-arrow:before {\n",
       "  content: \"▾\";\n",
       "}\n",
       "\n",
       "/* Pipeline/ColumnTransformer-specific style */\n",
       "\n",
       "#sk-container-id-1 div.sk-label input.sk-toggleable__control:checked~label.sk-toggleable__label {\n",
       "  color: var(--sklearn-color-text);\n",
       "  background-color: var(--sklearn-color-unfitted-level-2);\n",
       "}\n",
       "\n",
       "#sk-container-id-1 div.sk-label.fitted input.sk-toggleable__control:checked~label.sk-toggleable__label {\n",
       "  background-color: var(--sklearn-color-fitted-level-2);\n",
       "}\n",
       "\n",
       "/* Estimator-specific style */\n",
       "\n",
       "/* Colorize estimator box */\n",
       "#sk-container-id-1 div.sk-estimator input.sk-toggleable__control:checked~label.sk-toggleable__label {\n",
       "  /* unfitted */\n",
       "  background-color: var(--sklearn-color-unfitted-level-2);\n",
       "}\n",
       "\n",
       "#sk-container-id-1 div.sk-estimator.fitted input.sk-toggleable__control:checked~label.sk-toggleable__label {\n",
       "  /* fitted */\n",
       "  background-color: var(--sklearn-color-fitted-level-2);\n",
       "}\n",
       "\n",
       "#sk-container-id-1 div.sk-label label.sk-toggleable__label,\n",
       "#sk-container-id-1 div.sk-label label {\n",
       "  /* The background is the default theme color */\n",
       "  color: var(--sklearn-color-text-on-default-background);\n",
       "}\n",
       "\n",
       "/* On hover, darken the color of the background */\n",
       "#sk-container-id-1 div.sk-label:hover label.sk-toggleable__label {\n",
       "  color: var(--sklearn-color-text);\n",
       "  background-color: var(--sklearn-color-unfitted-level-2);\n",
       "}\n",
       "\n",
       "/* Label box, darken color on hover, fitted */\n",
       "#sk-container-id-1 div.sk-label.fitted:hover label.sk-toggleable__label.fitted {\n",
       "  color: var(--sklearn-color-text);\n",
       "  background-color: var(--sklearn-color-fitted-level-2);\n",
       "}\n",
       "\n",
       "/* Estimator label */\n",
       "\n",
       "#sk-container-id-1 div.sk-label label {\n",
       "  font-family: monospace;\n",
       "  font-weight: bold;\n",
       "  display: inline-block;\n",
       "  line-height: 1.2em;\n",
       "}\n",
       "\n",
       "#sk-container-id-1 div.sk-label-container {\n",
       "  text-align: center;\n",
       "}\n",
       "\n",
       "/* Estimator-specific */\n",
       "#sk-container-id-1 div.sk-estimator {\n",
       "  font-family: monospace;\n",
       "  border: 1px dotted var(--sklearn-color-border-box);\n",
       "  border-radius: 0.25em;\n",
       "  box-sizing: border-box;\n",
       "  margin-bottom: 0.5em;\n",
       "  /* unfitted */\n",
       "  background-color: var(--sklearn-color-unfitted-level-0);\n",
       "}\n",
       "\n",
       "#sk-container-id-1 div.sk-estimator.fitted {\n",
       "  /* fitted */\n",
       "  background-color: var(--sklearn-color-fitted-level-0);\n",
       "}\n",
       "\n",
       "/* on hover */\n",
       "#sk-container-id-1 div.sk-estimator:hover {\n",
       "  /* unfitted */\n",
       "  background-color: var(--sklearn-color-unfitted-level-2);\n",
       "}\n",
       "\n",
       "#sk-container-id-1 div.sk-estimator.fitted:hover {\n",
       "  /* fitted */\n",
       "  background-color: var(--sklearn-color-fitted-level-2);\n",
       "}\n",
       "\n",
       "/* Specification for estimator info (e.g. \"i\" and \"?\") */\n",
       "\n",
       "/* Common style for \"i\" and \"?\" */\n",
       "\n",
       ".sk-estimator-doc-link,\n",
       "a:link.sk-estimator-doc-link,\n",
       "a:visited.sk-estimator-doc-link {\n",
       "  float: right;\n",
       "  font-size: smaller;\n",
       "  line-height: 1em;\n",
       "  font-family: monospace;\n",
       "  background-color: var(--sklearn-color-background);\n",
       "  border-radius: 1em;\n",
       "  height: 1em;\n",
       "  width: 1em;\n",
       "  text-decoration: none !important;\n",
       "  margin-left: 1ex;\n",
       "  /* unfitted */\n",
       "  border: var(--sklearn-color-unfitted-level-1) 1pt solid;\n",
       "  color: var(--sklearn-color-unfitted-level-1);\n",
       "}\n",
       "\n",
       ".sk-estimator-doc-link.fitted,\n",
       "a:link.sk-estimator-doc-link.fitted,\n",
       "a:visited.sk-estimator-doc-link.fitted {\n",
       "  /* fitted */\n",
       "  border: var(--sklearn-color-fitted-level-1) 1pt solid;\n",
       "  color: var(--sklearn-color-fitted-level-1);\n",
       "}\n",
       "\n",
       "/* On hover */\n",
       "div.sk-estimator:hover .sk-estimator-doc-link:hover,\n",
       ".sk-estimator-doc-link:hover,\n",
       "div.sk-label-container:hover .sk-estimator-doc-link:hover,\n",
       ".sk-estimator-doc-link:hover {\n",
       "  /* unfitted */\n",
       "  background-color: var(--sklearn-color-unfitted-level-3);\n",
       "  color: var(--sklearn-color-background);\n",
       "  text-decoration: none;\n",
       "}\n",
       "\n",
       "div.sk-estimator.fitted:hover .sk-estimator-doc-link.fitted:hover,\n",
       ".sk-estimator-doc-link.fitted:hover,\n",
       "div.sk-label-container:hover .sk-estimator-doc-link.fitted:hover,\n",
       ".sk-estimator-doc-link.fitted:hover {\n",
       "  /* fitted */\n",
       "  background-color: var(--sklearn-color-fitted-level-3);\n",
       "  color: var(--sklearn-color-background);\n",
       "  text-decoration: none;\n",
       "}\n",
       "\n",
       "/* Span, style for the box shown on hovering the info icon */\n",
       ".sk-estimator-doc-link span {\n",
       "  display: none;\n",
       "  z-index: 9999;\n",
       "  position: relative;\n",
       "  font-weight: normal;\n",
       "  right: .2ex;\n",
       "  padding: .5ex;\n",
       "  margin: .5ex;\n",
       "  width: min-content;\n",
       "  min-width: 20ex;\n",
       "  max-width: 50ex;\n",
       "  color: var(--sklearn-color-text);\n",
       "  box-shadow: 2pt 2pt 4pt #999;\n",
       "  /* unfitted */\n",
       "  background: var(--sklearn-color-unfitted-level-0);\n",
       "  border: .5pt solid var(--sklearn-color-unfitted-level-3);\n",
       "}\n",
       "\n",
       ".sk-estimator-doc-link.fitted span {\n",
       "  /* fitted */\n",
       "  background: var(--sklearn-color-fitted-level-0);\n",
       "  border: var(--sklearn-color-fitted-level-3);\n",
       "}\n",
       "\n",
       ".sk-estimator-doc-link:hover span {\n",
       "  display: block;\n",
       "}\n",
       "\n",
       "/* \"?\"-specific style due to the `<a>` HTML tag */\n",
       "\n",
       "#sk-container-id-1 a.estimator_doc_link {\n",
       "  float: right;\n",
       "  font-size: 1rem;\n",
       "  line-height: 1em;\n",
       "  font-family: monospace;\n",
       "  background-color: var(--sklearn-color-background);\n",
       "  border-radius: 1rem;\n",
       "  height: 1rem;\n",
       "  width: 1rem;\n",
       "  text-decoration: none;\n",
       "  /* unfitted */\n",
       "  color: var(--sklearn-color-unfitted-level-1);\n",
       "  border: var(--sklearn-color-unfitted-level-1) 1pt solid;\n",
       "}\n",
       "\n",
       "#sk-container-id-1 a.estimator_doc_link.fitted {\n",
       "  /* fitted */\n",
       "  border: var(--sklearn-color-fitted-level-1) 1pt solid;\n",
       "  color: var(--sklearn-color-fitted-level-1);\n",
       "}\n",
       "\n",
       "/* On hover */\n",
       "#sk-container-id-1 a.estimator_doc_link:hover {\n",
       "  /* unfitted */\n",
       "  background-color: var(--sklearn-color-unfitted-level-3);\n",
       "  color: var(--sklearn-color-background);\n",
       "  text-decoration: none;\n",
       "}\n",
       "\n",
       "#sk-container-id-1 a.estimator_doc_link.fitted:hover {\n",
       "  /* fitted */\n",
       "  background-color: var(--sklearn-color-fitted-level-3);\n",
       "}\n",
       "</style><div id=\"sk-container-id-1\" class=\"sk-top-container\"><div class=\"sk-text-repr-fallback\"><pre>GridSearchCV(cv=5, estimator=LogisticRegression(),\n",
       "             param_grid={&#x27;C&#x27;: [1, 5, 10, 20], &#x27;class_weight&#x27;: [{0: 1, 1: 5}],\n",
       "                         &#x27;penalty&#x27;: [&#x27;l1&#x27;, &#x27;l2&#x27;, &#x27;elasticnet&#x27;, &#x27;none&#x27;],\n",
       "                         &#x27;solver&#x27;: [&#x27;lbfgs&#x27;, &#x27;newton-cg&#x27;, &#x27;liblinear&#x27;, &#x27;sag&#x27;,\n",
       "                                    &#x27;saga&#x27;]})</pre><b>In a Jupyter environment, please rerun this cell to show the HTML representation or trust the notebook. <br />On GitHub, the HTML representation is unable to render, please try loading this page with nbviewer.org.</b></div><div class=\"sk-container\" hidden><div class=\"sk-item sk-dashed-wrapped\"><div class=\"sk-label-container\"><div class=\"sk-label fitted sk-toggleable\"><input class=\"sk-toggleable__control sk-hidden--visually\" id=\"sk-estimator-id-1\" type=\"checkbox\" ><label for=\"sk-estimator-id-1\" class=\"sk-toggleable__label fitted sk-toggleable__label-arrow fitted\">&nbsp;&nbsp;GridSearchCV<a class=\"sk-estimator-doc-link fitted\" rel=\"noreferrer\" target=\"_blank\" href=\"https://scikit-learn.org/1.5/modules/generated/sklearn.model_selection.GridSearchCV.html\">?<span>Documentation for GridSearchCV</span></a><span class=\"sk-estimator-doc-link fitted\">i<span>Fitted</span></span></label><div class=\"sk-toggleable__content fitted\"><pre>GridSearchCV(cv=5, estimator=LogisticRegression(),\n",
       "             param_grid={&#x27;C&#x27;: [1, 5, 10, 20], &#x27;class_weight&#x27;: [{0: 1, 1: 5}],\n",
       "                         &#x27;penalty&#x27;: [&#x27;l1&#x27;, &#x27;l2&#x27;, &#x27;elasticnet&#x27;, &#x27;none&#x27;],\n",
       "                         &#x27;solver&#x27;: [&#x27;lbfgs&#x27;, &#x27;newton-cg&#x27;, &#x27;liblinear&#x27;, &#x27;sag&#x27;,\n",
       "                                    &#x27;saga&#x27;]})</pre></div> </div></div><div class=\"sk-parallel\"><div class=\"sk-parallel-item\"><div class=\"sk-item\"><div class=\"sk-label-container\"><div class=\"sk-label fitted sk-toggleable\"><input class=\"sk-toggleable__control sk-hidden--visually\" id=\"sk-estimator-id-2\" type=\"checkbox\" ><label for=\"sk-estimator-id-2\" class=\"sk-toggleable__label fitted sk-toggleable__label-arrow fitted\">best_estimator_: LogisticRegression</label><div class=\"sk-toggleable__content fitted\"><pre>LogisticRegression(C=1, class_weight={0: 1, 1: 5})</pre></div> </div></div><div class=\"sk-serial\"><div class=\"sk-item\"><div class=\"sk-estimator fitted sk-toggleable\"><input class=\"sk-toggleable__control sk-hidden--visually\" id=\"sk-estimator-id-3\" type=\"checkbox\" ><label for=\"sk-estimator-id-3\" class=\"sk-toggleable__label fitted sk-toggleable__label-arrow fitted\">&nbsp;LogisticRegression<a class=\"sk-estimator-doc-link fitted\" rel=\"noreferrer\" target=\"_blank\" href=\"https://scikit-learn.org/1.5/modules/generated/sklearn.linear_model.LogisticRegression.html\">?<span>Documentation for LogisticRegression</span></a></label><div class=\"sk-toggleable__content fitted\"><pre>LogisticRegression(C=1, class_weight={0: 1, 1: 5})</pre></div> </div></div></div></div></div></div></div></div></div>"
      ],
      "text/plain": [
       "GridSearchCV(cv=5, estimator=LogisticRegression(),\n",
       "             param_grid={'C': [1, 5, 10, 20], 'class_weight': [{0: 1, 1: 5}],\n",
       "                         'penalty': ['l1', 'l2', 'elasticnet', 'none'],\n",
       "                         'solver': ['lbfgs', 'newton-cg', 'liblinear', 'sag',\n",
       "                                    'saga']})"
      ]
     },
     "execution_count": 45,
     "metadata": {},
     "output_type": "execute_result"
    }
   ],
   "source": [
    "# Fitting the data to the model\n",
    "classifier.fit(X, y)"
   ]
  },
  {
   "cell_type": "code",
   "execution_count": 46,
   "metadata": {
    "colab": {
     "base_uri": "https://localhost:8080/"
    },
    "id": "Am-ggAMhnp_9",
    "outputId": "fe76c0b2-9fe5-4876-e19d-a2c7e9a86fcb"
   },
   "outputs": [
    {
     "name": "stdout",
     "output_type": "stream",
     "text": [
      "{'C': 1, 'class_weight': {0: 1, 1: 5}, 'penalty': 'l2', 'solver': 'lbfgs'}\n"
     ]
    }
   ],
   "source": [
    "# Printing the best parameters\n",
    "best_parameters = classifier.best_params_\n",
    "print(best_parameters)"
   ]
  },
  {
   "cell_type": "code",
   "execution_count": 47,
   "metadata": {
    "colab": {
     "base_uri": "https://localhost:8080/"
    },
    "id": "VmIkCYhjp-Ne",
    "outputId": "381e2cc3-0a1b-4431-ae0c-fdf9d4509b12"
   },
   "outputs": [
    {
     "data": {
      "text/plain": [
       "0.7368339768339769"
      ]
     },
     "execution_count": 47,
     "metadata": {},
     "output_type": "execute_result"
    }
   ],
   "source": [
    "# Highest Accuracy\n",
    "highest_accuracy = classifier.best_score_\n",
    "highest_accuracy"
   ]
  },
  {
   "cell_type": "code",
   "execution_count": 48,
   "metadata": {
    "colab": {
     "base_uri": "https://localhost:8080/",
     "height": 1000
    },
    "id": "_e_QgK3lp-C6",
    "outputId": "1efc435e-f62e-406d-cb42-5d0b9e309f08"
   },
   "outputs": [
    {
     "data": {
      "text/html": [
       "<div>\n",
       "<style scoped>\n",
       "    .dataframe tbody tr th:only-of-type {\n",
       "        vertical-align: middle;\n",
       "    }\n",
       "\n",
       "    .dataframe tbody tr th {\n",
       "        vertical-align: top;\n",
       "    }\n",
       "\n",
       "    .dataframe thead th {\n",
       "        text-align: right;\n",
       "    }\n",
       "</style>\n",
       "<table border=\"1\" class=\"dataframe\">\n",
       "  <thead>\n",
       "    <tr style=\"text-align: right;\">\n",
       "      <th></th>\n",
       "      <th>mean_fit_time</th>\n",
       "      <th>std_fit_time</th>\n",
       "      <th>mean_score_time</th>\n",
       "      <th>std_score_time</th>\n",
       "      <th>param_C</th>\n",
       "      <th>param_class_weight</th>\n",
       "      <th>param_penalty</th>\n",
       "      <th>param_solver</th>\n",
       "      <th>params</th>\n",
       "      <th>split0_test_score</th>\n",
       "      <th>split1_test_score</th>\n",
       "      <th>split2_test_score</th>\n",
       "      <th>split3_test_score</th>\n",
       "      <th>split4_test_score</th>\n",
       "      <th>mean_test_score</th>\n",
       "      <th>std_test_score</th>\n",
       "      <th>rank_test_score</th>\n",
       "    </tr>\n",
       "  </thead>\n",
       "  <tbody>\n",
       "    <tr>\n",
       "      <th>0</th>\n",
       "      <td>0.000457</td>\n",
       "      <td>0.000287</td>\n",
       "      <td>0.000000</td>\n",
       "      <td>0.000000</td>\n",
       "      <td>1</td>\n",
       "      <td>{0: 1, 1: 5}</td>\n",
       "      <td>l1</td>\n",
       "      <td>lbfgs</td>\n",
       "      <td>{'C': 1, 'class_weight': {0: 1, 1: 5}, 'penalt...</td>\n",
       "      <td>NaN</td>\n",
       "      <td>NaN</td>\n",
       "      <td>NaN</td>\n",
       "      <td>NaN</td>\n",
       "      <td>NaN</td>\n",
       "      <td>NaN</td>\n",
       "      <td>NaN</td>\n",
       "      <td>29</td>\n",
       "    </tr>\n",
       "    <tr>\n",
       "      <th>1</th>\n",
       "      <td>0.000566</td>\n",
       "      <td>0.000234</td>\n",
       "      <td>0.000000</td>\n",
       "      <td>0.000000</td>\n",
       "      <td>1</td>\n",
       "      <td>{0: 1, 1: 5}</td>\n",
       "      <td>l1</td>\n",
       "      <td>newton-cg</td>\n",
       "      <td>{'C': 1, 'class_weight': {0: 1, 1: 5}, 'penalt...</td>\n",
       "      <td>NaN</td>\n",
       "      <td>NaN</td>\n",
       "      <td>NaN</td>\n",
       "      <td>NaN</td>\n",
       "      <td>NaN</td>\n",
       "      <td>NaN</td>\n",
       "      <td>NaN</td>\n",
       "      <td>29</td>\n",
       "    </tr>\n",
       "    <tr>\n",
       "      <th>2</th>\n",
       "      <td>0.060850</td>\n",
       "      <td>0.007157</td>\n",
       "      <td>0.001191</td>\n",
       "      <td>0.000458</td>\n",
       "      <td>1</td>\n",
       "      <td>{0: 1, 1: 5}</td>\n",
       "      <td>l1</td>\n",
       "      <td>liblinear</td>\n",
       "      <td>{'C': 1, 'class_weight': {0: 1, 1: 5}, 'penalt...</td>\n",
       "      <td>0.732046</td>\n",
       "      <td>0.736680</td>\n",
       "      <td>0.720463</td>\n",
       "      <td>0.727413</td>\n",
       "      <td>0.756757</td>\n",
       "      <td>0.734672</td>\n",
       "      <td>0.012274</td>\n",
       "      <td>11</td>\n",
       "    </tr>\n",
       "    <tr>\n",
       "      <th>3</th>\n",
       "      <td>0.000306</td>\n",
       "      <td>0.000044</td>\n",
       "      <td>0.000000</td>\n",
       "      <td>0.000000</td>\n",
       "      <td>1</td>\n",
       "      <td>{0: 1, 1: 5}</td>\n",
       "      <td>l1</td>\n",
       "      <td>sag</td>\n",
       "      <td>{'C': 1, 'class_weight': {0: 1, 1: 5}, 'penalt...</td>\n",
       "      <td>NaN</td>\n",
       "      <td>NaN</td>\n",
       "      <td>NaN</td>\n",
       "      <td>NaN</td>\n",
       "      <td>NaN</td>\n",
       "      <td>NaN</td>\n",
       "      <td>NaN</td>\n",
       "      <td>29</td>\n",
       "    </tr>\n",
       "    <tr>\n",
       "      <th>4</th>\n",
       "      <td>0.092281</td>\n",
       "      <td>0.006259</td>\n",
       "      <td>0.003918</td>\n",
       "      <td>0.005242</td>\n",
       "      <td>1</td>\n",
       "      <td>{0: 1, 1: 5}</td>\n",
       "      <td>l1</td>\n",
       "      <td>saga</td>\n",
       "      <td>{'C': 1, 'class_weight': {0: 1, 1: 5}, 'penalt...</td>\n",
       "      <td>0.655598</td>\n",
       "      <td>0.664093</td>\n",
       "      <td>0.644015</td>\n",
       "      <td>0.684942</td>\n",
       "      <td>0.661004</td>\n",
       "      <td>0.661931</td>\n",
       "      <td>0.013387</td>\n",
       "      <td>22</td>\n",
       "    </tr>\n",
       "    <tr>\n",
       "      <th>...</th>\n",
       "      <td>...</td>\n",
       "      <td>...</td>\n",
       "      <td>...</td>\n",
       "      <td>...</td>\n",
       "      <td>...</td>\n",
       "      <td>...</td>\n",
       "      <td>...</td>\n",
       "      <td>...</td>\n",
       "      <td>...</td>\n",
       "      <td>...</td>\n",
       "      <td>...</td>\n",
       "      <td>...</td>\n",
       "      <td>...</td>\n",
       "      <td>...</td>\n",
       "      <td>...</td>\n",
       "      <td>...</td>\n",
       "      <td>...</td>\n",
       "    </tr>\n",
       "    <tr>\n",
       "      <th>75</th>\n",
       "      <td>0.000244</td>\n",
       "      <td>0.000002</td>\n",
       "      <td>0.000000</td>\n",
       "      <td>0.000000</td>\n",
       "      <td>20</td>\n",
       "      <td>{0: 1, 1: 5}</td>\n",
       "      <td>none</td>\n",
       "      <td>lbfgs</td>\n",
       "      <td>{'C': 20, 'class_weight': {0: 1, 1: 5}, 'penal...</td>\n",
       "      <td>NaN</td>\n",
       "      <td>NaN</td>\n",
       "      <td>NaN</td>\n",
       "      <td>NaN</td>\n",
       "      <td>NaN</td>\n",
       "      <td>NaN</td>\n",
       "      <td>NaN</td>\n",
       "      <td>29</td>\n",
       "    </tr>\n",
       "    <tr>\n",
       "      <th>76</th>\n",
       "      <td>0.000243</td>\n",
       "      <td>0.000002</td>\n",
       "      <td>0.000000</td>\n",
       "      <td>0.000000</td>\n",
       "      <td>20</td>\n",
       "      <td>{0: 1, 1: 5}</td>\n",
       "      <td>none</td>\n",
       "      <td>newton-cg</td>\n",
       "      <td>{'C': 20, 'class_weight': {0: 1, 1: 5}, 'penal...</td>\n",
       "      <td>NaN</td>\n",
       "      <td>NaN</td>\n",
       "      <td>NaN</td>\n",
       "      <td>NaN</td>\n",
       "      <td>NaN</td>\n",
       "      <td>NaN</td>\n",
       "      <td>NaN</td>\n",
       "      <td>29</td>\n",
       "    </tr>\n",
       "    <tr>\n",
       "      <th>77</th>\n",
       "      <td>0.000242</td>\n",
       "      <td>0.000003</td>\n",
       "      <td>0.000000</td>\n",
       "      <td>0.000000</td>\n",
       "      <td>20</td>\n",
       "      <td>{0: 1, 1: 5}</td>\n",
       "      <td>none</td>\n",
       "      <td>liblinear</td>\n",
       "      <td>{'C': 20, 'class_weight': {0: 1, 1: 5}, 'penal...</td>\n",
       "      <td>NaN</td>\n",
       "      <td>NaN</td>\n",
       "      <td>NaN</td>\n",
       "      <td>NaN</td>\n",
       "      <td>NaN</td>\n",
       "      <td>NaN</td>\n",
       "      <td>NaN</td>\n",
       "      <td>29</td>\n",
       "    </tr>\n",
       "    <tr>\n",
       "      <th>78</th>\n",
       "      <td>0.000244</td>\n",
       "      <td>0.000004</td>\n",
       "      <td>0.000000</td>\n",
       "      <td>0.000000</td>\n",
       "      <td>20</td>\n",
       "      <td>{0: 1, 1: 5}</td>\n",
       "      <td>none</td>\n",
       "      <td>sag</td>\n",
       "      <td>{'C': 20, 'class_weight': {0: 1, 1: 5}, 'penal...</td>\n",
       "      <td>NaN</td>\n",
       "      <td>NaN</td>\n",
       "      <td>NaN</td>\n",
       "      <td>NaN</td>\n",
       "      <td>NaN</td>\n",
       "      <td>NaN</td>\n",
       "      <td>NaN</td>\n",
       "      <td>29</td>\n",
       "    </tr>\n",
       "    <tr>\n",
       "      <th>79</th>\n",
       "      <td>0.000240</td>\n",
       "      <td>0.000001</td>\n",
       "      <td>0.000000</td>\n",
       "      <td>0.000000</td>\n",
       "      <td>20</td>\n",
       "      <td>{0: 1, 1: 5}</td>\n",
       "      <td>none</td>\n",
       "      <td>saga</td>\n",
       "      <td>{'C': 20, 'class_weight': {0: 1, 1: 5}, 'penal...</td>\n",
       "      <td>NaN</td>\n",
       "      <td>NaN</td>\n",
       "      <td>NaN</td>\n",
       "      <td>NaN</td>\n",
       "      <td>NaN</td>\n",
       "      <td>NaN</td>\n",
       "      <td>NaN</td>\n",
       "      <td>29</td>\n",
       "    </tr>\n",
       "  </tbody>\n",
       "</table>\n",
       "<p>80 rows × 17 columns</p>\n",
       "</div>"
      ],
      "text/plain": [
       "    mean_fit_time  std_fit_time  mean_score_time  std_score_time  param_C  \\\n",
       "0        0.000457      0.000287         0.000000        0.000000        1   \n",
       "1        0.000566      0.000234         0.000000        0.000000        1   \n",
       "2        0.060850      0.007157         0.001191        0.000458        1   \n",
       "3        0.000306      0.000044         0.000000        0.000000        1   \n",
       "4        0.092281      0.006259         0.003918        0.005242        1   \n",
       "..            ...           ...              ...             ...      ...   \n",
       "75       0.000244      0.000002         0.000000        0.000000       20   \n",
       "76       0.000243      0.000002         0.000000        0.000000       20   \n",
       "77       0.000242      0.000003         0.000000        0.000000       20   \n",
       "78       0.000244      0.000004         0.000000        0.000000       20   \n",
       "79       0.000240      0.000001         0.000000        0.000000       20   \n",
       "\n",
       "   param_class_weight param_penalty param_solver  \\\n",
       "0        {0: 1, 1: 5}            l1        lbfgs   \n",
       "1        {0: 1, 1: 5}            l1    newton-cg   \n",
       "2        {0: 1, 1: 5}            l1    liblinear   \n",
       "3        {0: 1, 1: 5}            l1          sag   \n",
       "4        {0: 1, 1: 5}            l1         saga   \n",
       "..                ...           ...          ...   \n",
       "75       {0: 1, 1: 5}          none        lbfgs   \n",
       "76       {0: 1, 1: 5}          none    newton-cg   \n",
       "77       {0: 1, 1: 5}          none    liblinear   \n",
       "78       {0: 1, 1: 5}          none          sag   \n",
       "79       {0: 1, 1: 5}          none         saga   \n",
       "\n",
       "                                               params  split0_test_score  \\\n",
       "0   {'C': 1, 'class_weight': {0: 1, 1: 5}, 'penalt...                NaN   \n",
       "1   {'C': 1, 'class_weight': {0: 1, 1: 5}, 'penalt...                NaN   \n",
       "2   {'C': 1, 'class_weight': {0: 1, 1: 5}, 'penalt...           0.732046   \n",
       "3   {'C': 1, 'class_weight': {0: 1, 1: 5}, 'penalt...                NaN   \n",
       "4   {'C': 1, 'class_weight': {0: 1, 1: 5}, 'penalt...           0.655598   \n",
       "..                                                ...                ...   \n",
       "75  {'C': 20, 'class_weight': {0: 1, 1: 5}, 'penal...                NaN   \n",
       "76  {'C': 20, 'class_weight': {0: 1, 1: 5}, 'penal...                NaN   \n",
       "77  {'C': 20, 'class_weight': {0: 1, 1: 5}, 'penal...                NaN   \n",
       "78  {'C': 20, 'class_weight': {0: 1, 1: 5}, 'penal...                NaN   \n",
       "79  {'C': 20, 'class_weight': {0: 1, 1: 5}, 'penal...                NaN   \n",
       "\n",
       "    split1_test_score  split2_test_score  split3_test_score  \\\n",
       "0                 NaN                NaN                NaN   \n",
       "1                 NaN                NaN                NaN   \n",
       "2            0.736680           0.720463           0.727413   \n",
       "3                 NaN                NaN                NaN   \n",
       "4            0.664093           0.644015           0.684942   \n",
       "..                ...                ...                ...   \n",
       "75                NaN                NaN                NaN   \n",
       "76                NaN                NaN                NaN   \n",
       "77                NaN                NaN                NaN   \n",
       "78                NaN                NaN                NaN   \n",
       "79                NaN                NaN                NaN   \n",
       "\n",
       "    split4_test_score  mean_test_score  std_test_score  rank_test_score  \n",
       "0                 NaN              NaN             NaN               29  \n",
       "1                 NaN              NaN             NaN               29  \n",
       "2            0.756757         0.734672        0.012274               11  \n",
       "3                 NaN              NaN             NaN               29  \n",
       "4            0.661004         0.661931        0.013387               22  \n",
       "..                ...              ...             ...              ...  \n",
       "75                NaN              NaN             NaN               29  \n",
       "76                NaN              NaN             NaN               29  \n",
       "77                NaN              NaN             NaN               29  \n",
       "78                NaN              NaN             NaN               29  \n",
       "79                NaN              NaN             NaN               29  \n",
       "\n",
       "[80 rows x 17 columns]"
      ]
     },
     "execution_count": 48,
     "metadata": {},
     "output_type": "execute_result"
    }
   ],
   "source": [
    "#Loading the results to panda Dataframe\n",
    "result = pd.DataFrame(classifier.cv_results_)\n",
    "result"
   ]
  },
  {
   "cell_type": "code",
   "execution_count": 49,
   "metadata": {
    "colab": {
     "base_uri": "https://localhost:8080/",
     "height": 424
    },
    "id": "MjCjY3D7p93Z",
    "outputId": "d64d1bd2-4db3-4cf1-a97b-6cb7b265a031"
   },
   "outputs": [
    {
     "data": {
      "text/html": [
       "<div>\n",
       "<style scoped>\n",
       "    .dataframe tbody tr th:only-of-type {\n",
       "        vertical-align: middle;\n",
       "    }\n",
       "\n",
       "    .dataframe tbody tr th {\n",
       "        vertical-align: top;\n",
       "    }\n",
       "\n",
       "    .dataframe thead th {\n",
       "        text-align: right;\n",
       "    }\n",
       "</style>\n",
       "<table border=\"1\" class=\"dataframe\">\n",
       "  <thead>\n",
       "    <tr style=\"text-align: right;\">\n",
       "      <th></th>\n",
       "      <th>param_C</th>\n",
       "      <th>param_penalty</th>\n",
       "      <th>param_solver</th>\n",
       "      <th>mean_test_score</th>\n",
       "    </tr>\n",
       "  </thead>\n",
       "  <tbody>\n",
       "    <tr>\n",
       "      <th>0</th>\n",
       "      <td>1</td>\n",
       "      <td>l1</td>\n",
       "      <td>lbfgs</td>\n",
       "      <td>NaN</td>\n",
       "    </tr>\n",
       "    <tr>\n",
       "      <th>1</th>\n",
       "      <td>1</td>\n",
       "      <td>l1</td>\n",
       "      <td>newton-cg</td>\n",
       "      <td>NaN</td>\n",
       "    </tr>\n",
       "    <tr>\n",
       "      <th>2</th>\n",
       "      <td>1</td>\n",
       "      <td>l1</td>\n",
       "      <td>liblinear</td>\n",
       "      <td>0.734672</td>\n",
       "    </tr>\n",
       "    <tr>\n",
       "      <th>3</th>\n",
       "      <td>1</td>\n",
       "      <td>l1</td>\n",
       "      <td>sag</td>\n",
       "      <td>NaN</td>\n",
       "    </tr>\n",
       "    <tr>\n",
       "      <th>4</th>\n",
       "      <td>1</td>\n",
       "      <td>l1</td>\n",
       "      <td>saga</td>\n",
       "      <td>0.661931</td>\n",
       "    </tr>\n",
       "    <tr>\n",
       "      <th>...</th>\n",
       "      <td>...</td>\n",
       "      <td>...</td>\n",
       "      <td>...</td>\n",
       "      <td>...</td>\n",
       "    </tr>\n",
       "    <tr>\n",
       "      <th>75</th>\n",
       "      <td>20</td>\n",
       "      <td>none</td>\n",
       "      <td>lbfgs</td>\n",
       "      <td>NaN</td>\n",
       "    </tr>\n",
       "    <tr>\n",
       "      <th>76</th>\n",
       "      <td>20</td>\n",
       "      <td>none</td>\n",
       "      <td>newton-cg</td>\n",
       "      <td>NaN</td>\n",
       "    </tr>\n",
       "    <tr>\n",
       "      <th>77</th>\n",
       "      <td>20</td>\n",
       "      <td>none</td>\n",
       "      <td>liblinear</td>\n",
       "      <td>NaN</td>\n",
       "    </tr>\n",
       "    <tr>\n",
       "      <th>78</th>\n",
       "      <td>20</td>\n",
       "      <td>none</td>\n",
       "      <td>sag</td>\n",
       "      <td>NaN</td>\n",
       "    </tr>\n",
       "    <tr>\n",
       "      <th>79</th>\n",
       "      <td>20</td>\n",
       "      <td>none</td>\n",
       "      <td>saga</td>\n",
       "      <td>NaN</td>\n",
       "    </tr>\n",
       "  </tbody>\n",
       "</table>\n",
       "<p>80 rows × 4 columns</p>\n",
       "</div>"
      ],
      "text/plain": [
       "    param_C param_penalty param_solver  mean_test_score\n",
       "0         1            l1        lbfgs              NaN\n",
       "1         1            l1    newton-cg              NaN\n",
       "2         1            l1    liblinear         0.734672\n",
       "3         1            l1          sag              NaN\n",
       "4         1            l1         saga         0.661931\n",
       "..      ...           ...          ...              ...\n",
       "75       20          none        lbfgs              NaN\n",
       "76       20          none    newton-cg              NaN\n",
       "77       20          none    liblinear              NaN\n",
       "78       20          none          sag              NaN\n",
       "79       20          none         saga              NaN\n",
       "\n",
       "[80 rows x 4 columns]"
      ]
     },
     "execution_count": 49,
     "metadata": {},
     "output_type": "execute_result"
    }
   ],
   "source": [
    "grid_search_result = result[['param_C','param_penalty','param_solver', 'mean_test_score']]\n",
    "grid_search_result"
   ]
  },
  {
   "cell_type": "markdown",
   "metadata": {
    "id": "7Hfzx2a5qm-f"
   },
   "source": [
    "As you can see the hyper parameter tuning selected C': 1, 'penalty': 'l2', 'lbfgs': 'liblinear' as best parameters. Now we apply these parameters to our baseline model and see how that improves the performance metrics."
   ]
  },
  {
   "cell_type": "code",
   "execution_count": 50,
   "metadata": {
    "id": "9sLlh1KaqP8v"
   },
   "outputs": [],
   "source": [
    "#Applying hypertuned parameters to the model\n",
    "logreg = LogisticRegression(penalty = 'l2', class_weight = {0: 1, 1: 2.5}, C = 5, solver = 'lbfgs')\n",
    "\n",
    "logreg.fit(X_train,y_train)\n",
    "y_pred = logreg.predict(X_test)"
   ]
  },
  {
   "cell_type": "code",
   "execution_count": 51,
   "metadata": {
    "colab": {
     "base_uri": "https://localhost:8080/"
    },
    "id": "qDoWuyGM5O4u",
    "outputId": "20320090-7114-488e-9896-7b5c9ae07564"
   },
   "outputs": [
    {
     "name": "stdout",
     "output_type": "stream",
     "text": [
      "The F1 Score is: 0.72\n"
     ]
    }
   ],
   "source": [
    "#f1 Score of Churned prediction, Churned = 1\n",
    "f_score = f1_score(y_test,y_pred,average = None).round(2)[1]\n",
    "\n",
    "print(\"The F1 Score is:\", f_score)"
   ]
  },
  {
   "cell_type": "code",
   "execution_count": 52,
   "metadata": {
    "colab": {
     "base_uri": "https://localhost:8080/"
    },
    "id": "fig2qh7YqPg-",
    "outputId": "48d9f16d-4909-465d-f86b-0a1d266eea55"
   },
   "outputs": [
    {
     "data": {
      "text/plain": [
       "0.8123552123552124"
      ]
     },
     "execution_count": 52,
     "metadata": {},
     "output_type": "execute_result"
    }
   ],
   "source": [
    "acc = accuracy_score(y_test,y_pred)\n",
    "acc"
   ]
  },
  {
   "cell_type": "code",
   "execution_count": 53,
   "metadata": {
    "colab": {
     "base_uri": "https://localhost:8080/"
    },
    "id": "t2ecTH-VqfAm",
    "outputId": "d9a861f3-9d6a-48ce-f8e8-2704145d9467"
   },
   "outputs": [
    {
     "name": "stdout",
     "output_type": "stream",
     "text": [
      "The Precision is: 0.62\n"
     ]
    }
   ],
   "source": [
    "#Precision for Churned Class\n",
    "prec = precision_score(y_test,y_pred,average = None).round(2)[1]\n",
    "print(\"The Precision is:\", prec)"
   ]
  },
  {
   "cell_type": "code",
   "execution_count": 54,
   "metadata": {
    "colab": {
     "base_uri": "https://localhost:8080/"
    },
    "id": "sEdssfkkqe2y",
    "outputId": "6b4bced7-9f09-4c59-ad9c-cb7d8787091a"
   },
   "outputs": [
    {
     "name": "stdout",
     "output_type": "stream",
     "text": [
      "The Recall is: 0.86\n"
     ]
    }
   ],
   "source": [
    "#Recall for Churned class\n",
    "rec = recall_score(y_test,y_pred,average = None).round(2)[1]\n",
    "print(\"The Recall is:\", rec)"
   ]
  },
  {
   "cell_type": "markdown",
   "metadata": {
    "id": "g1qSJopirBRc"
   },
   "source": [
    "Looking at the performance metrics,\n",
    "1. The hyper-tuned model has an accuracy of 81%, a little less than the baseline model, but still a good number. This could be because the hypertuned model takes the data imbalance into consideration and hence shows a more accurate accuracy than the baseline model, where the data imbalance is evident.\n",
    "2. The precision is remarkably lesser than the baseline model around 62%\n",
    "3. The Recall however is 86% evidently very high which is really good for our churned class prediction.It increased from 75% to 86% after hypertuning."
   ]
  },
  {
   "cell_type": "markdown",
   "metadata": {
    "id": "G4_bnAGphRsh"
   },
   "source": [
    "As we are more interested in detecting people which are about to churn the company, we wanted to increase the recall of the churned class. Apart from Hypertuning we are trying out Oversampling technique to see if that efficiently manages the data imbalance."
   ]
  },
  {
   "cell_type": "markdown",
   "metadata": {
    "id": "HmiBd3wHhWgf"
   },
   "source": [
    "**Handling Data Imbalance**"
   ]
  },
  {
   "cell_type": "code",
   "execution_count": 55,
   "metadata": {
    "id": "9u5-y5IzgvYL"
   },
   "outputs": [],
   "source": [
    "#Performing Feature Engineering\n",
    "bins = [19,30,45,60,80]\n",
    "names = ['19-30','30-45','45-60','60-80']\n",
    "def eng_df():\n",
    "    df_eng = model_smote.copy()\n",
    "    df_eng['AgeRange'] = pd.cut(df_eng['Age'],bins, labels = names,include_lowest = True).astype('object')\n",
    "    df_eng['is_loyal'] = np.where(df_eng['Tenure_in_Months'] >= 30, 'Yes','No')\n",
    "    df_eng['Dependents_cat'] = np.where(df_eng['Number_of_Dependents'] == 0,'No','Yes')\n",
    "\n",
    "    return df_eng\n",
    "\n",
    "df_eng = eng_df()"
   ]
  },
  {
   "cell_type": "code",
   "execution_count": 56,
   "metadata": {
    "id": "52zI-zOWhLeN"
   },
   "outputs": [],
   "source": [
    "df_smote = eng_df()"
   ]
  },
  {
   "cell_type": "code",
   "execution_count": 57,
   "metadata": {
    "id": "wekAmDyIhLh7"
   },
   "outputs": [],
   "source": [
    "#Splitting data\n",
    "column_drop = ['Gender', 'Age', 'Avg_Monthly_Long_Distance_Charges', 'Avg_Monthly_GB_Download', 'Streaming_TV',\n",
    "                 'Monthly_Charge', 'Churned','Contract_Monthly']\n",
    "X1 = df_smote.drop(column_drop, axis = 1)\n",
    "y1 = df_smote['Churned']\n",
    "\n",
    "X1_train, X1_test, y1_train, y1_test = train_test_split(X1,y1,test_size = 0.2,stratify = y1,random_state = 123)"
   ]
  },
  {
   "cell_type": "code",
   "execution_count": 58,
   "metadata": {
    "id": "5zK92p-hhLlK"
   },
   "outputs": [],
   "source": [
    "# Define x_train and y_train for Smote\n",
    "y_train_sm = y1_train\n",
    "X_train_sm = X1_train"
   ]
  },
  {
   "cell_type": "code",
   "execution_count": 59,
   "metadata": {
    "id": "j3IQI6SghLoZ"
   },
   "outputs": [
    {
     "name": "stderr",
     "output_type": "stream",
     "text": [
      "/Users/roopeshraveendran/anaconda3/lib/python3.11/site-packages/imblearn/over_sampling/_smote/base.py:608: FutureWarning: elementwise comparison failed; returning scalar instead, but in the future will perform elementwise comparison\n",
      "  if self.categorical_features == \"auto\":\n"
     ]
    }
   ],
   "source": [
    "#Applying SMOTE\n",
    "\n",
    "import sklearn\n",
    "import imblearn\n",
    "from imblearn.over_sampling import SMOTENC\n",
    "\n",
    "smote = SMOTENC(categorical_features = (X_train_sm.dtypes == \"object\").values,random_state = 531)\n",
    "\n",
    "X1_train, y1_train = smote.fit_resample(X_train_sm, y_train_sm)"
   ]
  },
  {
   "cell_type": "code",
   "execution_count": 60,
   "metadata": {
    "colab": {
     "base_uri": "https://localhost:8080/"
    },
    "id": "wMnUEzt_hp89",
    "outputId": "b87e418e-30c4-488a-a20b-601bb920960a"
   },
   "outputs": [
    {
     "data": {
      "text/plain": [
       "Churned\n",
       "False    3709\n",
       "True     3709\n",
       "Name: count, dtype: int64"
      ]
     },
     "execution_count": 60,
     "metadata": {},
     "output_type": "execute_result"
    }
   ],
   "source": [
    "y1_train.value_counts()"
   ]
  },
  {
   "cell_type": "markdown",
   "metadata": {
    "id": "8rZWM90fhwmU"
   },
   "source": [
    "**Performing data pre-processing**"
   ]
  },
  {
   "cell_type": "code",
   "execution_count": 61,
   "metadata": {
    "id": "D2KNoFlQhqAe"
   },
   "outputs": [],
   "source": [
    "#Replacing gender column with numnerical value, 0 for female and 1 for male\n",
    "X1_train.replace({\"Gender\":{'Female':0,'Male':1}},inplace=True)\n",
    "X1_test.replace({\"Gender\":{'Female':0,'Male':1}},inplace=True)"
   ]
  },
  {
   "cell_type": "code",
   "execution_count": 62,
   "metadata": {
    "id": "mM5SjX85hqEW"
   },
   "outputs": [],
   "source": [
    "# Replacing all yes_no columns with 1 and 0\n",
    "yes_and_no = ['Married', 'Phone_Service', 'Multiple_Lines', 'Internet_Service', 'Streaming_Movies', 'Streaming_Music',\n",
    "              'Unlimited_Data','Paperless_Billing','Dependents_cat','is_loyal']\n",
    "\n",
    "for i in yes_and_no:\n",
    "    X1_train.replace({'No':0,'Yes':1},inplace=True)\n",
    "    X1_test.replace({'No':0,'Yes':1},inplace=True)"
   ]
  },
  {
   "cell_type": "code",
   "execution_count": 63,
   "metadata": {
    "id": "pSN7VRBJh6Zb"
   },
   "outputs": [],
   "source": [
    "#Getting dummy variables for other categorical column\n",
    "X1_train = pd.get_dummies(data = X1_train, columns=['Payment_Method'], drop_first = True)\n",
    "X1_test = pd.get_dummies(data = X1_test, columns=['Payment_Method'],  drop_first = True)\n"
   ]
  },
  {
   "cell_type": "code",
   "execution_count": 64,
   "metadata": {
    "id": "Xk454cMhh6g-"
   },
   "outputs": [],
   "source": [
    "#Converting categorical field Age Range to numerical ordinal value\n",
    "from sklearn.preprocessing import LabelEncoder, OrdinalEncoder\n",
    "ord_encoder = OrdinalEncoder()\n",
    "X1_train[['AgeRange']] = ord_encoder.fit_transform(X1_train[['AgeRange']])\n",
    "X1_test[['AgeRange']] = ord_encoder.transform(X1_test[['AgeRange']])"
   ]
  },
  {
   "cell_type": "code",
   "execution_count": 65,
   "metadata": {
    "id": "_tRbfocRhqLQ"
   },
   "outputs": [],
   "source": [
    "# Standardizing numeric columns\n",
    "std_scaler = StandardScaler()\n",
    "X1_train[num_cols] = std_scaler.fit_transform(X1_train[num_cols])\n",
    "X1_test[num_cols] = std_scaler.transform(X1_test[num_cols])"
   ]
  },
  {
   "cell_type": "code",
   "execution_count": 66,
   "metadata": {
    "colab": {
     "base_uri": "https://localhost:8080/",
     "height": 505
    },
    "id": "eaWWZi1AiYH_",
    "outputId": "42400c80-c766-4458-96ab-de89de44024e"
   },
   "outputs": [
    {
     "data": {
      "text/html": [
       "<div>\n",
       "<style scoped>\n",
       "    .dataframe tbody tr th:only-of-type {\n",
       "        vertical-align: middle;\n",
       "    }\n",
       "\n",
       "    .dataframe tbody tr th {\n",
       "        vertical-align: top;\n",
       "    }\n",
       "\n",
       "    .dataframe thead th {\n",
       "        text-align: right;\n",
       "    }\n",
       "</style>\n",
       "<table border=\"1\" class=\"dataframe\">\n",
       "  <thead>\n",
       "    <tr style=\"text-align: right;\">\n",
       "      <th></th>\n",
       "      <th>Married</th>\n",
       "      <th>Number_of_Dependents</th>\n",
       "      <th>Tenure_in_Months</th>\n",
       "      <th>Phone_Service</th>\n",
       "      <th>Multiple_Lines</th>\n",
       "      <th>Internet_Service</th>\n",
       "      <th>Streaming_Movies</th>\n",
       "      <th>Streaming_Music</th>\n",
       "      <th>Unlimited_Data</th>\n",
       "      <th>Paperless_Billing</th>\n",
       "      <th>Total_Charges</th>\n",
       "      <th>Contract_OneYear</th>\n",
       "      <th>Contract_TwoYear</th>\n",
       "      <th>AgeRange</th>\n",
       "      <th>is_loyal</th>\n",
       "      <th>Dependents_cat</th>\n",
       "      <th>Payment_Method_Credit Card</th>\n",
       "      <th>Payment_Method_Mailed Check</th>\n",
       "    </tr>\n",
       "  </thead>\n",
       "  <tbody>\n",
       "    <tr>\n",
       "      <th>0</th>\n",
       "      <td>0</td>\n",
       "      <td>-0.404988</td>\n",
       "      <td>-1.072726</td>\n",
       "      <td>1</td>\n",
       "      <td>0</td>\n",
       "      <td>0</td>\n",
       "      <td>0</td>\n",
       "      <td>0</td>\n",
       "      <td>0</td>\n",
       "      <td>1</td>\n",
       "      <td>-0.960524</td>\n",
       "      <td>False</td>\n",
       "      <td>False</td>\n",
       "      <td>2.0</td>\n",
       "      <td>0</td>\n",
       "      <td>0</td>\n",
       "      <td>True</td>\n",
       "      <td>False</td>\n",
       "    </tr>\n",
       "    <tr>\n",
       "      <th>1</th>\n",
       "      <td>1</td>\n",
       "      <td>-0.404988</td>\n",
       "      <td>0.267065</td>\n",
       "      <td>1</td>\n",
       "      <td>1</td>\n",
       "      <td>1</td>\n",
       "      <td>1</td>\n",
       "      <td>1</td>\n",
       "      <td>1</td>\n",
       "      <td>1</td>\n",
       "      <td>0.581754</td>\n",
       "      <td>False</td>\n",
       "      <td>False</td>\n",
       "      <td>2.0</td>\n",
       "      <td>1</td>\n",
       "      <td>0</td>\n",
       "      <td>False</td>\n",
       "      <td>False</td>\n",
       "    </tr>\n",
       "    <tr>\n",
       "      <th>2</th>\n",
       "      <td>0</td>\n",
       "      <td>-0.404988</td>\n",
       "      <td>-0.612172</td>\n",
       "      <td>1</td>\n",
       "      <td>0</td>\n",
       "      <td>0</td>\n",
       "      <td>0</td>\n",
       "      <td>0</td>\n",
       "      <td>0</td>\n",
       "      <td>0</td>\n",
       "      <td>-0.850415</td>\n",
       "      <td>False</td>\n",
       "      <td>False</td>\n",
       "      <td>1.0</td>\n",
       "      <td>0</td>\n",
       "      <td>0</td>\n",
       "      <td>True</td>\n",
       "      <td>False</td>\n",
       "    </tr>\n",
       "    <tr>\n",
       "      <th>3</th>\n",
       "      <td>1</td>\n",
       "      <td>-0.404988</td>\n",
       "      <td>0.978829</td>\n",
       "      <td>1</td>\n",
       "      <td>1</td>\n",
       "      <td>1</td>\n",
       "      <td>1</td>\n",
       "      <td>0</td>\n",
       "      <td>1</td>\n",
       "      <td>1</td>\n",
       "      <td>1.492562</td>\n",
       "      <td>False</td>\n",
       "      <td>False</td>\n",
       "      <td>3.0</td>\n",
       "      <td>1</td>\n",
       "      <td>0</td>\n",
       "      <td>False</td>\n",
       "      <td>False</td>\n",
       "    </tr>\n",
       "    <tr>\n",
       "      <th>4</th>\n",
       "      <td>1</td>\n",
       "      <td>-0.404988</td>\n",
       "      <td>1.774330</td>\n",
       "      <td>0</td>\n",
       "      <td>0</td>\n",
       "      <td>1</td>\n",
       "      <td>1</td>\n",
       "      <td>1</td>\n",
       "      <td>1</td>\n",
       "      <td>1</td>\n",
       "      <td>1.175095</td>\n",
       "      <td>False</td>\n",
       "      <td>True</td>\n",
       "      <td>2.0</td>\n",
       "      <td>1</td>\n",
       "      <td>0</td>\n",
       "      <td>True</td>\n",
       "      <td>False</td>\n",
       "    </tr>\n",
       "    <tr>\n",
       "      <th>...</th>\n",
       "      <td>...</td>\n",
       "      <td>...</td>\n",
       "      <td>...</td>\n",
       "      <td>...</td>\n",
       "      <td>...</td>\n",
       "      <td>...</td>\n",
       "      <td>...</td>\n",
       "      <td>...</td>\n",
       "      <td>...</td>\n",
       "      <td>...</td>\n",
       "      <td>...</td>\n",
       "      <td>...</td>\n",
       "      <td>...</td>\n",
       "      <td>...</td>\n",
       "      <td>...</td>\n",
       "      <td>...</td>\n",
       "      <td>...</td>\n",
       "      <td>...</td>\n",
       "    </tr>\n",
       "    <tr>\n",
       "      <th>7413</th>\n",
       "      <td>1</td>\n",
       "      <td>-0.404988</td>\n",
       "      <td>-0.319093</td>\n",
       "      <td>1</td>\n",
       "      <td>1</td>\n",
       "      <td>1</td>\n",
       "      <td>1</td>\n",
       "      <td>1</td>\n",
       "      <td>1</td>\n",
       "      <td>1</td>\n",
       "      <td>-0.129515</td>\n",
       "      <td>False</td>\n",
       "      <td>False</td>\n",
       "      <td>3.0</td>\n",
       "      <td>0</td>\n",
       "      <td>0</td>\n",
       "      <td>False</td>\n",
       "      <td>False</td>\n",
       "    </tr>\n",
       "    <tr>\n",
       "      <th>7414</th>\n",
       "      <td>1</td>\n",
       "      <td>0.776373</td>\n",
       "      <td>-0.863383</td>\n",
       "      <td>1</td>\n",
       "      <td>0</td>\n",
       "      <td>1</td>\n",
       "      <td>1</td>\n",
       "      <td>0</td>\n",
       "      <td>1</td>\n",
       "      <td>1</td>\n",
       "      <td>-0.603227</td>\n",
       "      <td>False</td>\n",
       "      <td>False</td>\n",
       "      <td>3.0</td>\n",
       "      <td>0</td>\n",
       "      <td>0</td>\n",
       "      <td>False</td>\n",
       "      <td>False</td>\n",
       "    </tr>\n",
       "    <tr>\n",
       "      <th>7415</th>\n",
       "      <td>0</td>\n",
       "      <td>-0.404988</td>\n",
       "      <td>0.936961</td>\n",
       "      <td>1</td>\n",
       "      <td>1</td>\n",
       "      <td>1</td>\n",
       "      <td>1</td>\n",
       "      <td>1</td>\n",
       "      <td>1</td>\n",
       "      <td>1</td>\n",
       "      <td>0.973270</td>\n",
       "      <td>True</td>\n",
       "      <td>False</td>\n",
       "      <td>3.0</td>\n",
       "      <td>1</td>\n",
       "      <td>0</td>\n",
       "      <td>False</td>\n",
       "      <td>False</td>\n",
       "    </tr>\n",
       "    <tr>\n",
       "      <th>7416</th>\n",
       "      <td>1</td>\n",
       "      <td>-0.404988</td>\n",
       "      <td>0.811355</td>\n",
       "      <td>1</td>\n",
       "      <td>1</td>\n",
       "      <td>1</td>\n",
       "      <td>1</td>\n",
       "      <td>1</td>\n",
       "      <td>1</td>\n",
       "      <td>1</td>\n",
       "      <td>1.281337</td>\n",
       "      <td>False</td>\n",
       "      <td>False</td>\n",
       "      <td>0.0</td>\n",
       "      <td>1</td>\n",
       "      <td>0</td>\n",
       "      <td>False</td>\n",
       "      <td>False</td>\n",
       "    </tr>\n",
       "    <tr>\n",
       "      <th>7417</th>\n",
       "      <td>0</td>\n",
       "      <td>-0.404988</td>\n",
       "      <td>-1.198331</td>\n",
       "      <td>1</td>\n",
       "      <td>0</td>\n",
       "      <td>1</td>\n",
       "      <td>0</td>\n",
       "      <td>0</td>\n",
       "      <td>1</td>\n",
       "      <td>1</td>\n",
       "      <td>-0.953305</td>\n",
       "      <td>False</td>\n",
       "      <td>False</td>\n",
       "      <td>0.0</td>\n",
       "      <td>0</td>\n",
       "      <td>0</td>\n",
       "      <td>False</td>\n",
       "      <td>False</td>\n",
       "    </tr>\n",
       "  </tbody>\n",
       "</table>\n",
       "<p>7418 rows × 18 columns</p>\n",
       "</div>"
      ],
      "text/plain": [
       "      Married  Number_of_Dependents  Tenure_in_Months  Phone_Service  \\\n",
       "0           0             -0.404988         -1.072726              1   \n",
       "1           1             -0.404988          0.267065              1   \n",
       "2           0             -0.404988         -0.612172              1   \n",
       "3           1             -0.404988          0.978829              1   \n",
       "4           1             -0.404988          1.774330              0   \n",
       "...       ...                   ...               ...            ...   \n",
       "7413        1             -0.404988         -0.319093              1   \n",
       "7414        1              0.776373         -0.863383              1   \n",
       "7415        0             -0.404988          0.936961              1   \n",
       "7416        1             -0.404988          0.811355              1   \n",
       "7417        0             -0.404988         -1.198331              1   \n",
       "\n",
       "      Multiple_Lines  Internet_Service  Streaming_Movies  Streaming_Music  \\\n",
       "0                  0                 0                 0                0   \n",
       "1                  1                 1                 1                1   \n",
       "2                  0                 0                 0                0   \n",
       "3                  1                 1                 1                0   \n",
       "4                  0                 1                 1                1   \n",
       "...              ...               ...               ...              ...   \n",
       "7413               1                 1                 1                1   \n",
       "7414               0                 1                 1                0   \n",
       "7415               1                 1                 1                1   \n",
       "7416               1                 1                 1                1   \n",
       "7417               0                 1                 0                0   \n",
       "\n",
       "      Unlimited_Data  Paperless_Billing  Total_Charges  Contract_OneYear  \\\n",
       "0                  0                  1      -0.960524             False   \n",
       "1                  1                  1       0.581754             False   \n",
       "2                  0                  0      -0.850415             False   \n",
       "3                  1                  1       1.492562             False   \n",
       "4                  1                  1       1.175095             False   \n",
       "...              ...                ...            ...               ...   \n",
       "7413               1                  1      -0.129515             False   \n",
       "7414               1                  1      -0.603227             False   \n",
       "7415               1                  1       0.973270              True   \n",
       "7416               1                  1       1.281337             False   \n",
       "7417               1                  1      -0.953305             False   \n",
       "\n",
       "      Contract_TwoYear  AgeRange  is_loyal  Dependents_cat  \\\n",
       "0                False       2.0         0               0   \n",
       "1                False       2.0         1               0   \n",
       "2                False       1.0         0               0   \n",
       "3                False       3.0         1               0   \n",
       "4                 True       2.0         1               0   \n",
       "...                ...       ...       ...             ...   \n",
       "7413             False       3.0         0               0   \n",
       "7414             False       3.0         0               0   \n",
       "7415             False       3.0         1               0   \n",
       "7416             False       0.0         1               0   \n",
       "7417             False       0.0         0               0   \n",
       "\n",
       "      Payment_Method_Credit Card  Payment_Method_Mailed Check  \n",
       "0                           True                        False  \n",
       "1                          False                        False  \n",
       "2                           True                        False  \n",
       "3                          False                        False  \n",
       "4                           True                        False  \n",
       "...                          ...                          ...  \n",
       "7413                       False                        False  \n",
       "7414                       False                        False  \n",
       "7415                       False                        False  \n",
       "7416                       False                        False  \n",
       "7417                       False                        False  \n",
       "\n",
       "[7418 rows x 18 columns]"
      ]
     },
     "execution_count": 66,
     "metadata": {},
     "output_type": "execute_result"
    }
   ],
   "source": [
    "X1_train"
   ]
  },
  {
   "cell_type": "code",
   "execution_count": 67,
   "metadata": {
    "id": "Ij4UkgeziYLP"
   },
   "outputs": [],
   "source": [
    "#Logistic Regression\n",
    "lgr = LogisticRegression(max_iter=1000)\n",
    "lgr.fit(X1_train,y1_train)\n",
    "y1_pred = lgr.predict(X1_test)"
   ]
  },
  {
   "cell_type": "code",
   "execution_count": 68,
   "metadata": {
    "colab": {
     "base_uri": "https://localhost:8080/"
    },
    "id": "2uSW7EAtiYOp",
    "outputId": "071dc961-77d8-40cf-f983-598f71299916"
   },
   "outputs": [
    {
     "name": "stdout",
     "output_type": "stream",
     "text": [
      "              precision    recall  f1-score   support\n",
      "\n",
      "       False       0.90      0.80      0.85       927\n",
      "        True       0.61      0.79      0.69       368\n",
      "\n",
      "    accuracy                           0.80      1295\n",
      "   macro avg       0.76      0.79      0.77      1295\n",
      "weighted avg       0.82      0.80      0.80      1295\n",
      "\n"
     ]
    }
   ],
   "source": [
    "#Classification Report\n",
    "print(classification_report(y1_test,y1_pred))"
   ]
  },
  {
   "cell_type": "code",
   "execution_count": 69,
   "metadata": {
    "colab": {
     "base_uri": "https://localhost:8080/"
    },
    "id": "EAoYex6_itB3",
    "outputId": "04f27a1c-380a-463e-dbe5-b7e9b1906c9d"
   },
   "outputs": [
    {
     "name": "stdout",
     "output_type": "stream",
     "text": [
      "The F1 Score is: 0.69\n"
     ]
    }
   ],
   "source": [
    "#f1 Score of Churned prediction, Churned = 1\n",
    "f2 = f1_score(y1_test,y1_pred,average = None).round(2)[1]\n",
    "\n",
    "print(\"The F1 Score is:\", f2)"
   ]
  },
  {
   "cell_type": "code",
   "execution_count": 70,
   "metadata": {
    "colab": {
     "base_uri": "https://localhost:8080/"
    },
    "id": "CAft5OhpitE_",
    "outputId": "cb241b95-2289-4714-dc35-838313ec6e5f"
   },
   "outputs": [
    {
     "name": "stdout",
     "output_type": "stream",
     "text": [
      "The Precision is: 0.61\n"
     ]
    }
   ],
   "source": [
    "#Precision for Churned Class\n",
    "precision1 = precision_score(y1_test,y1_pred,average = None).round(2)[1]\n",
    "print(\"The Precision is:\", precision1)"
   ]
  },
  {
   "cell_type": "code",
   "execution_count": 71,
   "metadata": {
    "colab": {
     "base_uri": "https://localhost:8080/"
    },
    "id": "_gLO9ShqitIe",
    "outputId": "f9fffa3b-8fb1-4100-c3de-b8933bc2eb5c"
   },
   "outputs": [
    {
     "name": "stdout",
     "output_type": "stream",
     "text": [
      "The Recall is: 0.79\n"
     ]
    }
   ],
   "source": [
    "#Recall for Churned class\n",
    "recall1 = recall_score(y1_test,y1_pred,average = None).round(2)[1]\n",
    "print(\"The Recall is:\", recall1)"
   ]
  },
  {
   "cell_type": "code",
   "execution_count": 72,
   "metadata": {
    "colab": {
     "base_uri": "https://localhost:8080/",
     "height": 143
    },
    "id": "WqNciXLNitMT",
    "outputId": "63845e23-6191-4e75-92fa-0283a6e91430"
   },
   "outputs": [
    {
     "data": {
      "text/html": [
       "<div>\n",
       "<style scoped>\n",
       "    .dataframe tbody tr th:only-of-type {\n",
       "        vertical-align: middle;\n",
       "    }\n",
       "\n",
       "    .dataframe tbody tr th {\n",
       "        vertical-align: top;\n",
       "    }\n",
       "\n",
       "    .dataframe thead th {\n",
       "        text-align: right;\n",
       "    }\n",
       "</style>\n",
       "<table border=\"1\" class=\"dataframe\">\n",
       "  <thead>\n",
       "    <tr style=\"text-align: right;\">\n",
       "      <th>Predicted</th>\n",
       "      <th>False</th>\n",
       "      <th>True</th>\n",
       "    </tr>\n",
       "    <tr>\n",
       "      <th>Real</th>\n",
       "      <th></th>\n",
       "      <th></th>\n",
       "    </tr>\n",
       "  </thead>\n",
       "  <tbody>\n",
       "    <tr>\n",
       "      <th>False</th>\n",
       "      <td>0.799353</td>\n",
       "      <td>0.200647</td>\n",
       "    </tr>\n",
       "    <tr>\n",
       "      <th>True</th>\n",
       "      <td>0.211957</td>\n",
       "      <td>0.788043</td>\n",
       "    </tr>\n",
       "  </tbody>\n",
       "</table>\n",
       "</div>"
      ],
      "text/plain": [
       "Predicted     False     True \n",
       "Real                         \n",
       "False      0.799353  0.200647\n",
       "True       0.211957  0.788043"
      ]
     },
     "execution_count": 72,
     "metadata": {},
     "output_type": "execute_result"
    }
   ],
   "source": [
    "#Confusion Matrix\n",
    "conf_matrix1 = pd.crosstab(y1_test,y1_pred,rownames=['Real'],colnames=['Predicted'],normalize='index')\n",
    "conf_matrix1"
   ]
  },
  {
   "cell_type": "code",
   "execution_count": 73,
   "metadata": {
    "colab": {
     "base_uri": "https://localhost:8080/",
     "height": 406
    },
    "id": "9-qtmWByi3l5",
    "outputId": "fd43a0d4-af32-4c0b-e9ce-3c59ac3b15da"
   },
   "outputs": [
    {
     "data": {
      "text/plain": [
       "<Axes: xlabel='Predicted', ylabel='Real'>"
      ]
     },
     "execution_count": 73,
     "metadata": {},
     "output_type": "execute_result"
    },
    {
     "data": {
      "image/png": "[encoded data removed]",
      "text/plain": [
       "<Figure size 600x400 with 1 Axes>"
      ]
     },
     "metadata": {},
     "output_type": "display_data"
    }
   ],
   "source": [
    "#Plotting Confusion matrix\n",
    "plt.figure(figsize=(6, 4))\n",
    "sns.heatmap(conf_matrix1, fmt='.2f', annot=True, cmap=\"YlGnBu\", cbar=False)"
   ]
  },
  {
   "cell_type": "markdown",
   "metadata": {
    "id": "13IlAJCzi87Q"
   },
   "source": [
    "As observed from the confusion matrix, 79% of actual churned class is predicted correctly and 21% of actually churned data is predicted as not churned which is a good result."
   ]
  },
  {
   "cell_type": "markdown",
   "metadata": {
    "id": "Zt8Ui0QNBk0p"
   },
   "source": [
    "**Gain Chart**"
   ]
  },
  {
   "cell_type": "code",
   "execution_count": 74,
   "metadata": {
    "colab": {
     "base_uri": "https://localhost:8080/",
     "height": 487
    },
    "id": "4VZnAzvtBfN0",
    "outputId": "bea3fc10-b57e-453d-af44-1cd22c5b3c6a"
   },
   "outputs": [
    {
     "data": {
      "image/png": "[encoded data removed]",
      "text/plain": [
       "<Figure size 1300x600 with 1 Axes>"
      ]
     },
     "metadata": {},
     "output_type": "display_data"
    }
   ],
   "source": [
    "# The usual train-test split mumbo-jumbo\n",
    "from sklearn.naive_bayes import GaussianNB\n",
    "\n",
    "nb = GaussianNB()\n",
    "nb.fit(X1_train, y1_train)\n",
    "predicted_probas1 = nb.predict_proba(X1_test)\n",
    "\n",
    "# The magic happens here\n",
    "import matplotlib.pyplot as plt\n",
    "import scikitplot as skplt\n",
    "skplt.metrics.plot_cumulative_gain(y1_test, predicted_probas1)\n",
    "plt.show()"
   ]
  },
  {
   "cell_type": "markdown",
   "metadata": {
    "id": "TlQ353-YjA8i"
   },
   "source": [
    "**Analysing the SMOTE results**"
   ]
  },
  {
   "cell_type": "markdown",
   "metadata": {
    "id": "BPgpfD4GjGCO"
   },
   "source": [
    "The F1 score for baseline model and SMOTE model are the same which is 72%.\n",
    "Comparing the baseline mdoel, the precision for SMOTE model reduced to 64% from 77%.\n",
    "The Recall however increased from 75% to 79% which tells us that churned class prediction has improved by 4%.\n",
    "The incorrect prediction of actual churn as not-churned reduced from 28% to 21% which is a remarkable improvement as well.\n",
    "The gain chart area is bigger but not as great as baseline model."
   ]
  },
  {
   "cell_type": "markdown",
   "metadata": {
    "id": "FX0PTidX44jv"
   },
   "source": [
    "**Performance Comparison**"
   ]
  },
  {
   "cell_type": "code",
   "execution_count": 75,
   "metadata": {
    "id": "usc2VStpi3pT"
   },
   "outputs": [],
   "source": [
    "f1 = pd.DataFrame.from_records({'Baseline':[f1], 'Hypertuned':[f_score], 'SMOTE': [f2]})\n",
    "precision = pd.DataFrame.from_dict({'Baseline':[precision], 'Hypertuned':[prec], 'SMOTE': [precision1]})\n",
    "recall = pd.DataFrame.from_dict({'Baseline':[recall], 'Hypertuned':[rec], 'SMOTE': [recall1]})"
   ]
  },
  {
   "cell_type": "code",
   "execution_count": 76,
   "metadata": {
    "colab": {
     "base_uri": "https://localhost:8080/",
     "height": 711
    },
    "id": "wzLm42uyi3tT",
    "outputId": "2b64ef57-7c90-4c73-f937-a07f13b33de7"
   },
   "outputs": [
    {
     "name": "stdout",
     "output_type": "stream",
     "text": [
      "Maximum scores\n"
     ]
    },
    {
     "data": {
      "image/png": "[encoded data removed]",
      "text/plain": [
       "<Figure size 2000x800 with 3 Axes>"
      ]
     },
     "metadata": {},
     "output_type": "display_data"
    }
   ],
   "source": [
    "fig,axes = plt.subplots(1,3,figsize=(20,8))\n",
    "\n",
    "\n",
    "custom_colors = ['#25383C', '#C19A6B', '#C0C0C0']\n",
    "\n",
    "#f1 plot\n",
    "axes.flat[0].set_title('f1_score')\n",
    "f1.plot.bar(ax=axes.flat[0], color=custom_colors);\n",
    "axes.flat[0].set_ylim(0, 1)\n",
    "\n",
    "#precision plot\n",
    "axes.flat[1].set_title('precision')\n",
    "precision.plot.bar(ax=axes.flat[1], color=custom_colors);\n",
    "axes.flat[1].set_ylim(0, 1)\n",
    "\n",
    "#recall plot\n",
    "axes.flat[2].set_title('recall')\n",
    "recall.plot.bar(ax=axes.flat[2], color=custom_colors);\n",
    "axes.flat[2].set_ylim(0, 1)\n",
    "\n",
    "print('Maximum scores')\n",
    "#pd.concat([f1.idxmax().rename('model'),f1.max().rename('f1'),precision.idxmax().rename('model'),precision.max().rename('precision'),recall.idxmax().rename('model'),recall.max().rename('recall')],axis=1)\n"
   ]
  },
  {
   "cell_type": "markdown",
   "metadata": {
    "id": "uPZwizu6C0gk"
   },
   "source": [
    "Looking at the plot, baseline model has a balanced f1_score, precision and recall."
   ]
  }
 ],
 "metadata": {
  "colab": {
   "provenance": []
  },
  "kernelspec": {
   "display_name": "Python 3 (ipykernel)",
   "language": "python",
   "name": "python3"
  },
  "language_info": {
   "codemirror_mode": {
    "name": "ipython",
    "version": 3
   },
   "file_extension": ".py",
   "mimetype": "text/x-python",
   "name": "python",
   "nbconvert_exporter": "python",
   "pygments_lexer": "ipython3",
   "version": "3.11.5"
  }
 },
 "nbformat": 4,
 "nbformat_minor": 1
}
